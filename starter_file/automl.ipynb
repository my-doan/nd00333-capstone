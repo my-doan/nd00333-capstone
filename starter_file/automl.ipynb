{
 "cells": [
  {
   "cell_type": "markdown",
   "metadata": {},
   "source": [
    "# Automated ML\n",
    "\n",
    "TODO: Import Dependencies. In the cell below, import all the dependencies that you will need to complete the project."
   ]
  },
  {
   "cell_type": "code",
   "execution_count": 1,
   "metadata": {
    "gather": {
     "logged": 1598423888013
    },
    "jupyter": {
     "outputs_hidden": false,
     "source_hidden": false
    },
    "nteract": {
     "transient": {
      "deleting": false
     }
    }
   },
   "outputs": [
    {
     "name": "stdout",
     "output_type": "stream",
     "text": [
      "SDK version: 1.51.0\n"
     ]
    }
   ],
   "source": [
    "import pandas as pd\n",
    "import numpy as np\n",
    "from sklearn import datasets\n",
    "import pkg_resources\n",
    "import azureml.core\n",
    "from azureml.widgets import RunDetails\n",
    "from azureml.core.compute import AmlCompute, ComputeTarget\n",
    "from azureml.core.compute_target import ComputeTargetException\n",
    "from azureml.core.experiment import Experiment\n",
    "from azureml.core.workspace import Workspace\n",
    "from azureml.train.automl import AutoMLConfig\n",
    "from azureml.core.dataset import Dataset\n",
    "from azureml.core.datastore import Datastore\n",
    "from azureml.pipeline.steps import AutoMLStep\n",
    "from azureml.core.model import Model, InferenceConfig\n",
    "from azureml.core.resource_configuration import ResourceConfiguration\n",
    "from azureml.core import Environment\n",
    "from azureml.core.webservice import AciWebservice\n",
    "import requests\n",
    "import json\n",
    "\n",
    "print(\"SDK version:\", azureml.core.VERSION)"
   ]
  },
  {
   "cell_type": "code",
   "execution_count": 2,
   "metadata": {},
   "outputs": [
    {
     "name": "stdout",
     "output_type": "stream",
     "text": [
      "Name: azureml-widgets\n",
      "Version: 1.51.0\n",
      "Summary: Provides fully supported, with interactivity, async auto-updates, and non-blocking cell execution.\n",
      "Home-page: https://docs.microsoft.com/python/api/overview/azure/ml/?view=azure-ml-py\n",
      "Author: Microsoft Corp\n",
      "Author-email: None\n",
      "License: https://aka.ms/azureml-sdk-license\n",
      "Location: /anaconda/envs/azureml_py38/lib/python3.8/site-packages\n",
      "Requires: azure-storage-blob, ipywidgets, azureml-telemetry, jinja2, azureml-core\n",
      "Required-by: \n",
      "Note: you may need to restart the kernel to use updated packages.\n"
     ]
    }
   ],
   "source": [
    "pip show azureml-widgets"
   ]
  },
  {
   "cell_type": "markdown",
   "metadata": {},
   "source": [
    "## Dataset\n",
    "\n",
    "### Overview\n",
    "TODO: In this markdown cell, give an overview of the dataset you are using. Also mention the task you will be performing.\n",
    "\n",
    "\n",
    "TODO: Get data. In the cell below, write code to access the data you will be using in this project. Remember that the dataset needs to be external."
   ]
  },
  {
   "cell_type": "code",
   "execution_count": 2,
   "metadata": {},
   "outputs": [],
   "source": [
    "myenv = Environment(name = \"myenv\")"
   ]
  },
  {
   "cell_type": "code",
   "execution_count": 3,
   "metadata": {
    "gather": {
     "logged": 1598423890461
    },
    "jupyter": {
     "outputs_hidden": false,
     "source_hidden": false
    },
    "nteract": {
     "transient": {
      "deleting": false
     }
    }
   },
   "outputs": [],
   "source": [
    "ws = Workspace.from_config()\n",
    "myenv.register(workspace=ws)\n",
    "\n",
    "# choose a name for experiment\n",
    "experiment_name = 'diabetes-automl'\n",
    "\n",
    "experiment=Experiment(ws, experiment_name)"
   ]
  },
  {
   "cell_type": "code",
   "execution_count": 5,
   "metadata": {},
   "outputs": [],
   "source": [
    "dataset = Dataset.get_by_name(ws, name='diabetes')\n",
    "df = dataset.to_pandas_dataframe()"
   ]
  },
  {
   "cell_type": "markdown",
   "metadata": {},
   "source": [
    "## AutoML Configuration\n",
    "\n",
    "TODO: Explain why you chose the automl settings and cofiguration you used below."
   ]
  },
  {
   "cell_type": "code",
   "execution_count": null,
   "metadata": {},
   "outputs": [],
   "source": [
    "cluster_name = \"mimi-compute\"\n",
    "\n",
    "try:\n",
    "    aml_compute = ComputeTarget(workspace=ws, name=cluster_name)\n",
    "    print('Found existing cluster')\n",
    "except ComputeTargetException:\n",
    "    compute_config = AmlCompute.provisioning_configuration(vm_size='STANDARD_DS12_V2',\n",
    "                                                           max_nodes=4)\n",
    "    aml_compute = ComputeTarget.create(ws, cluster_name, compute_config)\n",
    "\n",
    "aml_compute.wait_for_completion(show_output=True)"
   ]
  },
  {
   "cell_type": "code",
   "execution_count": 6,
   "metadata": {
    "gather": {
     "logged": 1598429217746
    },
    "jupyter": {
     "outputs_hidden": false,
     "source_hidden": false
    },
    "nteract": {
     "transient": {
      "deleting": false
     }
    }
   },
   "outputs": [],
   "source": [
    "# TODO: Put your automl settings here\n",
    "automl_settings = { \"experiment_timeout_minutes\": 30,\n",
    "                    \"max_concurrent_iterations\": 5,\n",
    "                    \"primary_metric\" : 'accuracy'}\n",
    "\n",
    "# TODO: Put your automl config here\n",
    "automl_config = AutoMLConfig(\n",
    "                             task = \"classification\",\n",
    "                             training_data=df,\n",
    "                             label_column_name=\"Outcome\",  \n",
    "                             enable_early_stopping= True,\n",
    "                             featurization= 'auto',\n",
    "                             debug_log = \"automl_errors.log\",\n",
    "                             **automl_settings\n",
    "                            )"
   ]
  },
  {
   "cell_type": "code",
   "execution_count": 4,
   "metadata": {
    "gather": {
     "logged": 1598431107951
    },
    "jupyter": {
     "outputs_hidden": false,
     "source_hidden": false
    },
    "nteract": {
     "transient": {
      "deleting": false
     }
    }
   },
   "outputs": [],
   "source": [
    "# TODO: Submit your experiment\n",
    "from azureml.train.automl.run import AutoMLRun\n",
    "remote_run = AutoMLRun(experiment = experiment, run_id = 'AutoML_a0374017-59bc-4daa-8829-8ef9c172030b')"
   ]
  },
  {
   "cell_type": "markdown",
   "metadata": {},
   "source": [
    "## Run Details\n",
    "\n",
    "OPTIONAL: Write about the different models trained and their performance. Why do you think some models did better than others?\n",
    "\n",
    "TODO: In the cell below, use the `RunDetails` widget to show the different experiments."
   ]
  },
  {
   "cell_type": "code",
   "execution_count": null,
   "metadata": {},
   "outputs": [],
   "source": [
    "print(remote_run.get_file_names())"
   ]
  },
  {
   "cell_type": "code",
   "execution_count": null,
   "metadata": {},
   "outputs": [],
   "source": [
    "print(azureml.core.VERSION)"
   ]
  },
  {
   "cell_type": "code",
   "execution_count": 5,
   "metadata": {
    "gather": {
     "logged": 1598431121770
    },
    "jupyter": {
     "outputs_hidden": false,
     "source_hidden": false
    },
    "nteract": {
     "transient": {
      "deleting": false
     }
    }
   },
   "outputs": [
    {
     "data": {
      "application/vnd.jupyter.widget-view+json": {
       "model_id": "9afc9e35883445d397b3bbeef6790e0d",
       "version_major": 2,
       "version_minor": 0
      },
      "text/plain": [
       "_AutoMLWidget(widget_settings={'childWidgetDisplay': 'popup', 'send_telemetry': False, 'log_level': 'INFO', 's…"
      ]
     },
     "metadata": {},
     "output_type": "display_data"
    },
    {
     "data": {
      "application/aml.mini.widget.v1": "{\"status\": \"Completed\", \"workbench_run_details_uri\": \"https://ml.azure.com/runs/AutoML_a0374017-59bc-4daa-8829-8ef9c172030b?wsid=/subscriptions/81cefad3-d2c9-4f77-a466-99a7f541c7bb/resourcegroups/aml-quickstarts-236265/workspaces/quick-starts-ws-236265&tid=660b3398-b80e-49d2-bc5b-ac1dc93b5254\", \"run_id\": \"AutoML_a0374017-59bc-4daa-8829-8ef9c172030b\", \"run_properties\": {\"run_id\": \"AutoML_a0374017-59bc-4daa-8829-8ef9c172030b\", \"created_utc\": \"2023-06-21T14:34:35.336461Z\", \"properties\": {\"num_iterations\": \"1000\", \"training_type\": \"TrainFull\", \"acquisition_function\": \"EI\", \"primary_metric\": \"accuracy\", \"train_split\": \"0\", \"acquisition_parameter\": \"0\", \"num_cross_validation\": null, \"target\": \"local\", \"AMLSettingsJsonString\": \"{\\\"path\\\":null,\\\"name\\\":\\\"diabetes-automl\\\",\\\"subscription_id\\\":\\\"81cefad3-d2c9-4f77-a466-99a7f541c7bb\\\",\\\"resource_group\\\":\\\"aml-quickstarts-236265\\\",\\\"workspace_name\\\":\\\"quick-starts-ws-236265\\\",\\\"region\\\":\\\"westeurope\\\",\\\"compute_target\\\":\\\"local\\\",\\\"spark_service\\\":null,\\\"azure_service\\\":\\\"Microsoft.AzureNotebookVM\\\",\\\"many_models\\\":false,\\\"pipeline_fetch_max_batch_size\\\":1,\\\"enable_batch_run\\\":false,\\\"enable_parallel_run\\\":false,\\\"num_procs\\\":null,\\\"enable_run_restructure\\\":false,\\\"start_auxiliary_runs_before_parent_complete\\\":false,\\\"enable_code_generation\\\":true,\\\"iterations\\\":1000,\\\"primary_metric\\\":\\\"accuracy\\\",\\\"task_type\\\":\\\"classification\\\",\\\"positive_label\\\":null,\\\"data_script\\\":null,\\\"test_size\\\":0.0,\\\"test_include_predictions_only\\\":false,\\\"validation_size\\\":0.0,\\\"n_cross_validations\\\":null,\\\"y_min\\\":null,\\\"y_max\\\":null,\\\"num_classes\\\":null,\\\"featurization\\\":\\\"auto\\\",\\\"_ignore_package_version_incompatibilities\\\":false,\\\"is_timeseries\\\":false,\\\"max_cores_per_iteration\\\":1,\\\"max_concurrent_iterations\\\":5,\\\"iteration_timeout_minutes\\\":null,\\\"mem_in_mb\\\":null,\\\"enforce_time_on_windows\\\":false,\\\"experiment_timeout_minutes\\\":30,\\\"experiment_exit_score\\\":null,\\\"partition_column_names\\\":null,\\\"whitelist_models\\\":null,\\\"blacklist_algos\\\":[\\\"TensorFlowLinearClassifier\\\",\\\"TensorFlowDNN\\\"],\\\"supported_models\\\":[\\\"DecisionTree\\\",\\\"LightGBM\\\",\\\"MultinomialNaiveBayes\\\",\\\"GradientBoosting\\\",\\\"ExtremeRandomTrees\\\",\\\"TensorFlowLinearClassifier\\\",\\\"TensorFlowDNN\\\",\\\"KNN\\\",\\\"LogisticRegression\\\",\\\"AveragedPerceptronClassifier\\\",\\\"RandomForest\\\",\\\"SGD\\\",\\\"TabnetClassifier\\\",\\\"XGBoostClassifier\\\",\\\"LinearSVM\\\",\\\"SVM\\\",\\\"BernoulliNaiveBayes\\\"],\\\"private_models\\\":[],\\\"auto_blacklist\\\":true,\\\"blacklist_samples_reached\\\":false,\\\"exclude_nan_labels\\\":true,\\\"verbosity\\\":20,\\\"_debug_log\\\":\\\"automl_errors.log\\\",\\\"show_warnings\\\":false,\\\"model_explainability\\\":true,\\\"service_url\\\":null,\\\"sdk_url\\\":null,\\\"sdk_packages\\\":null,\\\"enable_onnx_compatible_models\\\":false,\\\"enable_split_onnx_featurizer_estimator_models\\\":false,\\\"vm_type\\\":null,\\\"telemetry_verbosity\\\":20,\\\"send_telemetry\\\":true,\\\"enable_dnn\\\":false,\\\"scenario\\\":\\\"AutoML\\\",\\\"environment_label\\\":null,\\\"save_mlflow\\\":false,\\\"enable_categorical_indicators\\\":false,\\\"force_text_dnn\\\":false,\\\"enable_feature_sweeping\\\":true,\\\"enable_early_stopping\\\":true,\\\"early_stopping_n_iters\\\":10,\\\"arguments\\\":null,\\\"dataset_id\\\":null,\\\"hyperdrive_config\\\":null,\\\"validation_dataset_id\\\":null,\\\"run_source\\\":null,\\\"metrics\\\":null,\\\"enable_metric_confidence\\\":false,\\\"enable_ensembling\\\":true,\\\"enable_stack_ensembling\\\":true,\\\"ensemble_iterations\\\":15,\\\"enable_tf\\\":false,\\\"enable_subsampling\\\":null,\\\"subsample_seed\\\":null,\\\"enable_nimbusml\\\":false,\\\"enable_streaming\\\":false,\\\"force_streaming\\\":false,\\\"track_child_runs\\\":true,\\\"n_best_runs\\\":1,\\\"allowed_private_models\\\":[],\\\"label_column_name\\\":\\\"Outcome\\\",\\\"weight_column_name\\\":null,\\\"cv_split_column_names\\\":null,\\\"enable_local_managed\\\":false,\\\"_local_managed_run_id\\\":null,\\\"cost_mode\\\":1,\\\"lag_length\\\":0,\\\"metric_operation\\\":\\\"maximize\\\",\\\"preprocess\\\":true}\", \"DataPrepJsonString\": null, \"EnableSubsampling\": null, \"runTemplate\": \"AutoML\", \"azureml.runsource\": \"automl\", \"display_task_type\": \"classification\", \"dependencies_versions\": \"{\\\"azureml-widgets\\\": \\\"1.49.0\\\", \\\"azureml-training-tabular\\\": \\\"1.49.0\\\", \\\"azureml-train\\\": \\\"1.49.0\\\", \\\"azureml-train-restclients-hyperdrive\\\": \\\"1.49.0\\\", \\\"azureml-train-core\\\": \\\"1.49.0\\\", \\\"azureml-train-automl\\\": \\\"1.49.0\\\", \\\"azureml-train-automl-runtime\\\": \\\"1.49.0\\\", \\\"azureml-train-automl-client\\\": \\\"1.49.0\\\", \\\"azureml-tensorboard\\\": \\\"1.49.0\\\", \\\"azureml-telemetry\\\": \\\"1.49.0\\\", \\\"azureml-sdk\\\": \\\"1.49.0\\\", \\\"azureml-responsibleai\\\": \\\"1.49.0\\\", \\\"azureml-pipeline\\\": \\\"1.49.0\\\", \\\"azureml-pipeline-steps\\\": \\\"1.49.0\\\", \\\"azureml-pipeline-core\\\": \\\"1.49.0\\\", \\\"azureml-opendatasets\\\": \\\"1.49.0\\\", \\\"azureml-mlflow\\\": \\\"1.49.0\\\", \\\"azureml-interpret\\\": \\\"1.49.0\\\", \\\"azureml-inference-server-http\\\": \\\"0.8.0\\\", \\\"azureml-explain-model\\\": \\\"1.49.0\\\", \\\"azureml-defaults\\\": \\\"1.49.0\\\", \\\"azureml-dataset-runtime\\\": \\\"1.49.0\\\", \\\"azureml-dataprep\\\": \\\"4.9.1\\\", \\\"azureml-dataprep-rslex\\\": \\\"2.16.1\\\", \\\"azureml-dataprep-native\\\": \\\"38.0.0\\\", \\\"azureml-datadrift\\\": \\\"1.49.0\\\", \\\"azureml-core\\\": \\\"1.49.0\\\", \\\"azureml-contrib-services\\\": \\\"1.49.0\\\", \\\"azureml-contrib-server\\\": \\\"1.49.0\\\", \\\"azureml-contrib-reinforcementlearning\\\": \\\"1.49.0\\\", \\\"azureml-contrib-pipeline-steps\\\": \\\"1.49.0\\\", \\\"azureml-contrib-notebook\\\": \\\"1.49.0\\\", \\\"azureml-contrib-fairness\\\": \\\"1.49.0\\\", \\\"azureml-contrib-dataset\\\": \\\"1.49.0\\\", \\\"azureml-contrib-automl-pipeline-steps\\\": \\\"1.49.0\\\", \\\"azureml-cli-common\\\": \\\"1.49.0\\\", \\\"azureml-automl-runtime\\\": \\\"1.49.0\\\", \\\"azureml-automl-dnn-nlp\\\": \\\"1.49.0\\\", \\\"azureml-automl-core\\\": \\\"1.49.0\\\", \\\"azureml-accel-models\\\": \\\"1.49.0\\\"}\", \"_aml_system_scenario_identification\": \"Local.Parent\", \"ClientSdkVersion\": \"1.49.0\", \"ClientType\": \"SDK\", \"PlatformVersion\": \"DPV1\", \"environment_cpu_name\": \"AzureML-AutoML\", \"environment_cpu_label\": \"prod\", \"environment_gpu_name\": \"AzureML-AutoML-GPU\", \"environment_gpu_label\": \"prod\", \"root_attribution\": \"automl\", \"attribution\": \"AutoML\", \"Orchestrator\": \"AutoML\", \"_azureml.ComputeTargetType\": \"local\", \"ProblemInfoJsonString\": \"{\\\"dataset_num_categorical\\\": 0, \\\"is_sparse\\\": true, \\\"subsampling\\\": false, \\\"has_extra_col\\\": true, \\\"dataset_classes\\\": 2, \\\"dataset_features\\\": 24, \\\"dataset_samples\\\": 768, \\\"single_frequency_class_detected\\\": false}\"}, \"tags\": {\"model_explain_run\": \"best_run\", \"_aml_system_automl_run_workspace_id\": \"0cb460a9-6d83-4c4c-b84e-4bc4fd840884\", \"dynamic_allowlisting_iterations\": \"<25>;<30>;<35>;<40>;\", \"best_score\": \"0.7826042378673957\", \"best_pipeline\": \"VotingEnsemble\", \"automl_best_child_run_id\": \"AutoML_a0374017-59bc-4daa-8829-8ef9c172030b_45\", \"model_explain_best_run_child_id\": \"AutoML_a0374017-59bc-4daa-8829-8ef9c172030b_45\"}, \"end_time_utc\": \"2023-06-21T15:06:45.605863Z\", \"status\": \"Completed\", \"log_files\": {}, \"log_groups\": [], \"run_duration\": \"0:32:10\", \"run_number\": \"1687358075\", \"run_queued_details\": {\"status\": \"Completed\", \"details\": null}}, \"child_runs\": [{\"run_id\": \"AutoML_a0374017-59bc-4daa-8829-8ef9c172030b_0\", \"run_number\": 1687358241, \"metric\": null, \"status\": \"Completed\", \"run_type\": null, \"training_percent\": \"100\", \"start_time\": \"2023-06-21T14:37:21.868732Z\", \"end_time\": \"2023-06-21T14:37:55.58549Z\", \"created_time\": \"2023-06-21T14:37:21.655629Z\", \"created_time_dt\": \"2023-06-21T14:37:21.655629Z\", \"duration\": \"0:00:33\", \"iteration\": \"0\", \"goal\": \"accuracy_max\", \"run_name\": \"MaxAbsScaler, LightGBM\", \"run_properties\": \"copy=True\", \"primary_metric\": 0.74087491, \"best_metric\": 0.74087491}, {\"run_id\": \"AutoML_a0374017-59bc-4daa-8829-8ef9c172030b_1\", \"run_number\": 1687358276, \"metric\": null, \"status\": \"Completed\", \"run_type\": null, \"training_percent\": \"100\", \"start_time\": \"2023-06-21T14:37:56.303031Z\", \"end_time\": \"2023-06-21T14:38:30.089262Z\", \"created_time\": \"2023-06-21T14:37:56.059152Z\", \"created_time_dt\": \"2023-06-21T14:37:56.059152Z\", \"duration\": \"0:00:34\", \"iteration\": \"1\", \"goal\": \"accuracy_max\", \"run_name\": \"MaxAbsScaler, XGBoostClassifier\", \"run_properties\": \"copy=True\", \"primary_metric\": 0.74993165, \"best_metric\": 0.74993165}, {\"run_id\": \"AutoML_a0374017-59bc-4daa-8829-8ef9c172030b_2\", \"run_number\": 1687358310, \"metric\": null, \"status\": \"Completed\", \"run_type\": null, \"training_percent\": \"100\", \"start_time\": \"2023-06-21T14:38:31.259242Z\", \"end_time\": \"2023-06-21T14:39:05.742766Z\", \"created_time\": \"2023-06-21T14:38:30.978986Z\", \"created_time_dt\": \"2023-06-21T14:38:30.978986Z\", \"duration\": \"0:00:34\", \"iteration\": \"2\", \"goal\": \"accuracy_max\", \"run_name\": \"MaxAbsScaler, ExtremeRandomTrees\", \"run_properties\": \"copy=True\", \"primary_metric\": 0.71883117, \"best_metric\": 0.74993165}, {\"run_id\": \"AutoML_a0374017-59bc-4daa-8829-8ef9c172030b_3\", \"run_number\": 1687358347, \"metric\": null, \"status\": \"Completed\", \"run_type\": null, \"training_percent\": \"100\", \"start_time\": \"2023-06-21T14:39:08.124625Z\", \"end_time\": \"2023-06-21T14:39:40.108432Z\", \"created_time\": \"2023-06-21T14:39:07.899347Z\", \"created_time_dt\": \"2023-06-21T14:39:07.899347Z\", \"duration\": \"0:00:32\", \"iteration\": \"3\", \"goal\": \"accuracy_max\", \"run_name\": \"SparseNormalizer, XGBoostClassifier\", \"run_properties\": \"copy=True, norm='l2'\", \"primary_metric\": 0.68622693, \"best_metric\": 0.74993165}, {\"run_id\": \"AutoML_a0374017-59bc-4daa-8829-8ef9c172030b_4\", \"run_number\": 1687358381, \"metric\": null, \"status\": \"Completed\", \"run_type\": null, \"training_percent\": \"100\", \"start_time\": \"2023-06-21T14:39:42.05216Z\", \"end_time\": \"2023-06-21T14:40:12.681218Z\", \"created_time\": \"2023-06-21T14:39:41.795388Z\", \"created_time_dt\": \"2023-06-21T14:39:41.795388Z\", \"duration\": \"0:00:30\", \"iteration\": \"4\", \"goal\": \"accuracy_max\", \"run_name\": \"MaxAbsScaler, LightGBM\", \"run_properties\": \"copy=True\", \"primary_metric\": 0.76049214, \"best_metric\": 0.76049214}, {\"run_id\": \"AutoML_a0374017-59bc-4daa-8829-8ef9c172030b_5\", \"run_number\": 1687358414, \"metric\": null, \"status\": \"Completed\", \"run_type\": null, \"training_percent\": \"100\", \"start_time\": \"2023-06-21T14:40:14.491267Z\", \"end_time\": \"2023-06-21T14:40:45.060453Z\", \"created_time\": \"2023-06-21T14:40:14.183999Z\", \"created_time_dt\": \"2023-06-21T14:40:14.183999Z\", \"duration\": \"0:00:30\", \"iteration\": \"5\", \"goal\": \"accuracy_max\", \"run_name\": \"MaxAbsScaler, LightGBM\", \"run_properties\": \"copy=True\", \"primary_metric\": 0.68615858, \"best_metric\": 0.76049214}, {\"run_id\": \"AutoML_a0374017-59bc-4daa-8829-8ef9c172030b_6\", \"run_number\": 1687358447, \"metric\": null, \"status\": \"Completed\", \"run_type\": null, \"training_percent\": \"100\", \"start_time\": \"2023-06-21T14:40:47.56331Z\", \"end_time\": \"2023-06-21T14:41:19.178475Z\", \"created_time\": \"2023-06-21T14:40:47.322095Z\", \"created_time_dt\": \"2023-06-21T14:40:47.322095Z\", \"duration\": \"0:00:31\", \"iteration\": \"6\", \"goal\": \"accuracy_max\", \"run_name\": \"StandardScalerWrapper, XGBoostClassifier\", \"run_properties\": \"copy=True, with_mean=False, with_std=False\", \"primary_metric\": 0.740892, \"best_metric\": 0.76049214}, {\"run_id\": \"AutoML_a0374017-59bc-4daa-8829-8ef9c172030b_7\", \"run_number\": 1687358480, \"metric\": null, \"status\": \"Completed\", \"run_type\": null, \"training_percent\": \"100\", \"start_time\": \"2023-06-21T14:41:21.106444Z\", \"end_time\": \"2023-06-21T14:41:53.999344Z\", \"created_time\": \"2023-06-21T14:41:20.832022Z\", \"created_time_dt\": \"2023-06-21T14:41:20.832022Z\", \"duration\": \"0:00:33\", \"iteration\": \"7\", \"goal\": \"accuracy_max\", \"run_name\": \"MaxAbsScaler, LogisticRegression\", \"run_properties\": \"copy=True\", \"primary_metric\": 0.76830144, \"best_metric\": 0.76830144}, {\"run_id\": \"AutoML_a0374017-59bc-4daa-8829-8ef9c172030b_8\", \"run_number\": 1687358515, \"metric\": null, \"status\": \"Completed\", \"run_type\": null, \"training_percent\": \"100\", \"start_time\": \"2023-06-21T14:41:55.927929Z\", \"end_time\": \"2023-06-21T14:42:28.359012Z\", \"created_time\": \"2023-06-21T14:41:55.676253Z\", \"created_time_dt\": \"2023-06-21T14:41:55.676253Z\", \"duration\": \"0:00:32\", \"iteration\": \"8\", \"goal\": \"accuracy_max\", \"run_name\": \"StandardScalerWrapper, ExtremeRandomTrees\", \"run_properties\": \"copy=True, with_mean=False, with_std=False\", \"primary_metric\": 0.65097403, \"best_metric\": 0.76830144}, {\"run_id\": \"AutoML_a0374017-59bc-4daa-8829-8ef9c172030b_9\", \"run_number\": 1687358549, \"metric\": null, \"status\": \"Completed\", \"run_type\": null, \"training_percent\": \"100\", \"start_time\": \"2023-06-21T14:42:30.229357Z\", \"end_time\": \"2023-06-21T14:43:03.479319Z\", \"created_time\": \"2023-06-21T14:42:29.987462Z\", \"created_time_dt\": \"2023-06-21T14:42:29.987462Z\", \"duration\": \"0:00:33\", \"iteration\": \"9\", \"goal\": \"accuracy_max\", \"run_name\": \"StandardScalerWrapper, XGBoostClassifier\", \"run_properties\": \"copy=True, with_mean=False, with_std=False\", \"primary_metric\": 0.76047505, \"best_metric\": 0.76830144}, {\"run_id\": \"AutoML_a0374017-59bc-4daa-8829-8ef9c172030b_10\", \"run_number\": 1687358585, \"metric\": null, \"status\": \"Completed\", \"run_type\": null, \"training_percent\": \"100\", \"start_time\": \"2023-06-21T14:43:05.425175Z\", \"end_time\": \"2023-06-21T14:43:38.181681Z\", \"created_time\": \"2023-06-21T14:43:05.119483Z\", \"created_time_dt\": \"2023-06-21T14:43:05.119483Z\", \"duration\": \"0:00:33\", \"iteration\": \"10\", \"goal\": \"accuracy_max\", \"run_name\": \"SparseNormalizer, LightGBM\", \"run_properties\": \"copy=True, norm='l1'\", \"primary_metric\": 0.6809296, \"best_metric\": 0.76830144}, {\"run_id\": \"AutoML_a0374017-59bc-4daa-8829-8ef9c172030b_11\", \"run_number\": 1687358619, \"metric\": null, \"status\": \"Completed\", \"run_type\": null, \"training_percent\": \"100\", \"start_time\": \"2023-06-21T14:43:39.99349Z\", \"end_time\": \"2023-06-21T14:44:16.439617Z\", \"created_time\": \"2023-06-21T14:43:39.71563Z\", \"created_time_dt\": \"2023-06-21T14:43:39.71563Z\", \"duration\": \"0:00:36\", \"iteration\": \"11\", \"goal\": \"accuracy_max\", \"run_name\": \"StandardScalerWrapper, XGBoostClassifier\", \"run_properties\": \"copy=True, with_mean=False, with_std=False\", \"primary_metric\": 0.74215653, \"best_metric\": 0.76830144}, {\"run_id\": \"AutoML_a0374017-59bc-4daa-8829-8ef9c172030b_12\", \"run_number\": 1687358658, \"metric\": null, \"status\": \"Completed\", \"run_type\": null, \"training_percent\": \"100\", \"start_time\": \"2023-06-21T14:44:18.319302Z\", \"end_time\": \"2023-06-21T14:44:53.109211Z\", \"created_time\": \"2023-06-21T14:44:18.006776Z\", \"created_time_dt\": \"2023-06-21T14:44:18.006776Z\", \"duration\": \"0:00:35\", \"iteration\": \"12\", \"goal\": \"accuracy_max\", \"run_name\": \"MaxAbsScaler, LogisticRegression\", \"run_properties\": \"copy=True\", \"primary_metric\": 0.76830144, \"best_metric\": 0.76830144}, {\"run_id\": \"AutoML_a0374017-59bc-4daa-8829-8ef9c172030b_13\", \"run_number\": 1687358694, \"metric\": null, \"status\": \"Completed\", \"run_type\": null, \"training_percent\": \"100\", \"start_time\": \"2023-06-21T14:44:55.027439Z\", \"end_time\": \"2023-06-21T14:45:28.566116Z\", \"created_time\": \"2023-06-21T14:44:54.679415Z\", \"created_time_dt\": \"2023-06-21T14:44:54.679415Z\", \"duration\": \"0:00:33\", \"iteration\": \"13\", \"goal\": \"accuracy_max\", \"run_name\": \"MaxAbsScaler, SGD\", \"run_properties\": \"copy=True\", \"primary_metric\": 0.67580314, \"best_metric\": 0.76830144}, {\"run_id\": \"AutoML_a0374017-59bc-4daa-8829-8ef9c172030b_14\", \"run_number\": 1687358730, \"metric\": null, \"status\": \"Completed\", \"run_type\": null, \"training_percent\": \"100\", \"start_time\": \"2023-06-21T14:45:30.783143Z\", \"end_time\": \"2023-06-21T14:46:07.077167Z\", \"created_time\": \"2023-06-21T14:45:30.480321Z\", \"created_time_dt\": \"2023-06-21T14:45:30.480321Z\", \"duration\": \"0:00:36\", \"iteration\": \"14\", \"goal\": \"accuracy_max\", \"run_name\": \"StandardScalerWrapper, XGBoostClassifier\", \"run_properties\": \"copy=True, with_mean=False, with_std=False\", \"primary_metric\": 0.76949761, \"best_metric\": 0.76949761}, {\"run_id\": \"AutoML_a0374017-59bc-4daa-8829-8ef9c172030b_15\", \"run_number\": 1687358769, \"metric\": null, \"status\": \"Completed\", \"run_type\": null, \"training_percent\": \"100\", \"start_time\": \"2023-06-21T14:46:09.25425Z\", \"end_time\": \"2023-06-21T14:46:47.661365Z\", \"created_time\": \"2023-06-21T14:46:09.018008Z\", \"created_time_dt\": \"2023-06-21T14:46:09.018008Z\", \"duration\": \"0:00:38\", \"iteration\": \"15\", \"goal\": \"accuracy_max\", \"run_name\": \"SparseNormalizer, RandomForest\", \"run_properties\": \"copy=True, norm='l2'\", \"primary_metric\": 0.68374915, \"best_metric\": 0.76949761}, {\"run_id\": \"AutoML_a0374017-59bc-4daa-8829-8ef9c172030b_16\", \"run_number\": 1687358809, \"metric\": null, \"status\": \"Completed\", \"run_type\": null, \"training_percent\": \"100\", \"start_time\": \"2023-06-21T14:46:49.443079Z\", \"end_time\": \"2023-06-21T14:47:23.100081Z\", \"created_time\": \"2023-06-21T14:46:49.166181Z\", \"created_time_dt\": \"2023-06-21T14:46:49.166181Z\", \"duration\": \"0:00:33\", \"iteration\": \"16\", \"goal\": \"accuracy_max\", \"run_name\": \"StandardScalerWrapper, LogisticRegression\", \"run_properties\": \"copy=True, with_mean=False, with_std=False\", \"primary_metric\": 0.75915926, \"best_metric\": 0.76949761}, {\"run_id\": \"AutoML_a0374017-59bc-4daa-8829-8ef9c172030b_17\", \"run_number\": 1687358844, \"metric\": null, \"status\": \"Completed\", \"run_type\": null, \"training_percent\": \"100\", \"start_time\": \"2023-06-21T14:47:24.819342Z\", \"end_time\": \"2023-06-21T14:47:59.188813Z\", \"created_time\": \"2023-06-21T14:47:24.585291Z\", \"created_time_dt\": \"2023-06-21T14:47:24.585291Z\", \"duration\": \"0:00:34\", \"iteration\": \"17\", \"goal\": \"accuracy_max\", \"run_name\": \"StandardScalerWrapper, RandomForest\", \"run_properties\": \"copy=True, with_mean=False, with_std=False\", \"primary_metric\": 0.75517772, \"best_metric\": 0.76949761}, {\"run_id\": \"AutoML_a0374017-59bc-4daa-8829-8ef9c172030b_18\", \"run_number\": 1687358881, \"metric\": null, \"status\": \"Completed\", \"run_type\": null, \"training_percent\": \"100\", \"start_time\": \"2023-06-21T14:48:01.339329Z\", \"end_time\": \"2023-06-21T14:48:36.615205Z\", \"created_time\": \"2023-06-21T14:48:01.002574Z\", \"created_time_dt\": \"2023-06-21T14:48:01.002574Z\", \"duration\": \"0:00:35\", \"iteration\": \"18\", \"goal\": \"accuracy_max\", \"run_name\": \"StandardScalerWrapper, XGBoostClassifier\", \"run_properties\": \"copy=True, with_mean=False, with_std=False\", \"primary_metric\": 0.74615516, \"best_metric\": 0.76949761}, {\"run_id\": \"AutoML_a0374017-59bc-4daa-8829-8ef9c172030b_19\", \"run_number\": 1687358918, \"metric\": null, \"status\": \"Completed\", \"run_type\": null, \"training_percent\": \"100\", \"start_time\": \"2023-06-21T14:48:38.455302Z\", \"end_time\": \"2023-06-21T14:49:16.148737Z\", \"created_time\": \"2023-06-21T14:48:38.227574Z\", \"created_time_dt\": \"2023-06-21T14:48:38.227574Z\", \"duration\": \"0:00:37\", \"iteration\": \"19\", \"goal\": \"accuracy_max\", \"run_name\": \"TruncatedSVDWrapper, RandomForest\", \"run_properties\": \"n_components=0.8015789473684211, random_state=None\", \"primary_metric\": 0.70052973, \"best_metric\": 0.76949761}, {\"run_id\": \"AutoML_a0374017-59bc-4daa-8829-8ef9c172030b_20\", \"run_number\": 1687358957, \"metric\": null, \"status\": \"Completed\", \"run_type\": null, \"training_percent\": \"100\", \"start_time\": \"2023-06-21T14:49:18.008925Z\", \"end_time\": \"2023-06-21T14:50:08.45626Z\", \"created_time\": \"2023-06-21T14:49:17.706528Z\", \"created_time_dt\": \"2023-06-21T14:49:17.706528Z\", \"duration\": \"0:00:50\", \"iteration\": \"20\", \"goal\": \"accuracy_max\", \"run_name\": \"TruncatedSVDWrapper, RandomForest\", \"run_properties\": \"n_components=0.7026315789473684, random_state=None\", \"primary_metric\": 0.73053657, \"best_metric\": 0.76949761}, {\"run_id\": \"AutoML_a0374017-59bc-4daa-8829-8ef9c172030b_21\", \"run_number\": 1687359010, \"metric\": null, \"status\": \"Completed\", \"run_type\": null, \"training_percent\": \"100\", \"start_time\": \"2023-06-21T14:50:10.573299Z\", \"end_time\": \"2023-06-21T14:50:42.974556Z\", \"created_time\": \"2023-06-21T14:50:10.317511Z\", \"created_time_dt\": \"2023-06-21T14:50:10.317511Z\", \"duration\": \"0:00:32\", \"iteration\": \"21\", \"goal\": \"accuracy_max\", \"run_name\": \"StandardScalerWrapper, XGBoostClassifier\", \"run_properties\": \"copy=True, with_mean=False, with_std=False\", \"primary_metric\": 0.7304853, \"best_metric\": 0.76949761}, {\"run_id\": \"AutoML_a0374017-59bc-4daa-8829-8ef9c172030b_22\", \"run_number\": 1687359044, \"metric\": null, \"status\": \"Completed\", \"run_type\": null, \"training_percent\": \"100\", \"start_time\": \"2023-06-21T14:50:44.6371Z\", \"end_time\": \"2023-06-21T14:51:18.455589Z\", \"created_time\": \"2023-06-21T14:50:44.351817Z\", \"created_time_dt\": \"2023-06-21T14:50:44.351817Z\", \"duration\": \"0:00:34\", \"iteration\": \"22\", \"goal\": \"accuracy_max\", \"run_name\": \"SparseNormalizer, XGBoostClassifier\", \"run_properties\": \"copy=True, norm='l1'\", \"primary_metric\": 0.69926521, \"best_metric\": 0.76949761}, {\"run_id\": \"AutoML_a0374017-59bc-4daa-8829-8ef9c172030b_23\", \"run_number\": 1687359079, \"metric\": null, \"status\": \"Completed\", \"run_type\": null, \"training_percent\": \"100\", \"start_time\": \"2023-06-21T14:51:20.222006Z\", \"end_time\": \"2023-06-21T14:51:52.003444Z\", \"created_time\": \"2023-06-21T14:51:19.967685Z\", \"created_time_dt\": \"2023-06-21T14:51:19.967685Z\", \"duration\": \"0:00:32\", \"iteration\": \"23\", \"goal\": \"accuracy_max\", \"run_name\": \"StandardScalerWrapper, LightGBM\", \"run_properties\": \"copy=True, with_mean=False, with_std=False\", \"primary_metric\": 0.76172249, \"best_metric\": 0.76949761}, {\"run_id\": \"AutoML_a0374017-59bc-4daa-8829-8ef9c172030b_24\", \"run_number\": 1687359113, \"metric\": null, \"status\": \"Completed\", \"run_type\": null, \"training_percent\": \"100\", \"start_time\": \"2023-06-21T14:51:53.645263Z\", \"end_time\": \"2023-06-21T14:52:27.433727Z\", \"created_time\": \"2023-06-21T14:51:53.322082Z\", \"created_time_dt\": \"2023-06-21T14:51:53.322082Z\", \"duration\": \"0:00:34\", \"iteration\": \"24\", \"goal\": \"accuracy_max\", \"run_name\": \"SparseNormalizer, XGBoostClassifier\", \"run_properties\": \"copy=True, norm='l1'\", \"primary_metric\": 0.69789815, \"best_metric\": 0.76949761}, {\"run_id\": \"AutoML_a0374017-59bc-4daa-8829-8ef9c172030b_25\", \"run_number\": 1687359150, \"metric\": null, \"status\": \"Completed\", \"run_type\": null, \"training_percent\": \"100\", \"start_time\": \"2023-06-21T14:52:30.510683Z\", \"end_time\": \"2023-06-21T14:53:05.136305Z\", \"created_time\": \"2023-06-21T14:52:30.211594Z\", \"created_time_dt\": \"2023-06-21T14:52:30.211594Z\", \"duration\": \"0:00:34\", \"iteration\": \"25\", \"goal\": \"accuracy_max\", \"run_name\": \"SparseNormalizer, XGBoostClassifier\", \"run_properties\": \"copy=True, norm='max'\", \"primary_metric\": 0.65097403, \"best_metric\": 0.76949761}, {\"run_id\": \"AutoML_a0374017-59bc-4daa-8829-8ef9c172030b_26\", \"run_number\": 1687359186, \"metric\": null, \"status\": \"Completed\", \"run_type\": null, \"training_percent\": \"100\", \"start_time\": \"2023-06-21T14:53:07.429795Z\", \"end_time\": \"2023-06-21T14:53:40.852627Z\", \"created_time\": \"2023-06-21T14:53:06.807317Z\", \"created_time_dt\": \"2023-06-21T14:53:06.807317Z\", \"duration\": \"0:00:34\", \"iteration\": \"26\", \"goal\": \"accuracy_max\", \"run_name\": \"SparseNormalizer, RandomForest\", \"run_properties\": \"copy=True, norm='max'\", \"primary_metric\": 0.70967191, \"best_metric\": 0.76949761}, {\"run_id\": \"AutoML_a0374017-59bc-4daa-8829-8ef9c172030b_27\", \"run_number\": 1687359222, \"metric\": null, \"status\": \"Completed\", \"run_type\": null, \"training_percent\": \"100\", \"start_time\": \"2023-06-21T14:53:43.661743Z\", \"end_time\": \"2023-06-21T14:54:34.217597Z\", \"created_time\": \"2023-06-21T14:53:42.380989Z\", \"created_time_dt\": \"2023-06-21T14:53:42.380989Z\", \"duration\": \"0:00:51\", \"iteration\": \"27\", \"goal\": \"accuracy_max\", \"run_name\": \"MaxAbsScaler, RandomForest\", \"run_properties\": \"copy=True\", \"primary_metric\": 0.75787765, \"best_metric\": 0.76949761}, {\"run_id\": \"AutoML_a0374017-59bc-4daa-8829-8ef9c172030b_28\", \"run_number\": 1687359275, \"metric\": null, \"status\": \"Completed\", \"run_type\": null, \"training_percent\": \"100\", \"start_time\": \"2023-06-21T14:54:36.803426Z\", \"end_time\": \"2023-06-21T14:55:16.125469Z\", \"created_time\": \"2023-06-21T14:54:35.736902Z\", \"created_time_dt\": \"2023-06-21T14:54:35.736902Z\", \"duration\": \"0:00:40\", \"iteration\": \"28\", \"goal\": \"accuracy_max\", \"run_name\": \"StandardScalerWrapper, RandomForest\", \"run_properties\": \"copy=True, with_mean=False, with_std=False\", \"primary_metric\": 0.74743677, \"best_metric\": 0.76949761}, {\"run_id\": \"AutoML_a0374017-59bc-4daa-8829-8ef9c172030b_29\", \"run_number\": 1687359317, \"metric\": null, \"status\": \"Completed\", \"run_type\": null, \"training_percent\": \"100\", \"start_time\": \"2023-06-21T14:55:18.589352Z\", \"end_time\": \"2023-06-21T14:55:52.396098Z\", \"created_time\": \"2023-06-21T14:55:17.818848Z\", \"created_time_dt\": \"2023-06-21T14:55:17.818848Z\", \"duration\": \"0:00:34\", \"iteration\": \"29\", \"goal\": \"accuracy_max\", \"run_name\": \"MaxAbsScaler, LogisticRegression\", \"run_properties\": \"copy=True\", \"primary_metric\": 0.77089884, \"best_metric\": 0.77089884}, {\"run_id\": \"AutoML_a0374017-59bc-4daa-8829-8ef9c172030b_30\", \"run_number\": 1687359355, \"metric\": null, \"status\": \"Completed\", \"run_type\": null, \"training_percent\": \"100\", \"start_time\": \"2023-06-21T14:55:55.752376Z\", \"end_time\": \"2023-06-21T14:56:29.439005Z\", \"created_time\": \"2023-06-21T14:55:55.049274Z\", \"created_time_dt\": \"2023-06-21T14:55:55.049274Z\", \"duration\": \"0:00:34\", \"iteration\": \"30\", \"goal\": \"accuracy_max\", \"run_name\": \"MaxAbsScaler, LogisticRegression\", \"run_properties\": \"copy=True\", \"primary_metric\": 0.3762987, \"best_metric\": 0.77089884}, {\"run_id\": \"AutoML_a0374017-59bc-4daa-8829-8ef9c172030b_31\", \"run_number\": 1687359390, \"metric\": null, \"status\": \"Completed\", \"run_type\": null, \"training_percent\": \"100\", \"start_time\": \"2023-06-21T14:56:31.677473Z\", \"end_time\": \"2023-06-21T14:57:05.373922Z\", \"created_time\": \"2023-06-21T14:56:30.954129Z\", \"created_time_dt\": \"2023-06-21T14:56:30.954129Z\", \"duration\": \"0:00:34\", \"iteration\": \"31\", \"goal\": \"accuracy_max\", \"run_name\": \"MaxAbsScaler, ExtremeRandomTrees\", \"run_properties\": \"copy=True\", \"primary_metric\": 0.75914217, \"best_metric\": 0.77089884}, {\"run_id\": \"AutoML_a0374017-59bc-4daa-8829-8ef9c172030b_32\", \"run_number\": 1687359426, \"metric\": null, \"status\": \"Completed\", \"run_type\": null, \"training_percent\": \"100\", \"start_time\": \"2023-06-21T14:57:07.430622Z\", \"end_time\": \"2023-06-21T14:57:41.479673Z\", \"created_time\": \"2023-06-21T14:57:06.747108Z\", \"created_time_dt\": \"2023-06-21T14:57:06.747108Z\", \"duration\": \"0:00:34\", \"iteration\": \"32\", \"goal\": \"accuracy_max\", \"run_name\": \"StandardScalerWrapper, ExtremeRandomTrees\", \"run_properties\": \"copy=True, with_mean=False, with_std=True\", \"primary_metric\": 0.76960014, \"best_metric\": 0.77089884}, {\"run_id\": \"AutoML_a0374017-59bc-4daa-8829-8ef9c172030b_33\", \"run_number\": 1687359463, \"metric\": null, \"status\": \"Completed\", \"run_type\": null, \"training_percent\": \"100\", \"start_time\": \"2023-06-21T14:57:43.673227Z\", \"end_time\": \"2023-06-21T14:58:16.092994Z\", \"created_time\": \"2023-06-21T14:57:43.002064Z\", \"created_time_dt\": \"2023-06-21T14:57:43.002064Z\", \"duration\": \"0:00:33\", \"iteration\": \"33\", \"goal\": \"accuracy_max\", \"run_name\": \"StandardScalerWrapper, RandomForest\", \"run_properties\": \"copy=True, with_mean=False, with_std=False\", \"primary_metric\": 0.76038961, \"best_metric\": 0.77089884}, {\"run_id\": \"AutoML_a0374017-59bc-4daa-8829-8ef9c172030b_34\", \"run_number\": 1687359497, \"metric\": null, \"status\": \"Completed\", \"run_type\": null, \"training_percent\": \"100\", \"start_time\": \"2023-06-21T14:58:17.785562Z\", \"end_time\": \"2023-06-21T14:58:50.492896Z\", \"created_time\": \"2023-06-21T14:58:17.494074Z\", \"created_time_dt\": \"2023-06-21T14:58:17.494074Z\", \"duration\": \"0:00:32\", \"iteration\": \"34\", \"goal\": \"accuracy_max\", \"run_name\": \"MaxAbsScaler, ExtremeRandomTrees\", \"run_properties\": \"copy=True\", \"primary_metric\": 0.7356972, \"best_metric\": 0.77089884}, {\"run_id\": \"AutoML_a0374017-59bc-4daa-8829-8ef9c172030b_35\", \"run_number\": 1687359533, \"metric\": null, \"status\": \"Completed\", \"run_type\": null, \"training_percent\": \"100\", \"start_time\": \"2023-06-21T14:58:53.438258Z\", \"end_time\": \"2023-06-21T14:59:24.914437Z\", \"created_time\": \"2023-06-21T14:58:53.107061Z\", \"created_time_dt\": \"2023-06-21T14:58:53.107061Z\", \"duration\": \"0:00:31\", \"iteration\": \"35\", \"goal\": \"accuracy_max\", \"run_name\": \"TruncatedSVDWrapper, LogisticRegression\", \"run_properties\": \"n_components=0.8510526315789474, random_state=None\", \"primary_metric\": 0.67059125, \"best_metric\": 0.77089884}, {\"run_id\": \"AutoML_a0374017-59bc-4daa-8829-8ef9c172030b_36\", \"run_number\": 1687359566, \"metric\": null, \"status\": \"Completed\", \"run_type\": null, \"training_percent\": \"100\", \"start_time\": \"2023-06-21T14:59:26.510621Z\", \"end_time\": \"2023-06-21T14:59:58.248695Z\", \"created_time\": \"2023-06-21T14:59:26.276523Z\", \"created_time_dt\": \"2023-06-21T14:59:26.276523Z\", \"duration\": \"0:00:31\", \"iteration\": \"36\", \"goal\": \"accuracy_max\", \"run_name\": \"StandardScalerWrapper, ExtremeRandomTrees\", \"run_properties\": \"copy=True, with_mean=False, with_std=True\", \"primary_metric\": 0.74225906, \"best_metric\": 0.77089884}, {\"run_id\": \"AutoML_a0374017-59bc-4daa-8829-8ef9c172030b_37\", \"run_number\": 1687359599, \"metric\": null, \"status\": \"Completed\", \"run_type\": null, \"training_percent\": \"100\", \"start_time\": \"2023-06-21T15:00:00.062356Z\", \"end_time\": \"2023-06-21T15:00:39.534151Z\", \"created_time\": \"2023-06-21T14:59:59.682553Z\", \"created_time_dt\": \"2023-06-21T14:59:59.682553Z\", \"duration\": \"0:00:39\", \"iteration\": \"37\", \"goal\": \"accuracy_max\", \"run_name\": \"StandardScalerWrapper, ExtremeRandomTrees\", \"run_properties\": \"copy=True, with_mean=False, with_std=True\", \"primary_metric\": 0.76173958, \"best_metric\": 0.77089884}, {\"run_id\": \"AutoML_a0374017-59bc-4daa-8829-8ef9c172030b_38\", \"run_number\": 1687359640, \"metric\": null, \"status\": \"Completed\", \"run_type\": null, \"training_percent\": \"100\", \"start_time\": \"2023-06-21T15:00:41.011279Z\", \"end_time\": \"2023-06-21T15:01:12.87154Z\", \"created_time\": \"2023-06-21T15:00:40.776661Z\", \"created_time_dt\": \"2023-06-21T15:00:40.776661Z\", \"duration\": \"0:00:32\", \"iteration\": \"38\", \"goal\": \"accuracy_max\", \"run_name\": \"StandardScalerWrapper, RandomForest\", \"run_properties\": \"copy=True, with_mean=False, with_std=True\", \"primary_metric\": 0.72397471, \"best_metric\": 0.77089884}, {\"run_id\": \"AutoML_a0374017-59bc-4daa-8829-8ef9c172030b_39\", \"run_number\": 1687359674, \"metric\": null, \"status\": \"Completed\", \"run_type\": null, \"training_percent\": \"100\", \"start_time\": \"2023-06-21T15:01:14.85476Z\", \"end_time\": \"2023-06-21T15:01:48.542682Z\", \"created_time\": \"2023-06-21T15:01:14.529019Z\", \"created_time_dt\": \"2023-06-21T15:01:14.529019Z\", \"duration\": \"0:00:34\", \"iteration\": \"39\", \"goal\": \"accuracy_max\", \"run_name\": \"StandardScalerWrapper, LightGBM\", \"run_properties\": \"copy=True, with_mean=False, with_std=False\", \"primary_metric\": 0.75651059, \"best_metric\": 0.77089884}, {\"run_id\": \"AutoML_a0374017-59bc-4daa-8829-8ef9c172030b_40\", \"run_number\": 1687359711, \"metric\": null, \"status\": \"Completed\", \"run_type\": null, \"training_percent\": \"100\", \"start_time\": \"2023-06-21T15:01:51.342696Z\", \"end_time\": \"2023-06-21T15:02:25.404421Z\", \"created_time\": \"2023-06-21T15:01:51.093843Z\", \"created_time_dt\": \"2023-06-21T15:01:51.093843Z\", \"duration\": \"0:00:34\", \"iteration\": \"40\", \"goal\": \"accuracy_max\", \"run_name\": \"TruncatedSVDWrapper, LogisticRegression\", \"run_properties\": \"n_components=0.01, random_state=None\", \"primary_metric\": 0.64837662, \"best_metric\": 0.77089884}, {\"run_id\": \"AutoML_a0374017-59bc-4daa-8829-8ef9c172030b_41\", \"run_number\": 1687359746, \"metric\": null, \"status\": \"Completed\", \"run_type\": null, \"training_percent\": \"100\", \"start_time\": \"2023-06-21T15:02:27.044838Z\", \"end_time\": \"2023-06-21T15:03:00.545774Z\", \"created_time\": \"2023-06-21T15:02:26.793423Z\", \"created_time_dt\": \"2023-06-21T15:02:26.793423Z\", \"duration\": \"0:00:33\", \"iteration\": \"41\", \"goal\": \"accuracy_max\", \"run_name\": \"StandardScalerWrapper, RandomForest\", \"run_properties\": \"copy=True, with_mean=False, with_std=True\", \"primary_metric\": 0.72664046, \"best_metric\": 0.77089884}, {\"run_id\": \"AutoML_a0374017-59bc-4daa-8829-8ef9c172030b_42\", \"run_number\": 1687359781, \"metric\": null, \"status\": \"Completed\", \"run_type\": null, \"training_percent\": \"100\", \"start_time\": \"2023-06-21T15:03:02.183036Z\", \"end_time\": \"2023-06-21T15:03:35.620724Z\", \"created_time\": \"2023-06-21T15:03:01.923463Z\", \"created_time_dt\": \"2023-06-21T15:03:01.923463Z\", \"duration\": \"0:00:33\", \"iteration\": \"42\", \"goal\": \"accuracy_max\", \"run_name\": \"StandardScalerWrapper, XGBoostClassifier\", \"run_properties\": \"copy=True, with_mean=False, with_std=False\", \"primary_metric\": 0.77605947, \"best_metric\": 0.77605947}, {\"run_id\": \"AutoML_a0374017-59bc-4daa-8829-8ef9c172030b_43\", \"run_number\": 1687359817, \"metric\": null, \"status\": \"Completed\", \"run_type\": null, \"training_percent\": \"100\", \"start_time\": \"2023-06-21T15:03:37.329907Z\", \"end_time\": \"2023-06-21T15:04:14.701787Z\", \"created_time\": \"2023-06-21T15:03:37.068932Z\", \"created_time_dt\": \"2023-06-21T15:03:37.068932Z\", \"duration\": \"0:00:37\", \"iteration\": \"43\", \"goal\": \"accuracy_max\", \"run_name\": \"StandardScalerWrapper, ExtremeRandomTrees\", \"run_properties\": \"copy=True, with_mean=False, with_std=False\", \"primary_metric\": 0.76177375, \"best_metric\": 0.77605947}, {\"run_id\": \"AutoML_a0374017-59bc-4daa-8829-8ef9c172030b_44\", \"run_number\": 1687359856, \"metric\": null, \"status\": \"Completed\", \"run_type\": null, \"training_percent\": \"100\", \"start_time\": \"2023-06-21T15:04:16.427042Z\", \"end_time\": \"2023-06-21T15:04:50.710796Z\", \"created_time\": \"2023-06-21T15:04:16.171696Z\", \"created_time_dt\": \"2023-06-21T15:04:16.171696Z\", \"duration\": \"0:00:34\", \"iteration\": \"44\", \"goal\": \"accuracy_max\", \"run_name\": \"StandardScalerWrapper, RandomForest\", \"run_properties\": \"copy=True, with_mean=False, with_std=True\", \"primary_metric\": 0.73571429, \"best_metric\": 0.77605947}, {\"run_id\": \"AutoML_a0374017-59bc-4daa-8829-8ef9c172030b_45\", \"run_number\": 1687359891, \"metric\": null, \"status\": \"Completed\", \"run_type\": null, \"training_percent\": \"100\", \"start_time\": \"2023-06-21T15:04:51.443587Z\", \"end_time\": \"2023-06-21T15:05:38.992049Z\", \"created_time\": \"2023-06-21T15:04:51.223367Z\", \"created_time_dt\": \"2023-06-21T15:04:51.223367Z\", \"duration\": \"0:00:47\", \"iteration\": \"45\", \"goal\": \"accuracy_max\", \"run_name\": \"VotingEnsemble\", \"run_properties\": \"classification_labels=numpy.array([0, 1]\", \"primary_metric\": 0.78260424, \"best_metric\": 0.78260424}, {\"run_id\": \"AutoML_a0374017-59bc-4daa-8829-8ef9c172030b_46\", \"run_number\": 1687359939, \"metric\": null, \"status\": \"Completed\", \"run_type\": null, \"training_percent\": \"100\", \"start_time\": \"2023-06-21T15:05:39.713877Z\", \"end_time\": \"2023-06-21T15:06:44.870585Z\", \"created_time\": \"2023-06-21T15:05:39.470856Z\", \"created_time_dt\": \"2023-06-21T15:05:39.470856Z\", \"duration\": \"0:01:05\", \"iteration\": \"46\", \"goal\": \"accuracy_max\", \"run_name\": \"StackEnsemble\", \"run_properties\": \"base_learners=[('42', Pipeline(memory=None, steps=[('standardscalerwrapper', StandardScalerWrapper(copy=True, with_mean=False, with_std=False\", \"primary_metric\": 0.77088175, \"best_metric\": 0.78260424}], \"children_metrics\": {\"categories\": [0], \"series\": {\"f1_score_weighted\": [{\"categories\": [\"0\", \"1\", \"2\", \"3\", \"4\", \"5\", \"6\", \"7\", \"8\", \"9\", \"10\", \"11\", \"12\", \"13\", \"14\", \"15\", \"16\", \"17\", \"18\", \"19\", \"20\", \"21\", \"22\", \"23\", \"24\", \"25\", \"26\", \"27\", \"28\", \"29\", \"30\", \"31\", \"32\", \"33\", \"34\", \"35\", \"36\", \"37\", \"38\", \"39\", \"40\", \"41\", \"42\", \"43\", \"44\", \"45\", \"46\"], \"mode\": \"markers\", \"name\": \"f1_score_weighted\", \"stepped\": false, \"type\": \"scatter\", \"data\": [0.738413710002352, 0.7478003870526783, 0.724653628422171, 0.6467754990210672, 0.75472851062932, 0.613541687652189, 0.7368215751809613, 0.760459825643374, 0.5146909419914976, 0.7558623109995743, 0.6362220050805446, 0.7354635888446696, 0.7616138800799549, 0.6830964721909794, 0.766172683780448, 0.6896213339958814, 0.7520871510018825, 0.7358971721401179, 0.7422264926545721, 0.7073307083870671, 0.732315325859359, 0.7268762330022539, 0.6928582202552761, 0.74432310681949, 0.6781884216538449, 0.5146909419914976, 0.6882314016544001, 0.7511912697366475, 0.7528259154498883, 0.764018531102835, 0.213361003144783, 0.7389744086873484, 0.7563716873573605, 0.7504587476341168, 0.7069976748341839, 0.6344193331197822, 0.7172171532640413, 0.7423015888988831, 0.6803460684210505, 0.7522348802567117, 0.5222686682523915, 0.6947253845363327, 0.7710111839761795, 0.746604701942486, 0.7136553517645134, 0.7714211990753694, 0.7631191452854542]}, {\"categories\": [\"0\", \"1\", \"2\", \"3\", \"4\", \"5\", \"6\", \"7\", \"8\", \"9\", \"10\", \"11\", \"12\", \"13\", \"14\", \"15\", \"16\", \"17\", \"18\", \"19\", \"20\", \"21\", \"22\", \"23\", \"24\", \"25\", \"26\", \"27\", \"28\", \"29\", \"30\", \"31\", \"32\", \"33\", \"34\", \"35\", \"36\", \"37\", \"38\", \"39\", \"40\", \"41\", \"42\", \"43\", \"44\", \"45\", \"46\"], \"mode\": \"lines\", \"name\": \"f1_score_weighted_max\", \"stepped\": true, \"type\": \"scatter\", \"data\": [0.738413710002352, 0.7478003870526783, 0.7478003870526783, 0.7478003870526783, 0.75472851062932, 0.75472851062932, 0.75472851062932, 0.760459825643374, 0.760459825643374, 0.760459825643374, 0.760459825643374, 0.760459825643374, 0.7616138800799549, 0.7616138800799549, 0.766172683780448, 0.766172683780448, 0.766172683780448, 0.766172683780448, 0.766172683780448, 0.766172683780448, 0.766172683780448, 0.766172683780448, 0.766172683780448, 0.766172683780448, 0.766172683780448, 0.766172683780448, 0.766172683780448, 0.766172683780448, 0.766172683780448, 0.766172683780448, 0.766172683780448, 0.766172683780448, 0.766172683780448, 0.766172683780448, 0.766172683780448, 0.766172683780448, 0.766172683780448, 0.766172683780448, 0.766172683780448, 0.766172683780448, 0.766172683780448, 0.766172683780448, 0.7710111839761795, 0.7710111839761795, 0.7710111839761795, 0.7714211990753694, 0.7714211990753694]}], \"average_precision_score_weighted\": [{\"categories\": [\"0\", \"1\", \"2\", \"3\", \"4\", \"5\", \"6\", \"7\", \"8\", \"9\", \"10\", \"11\", \"12\", \"13\", \"14\", \"15\", \"16\", \"17\", \"18\", \"19\", \"20\", \"21\", \"22\", \"23\", \"24\", \"25\", \"26\", \"27\", \"28\", \"29\", \"30\", \"31\", \"32\", \"33\", \"34\", \"35\", \"36\", \"37\", \"38\", \"39\", \"40\", \"41\", \"42\", \"43\", \"44\", \"45\", \"46\"], \"mode\": \"markers\", \"name\": \"average_precision_score_weighted\", \"stepped\": false, \"type\": \"scatter\", \"data\": [0.8152113417770055, 0.8197021165113048, 0.8210321727063, 0.7321590947746407, 0.8456933746300956, 0.8139587643594746, 0.8079617860706028, 0.8350108848063679, 0.7818806839082805, 0.826782484925681, 0.7439376903606594, 0.8314537501230559, 0.8344982207707881, 0.7807900029007515, 0.8258331799574922, 0.7783447787857997, 0.8240806474797815, 0.8360015722386759, 0.8342104436283394, 0.8107924410241697, 0.8080651842705743, 0.8170547246603738, 0.736584359368678, 0.8411184294859837, 0.7590654481659069, 0.5518061897270984, 0.7629699650926358, 0.8441175442280053, 0.8346541884534376, 0.83488516698022, 0.5518061897270984, 0.8417772445393641, 0.841369750165525, 0.8448053941749223, 0.8402048115754688, 0.6797244851073441, 0.8351704926685825, 0.8354443106356214, 0.8296365273447494, 0.8390493412824552, 0.4932290762231327, 0.829861032383844, 0.8457260863586619, 0.8461320118208919, 0.8355241528360832, 0.8445754835671438, 0.8499616956720226]}, {\"categories\": [\"0\", \"1\", \"2\", \"3\", \"4\", \"5\", \"6\", \"7\", \"8\", \"9\", \"10\", \"11\", \"12\", \"13\", \"14\", \"15\", \"16\", \"17\", \"18\", \"19\", \"20\", \"21\", \"22\", \"23\", \"24\", \"25\", \"26\", \"27\", \"28\", \"29\", \"30\", \"31\", \"32\", \"33\", \"34\", \"35\", \"36\", \"37\", \"38\", \"39\", \"40\", \"41\", \"42\", \"43\", \"44\", \"45\", \"46\"], \"mode\": \"lines\", \"name\": \"average_precision_score_weighted_max\", \"stepped\": true, \"type\": \"scatter\", \"data\": [0.8152113417770055, 0.8197021165113048, 0.8210321727063, 0.8210321727063, 0.8456933746300956, 0.8456933746300956, 0.8456933746300956, 0.8456933746300956, 0.8456933746300956, 0.8456933746300956, 0.8456933746300956, 0.8456933746300956, 0.8456933746300956, 0.8456933746300956, 0.8456933746300956, 0.8456933746300956, 0.8456933746300956, 0.8456933746300956, 0.8456933746300956, 0.8456933746300956, 0.8456933746300956, 0.8456933746300956, 0.8456933746300956, 0.8456933746300956, 0.8456933746300956, 0.8456933746300956, 0.8456933746300956, 0.8456933746300956, 0.8456933746300956, 0.8456933746300956, 0.8456933746300956, 0.8456933746300956, 0.8456933746300956, 0.8456933746300956, 0.8456933746300956, 0.8456933746300956, 0.8456933746300956, 0.8456933746300956, 0.8456933746300956, 0.8456933746300956, 0.8456933746300956, 0.8456933746300956, 0.8457260863586619, 0.8461320118208919, 0.8461320118208919, 0.8461320118208919, 0.8499616956720226]}], \"f1_score_macro\": [{\"categories\": [\"0\", \"1\", \"2\", \"3\", \"4\", \"5\", \"6\", \"7\", \"8\", \"9\", \"10\", \"11\", \"12\", \"13\", \"14\", \"15\", \"16\", \"17\", \"18\", \"19\", \"20\", \"21\", \"22\", \"23\", \"24\", \"25\", \"26\", \"27\", \"28\", \"29\", \"30\", \"31\", \"32\", \"33\", \"34\", \"35\", \"36\", \"37\", \"38\", \"39\", \"40\", \"41\", \"42\", \"43\", \"44\", \"45\", \"46\"], \"mode\": \"markers\", \"name\": \"f1_score_macro\", \"stepped\": false, \"type\": \"scatter\", \"data\": [0.7060723907741442, 0.7166009503821289, 0.7004213760830654, 0.5825918091993821, 0.7192228944707039, 0.530096320265648, 0.704488617132987, 0.7240401966349872, 0.3936285549782772, 0.7230237013849108, 0.5683200828324702, 0.6997570548880958, 0.7269881458326962, 0.6567926429761075, 0.7365923430033796, 0.6623329299980113, 0.717559827923788, 0.6919022808335052, 0.7093195289650104, 0.6841009806276003, 0.7032056282178853, 0.691427820994847, 0.6526636969445889, 0.701895880156966, 0.6240615574059533, 0.3936285549782772, 0.639973854647622, 0.7157184276603462, 0.7316334960429989, 0.7294061277629487, 0.26961819972630974, 0.6933169571679175, 0.7175786284485984, 0.7134222332035406, 0.6555857259816544, 0.5673734989106524, 0.6679023312667279, 0.6990113154710851, 0.6135874869195004, 0.7196857257887517, 0.4062975634682619, 0.6398477774582922, 0.7384610057443571, 0.7064096848929312, 0.6655008175723687, 0.7348620768630988, 0.7281850728321009]}, {\"categories\": [\"0\", \"1\", \"2\", \"3\", \"4\", \"5\", \"6\", \"7\", \"8\", \"9\", \"10\", \"11\", \"12\", \"13\", \"14\", \"15\", \"16\", \"17\", \"18\", \"19\", \"20\", \"21\", \"22\", \"23\", \"24\", \"25\", \"26\", \"27\", \"28\", \"29\", \"30\", \"31\", \"32\", \"33\", \"34\", \"35\", \"36\", \"37\", \"38\", \"39\", \"40\", \"41\", \"42\", \"43\", \"44\", \"45\", \"46\"], \"mode\": \"lines\", \"name\": \"f1_score_macro_max\", \"stepped\": true, \"type\": \"scatter\", \"data\": [0.7060723907741442, 0.7166009503821289, 0.7166009503821289, 0.7166009503821289, 0.7192228944707039, 0.7192228944707039, 0.7192228944707039, 0.7240401966349872, 0.7240401966349872, 0.7240401966349872, 0.7240401966349872, 0.7240401966349872, 0.7269881458326962, 0.7269881458326962, 0.7365923430033796, 0.7365923430033796, 0.7365923430033796, 0.7365923430033796, 0.7365923430033796, 0.7365923430033796, 0.7365923430033796, 0.7365923430033796, 0.7365923430033796, 0.7365923430033796, 0.7365923430033796, 0.7365923430033796, 0.7365923430033796, 0.7365923430033796, 0.7365923430033796, 0.7365923430033796, 0.7365923430033796, 0.7365923430033796, 0.7365923430033796, 0.7365923430033796, 0.7365923430033796, 0.7365923430033796, 0.7365923430033796, 0.7365923430033796, 0.7365923430033796, 0.7365923430033796, 0.7365923430033796, 0.7365923430033796, 0.7384610057443571, 0.7384610057443571, 0.7384610057443571, 0.7384610057443571, 0.7384610057443571]}], \"recall_score_weighted\": [{\"categories\": [\"0\", \"1\", \"2\", \"3\", \"4\", \"5\", \"6\", \"7\", \"8\", \"9\", \"10\", \"11\", \"12\", \"13\", \"14\", \"15\", \"16\", \"17\", \"18\", \"19\", \"20\", \"21\", \"22\", \"23\", \"24\", \"25\", \"26\", \"27\", \"28\", \"29\", \"30\", \"31\", \"32\", \"33\", \"34\", \"35\", \"36\", \"37\", \"38\", \"39\", \"40\", \"41\", \"42\", \"43\", \"44\", \"45\", \"46\"], \"mode\": \"markers\", \"name\": \"recall_score_weighted\", \"stepped\": false, \"type\": \"scatter\", \"data\": [0.740874914559125, 0.7499316473000684, 0.7188311688311688, 0.6862269309637732, 0.7604921394395079, 0.6861585782638414, 0.7408920027341079, 0.7683014354066986, 0.650974025974026, 0.760475051264525, 0.6809295967190704, 0.7421565276828435, 0.7683014354066987, 0.675803144224197, 0.7694976076555025, 0.6837491455912508, 0.7591592617908407, 0.7551777170198223, 0.7461551606288449, 0.7005297334244702, 0.7305365686944635, 0.7304853041695147, 0.6992652084757347, 0.7617224880382776, 0.6978981544771019, 0.650974025974026, 0.7096719070403281, 0.7578776486671224, 0.7474367737525631, 0.7708988380041012, 0.3762987012987013, 0.7591421736158579, 0.7696001367053998, 0.7603896103896104, 0.7356971975393028, 0.6705912508544086, 0.742259056732741, 0.7617395762132604, 0.7239747095010253, 0.7565105946684895, 0.6483766233766234, 0.7266404647983596, 0.7760594668489406, 0.7617737525632263, 0.7357142857142858, 0.7826042378673957, 0.7708817498291184]}, {\"categories\": [\"0\", \"1\", \"2\", \"3\", \"4\", \"5\", \"6\", \"7\", \"8\", \"9\", \"10\", \"11\", \"12\", \"13\", \"14\", \"15\", \"16\", \"17\", \"18\", \"19\", \"20\", \"21\", \"22\", \"23\", \"24\", \"25\", \"26\", \"27\", \"28\", \"29\", \"30\", \"31\", \"32\", \"33\", \"34\", \"35\", \"36\", \"37\", \"38\", \"39\", \"40\", \"41\", \"42\", \"43\", \"44\", \"45\", \"46\"], \"mode\": \"lines\", \"name\": \"recall_score_weighted_max\", \"stepped\": true, \"type\": \"scatter\", \"data\": [0.740874914559125, 0.7499316473000684, 0.7499316473000684, 0.7499316473000684, 0.7604921394395079, 0.7604921394395079, 0.7604921394395079, 0.7683014354066986, 0.7683014354066986, 0.7683014354066986, 0.7683014354066986, 0.7683014354066986, 0.7683014354066987, 0.7683014354066987, 0.7694976076555025, 0.7694976076555025, 0.7694976076555025, 0.7694976076555025, 0.7694976076555025, 0.7694976076555025, 0.7694976076555025, 0.7694976076555025, 0.7694976076555025, 0.7694976076555025, 0.7694976076555025, 0.7694976076555025, 0.7694976076555025, 0.7694976076555025, 0.7694976076555025, 0.7708988380041012, 0.7708988380041012, 0.7708988380041012, 0.7708988380041012, 0.7708988380041012, 0.7708988380041012, 0.7708988380041012, 0.7708988380041012, 0.7708988380041012, 0.7708988380041012, 0.7708988380041012, 0.7708988380041012, 0.7708988380041012, 0.7760594668489406, 0.7760594668489406, 0.7760594668489406, 0.7826042378673957, 0.7826042378673957]}], \"recall_score_macro\": [{\"categories\": [\"0\", \"1\", \"2\", \"3\", \"4\", \"5\", \"6\", \"7\", \"8\", \"9\", \"10\", \"11\", \"12\", \"13\", \"14\", \"15\", \"16\", \"17\", \"18\", \"19\", \"20\", \"21\", \"22\", \"23\", \"24\", \"25\", \"26\", \"27\", \"28\", \"29\", \"30\", \"31\", \"32\", \"33\", \"34\", \"35\", \"36\", \"37\", \"38\", \"39\", \"40\", \"41\", \"42\", \"43\", \"44\", \"45\", \"46\"], \"mode\": \"markers\", \"name\": \"recall_score_macro\", \"stepped\": false, \"type\": \"scatter\", \"data\": [0.7048938465723086, 0.7161486313052983, 0.7167344368911314, 0.5923529564749007, 0.7128279223094427, 0.5661595011687949, 0.7024584567746979, 0.7155409938121284, 0.5, 0.7183796652077851, 0.5819467167125151, 0.6955608332283215, 0.719521237741496, 0.6724689695781685, 0.7347873019508353, 0.6734265133423888, 0.7109640059671255, 0.6829296643900417, 0.7070672633512106, 0.7024140882588747, 0.7084703466570149, 0.6897290471206975, 0.6511702134853115, 0.6925184939827186, 0.6220823876929747, 0.5, 0.6375458813131853, 0.7092778402225045, 0.7493045113292406, 0.7216286024265004, 0.5, 0.6842819934595353, 0.7062473694858117, 0.7057704274398777, 0.6517673884348836, 0.5763378100989331, 0.6620434398353576, 0.6881793094614707, 0.6212361066906056, 0.7150690369797978, 0.5017974070429176, 0.640416587702263, 0.7324634867041758, 0.6971491390801712, 0.6597497064529936, 0.7226199771492463, 0.7211634186095291]}, {\"categories\": [\"0\", \"1\", \"2\", \"3\", \"4\", \"5\", \"6\", \"7\", \"8\", \"9\", \"10\", \"11\", \"12\", \"13\", \"14\", \"15\", \"16\", \"17\", \"18\", \"19\", \"20\", \"21\", \"22\", \"23\", \"24\", \"25\", \"26\", \"27\", \"28\", \"29\", \"30\", \"31\", \"32\", \"33\", \"34\", \"35\", \"36\", \"37\", \"38\", \"39\", \"40\", \"41\", \"42\", \"43\", \"44\", \"45\", \"46\"], \"mode\": \"lines\", \"name\": \"recall_score_macro_max\", \"stepped\": true, \"type\": \"scatter\", \"data\": [0.7048938465723086, 0.7161486313052983, 0.7167344368911314, 0.7167344368911314, 0.7167344368911314, 0.7167344368911314, 0.7167344368911314, 0.7167344368911314, 0.7167344368911314, 0.7183796652077851, 0.7183796652077851, 0.7183796652077851, 0.719521237741496, 0.719521237741496, 0.7347873019508353, 0.7347873019508353, 0.7347873019508353, 0.7347873019508353, 0.7347873019508353, 0.7347873019508353, 0.7347873019508353, 0.7347873019508353, 0.7347873019508353, 0.7347873019508353, 0.7347873019508353, 0.7347873019508353, 0.7347873019508353, 0.7347873019508353, 0.7493045113292406, 0.7493045113292406, 0.7493045113292406, 0.7493045113292406, 0.7493045113292406, 0.7493045113292406, 0.7493045113292406, 0.7493045113292406, 0.7493045113292406, 0.7493045113292406, 0.7493045113292406, 0.7493045113292406, 0.7493045113292406, 0.7493045113292406, 0.7493045113292406, 0.7493045113292406, 0.7493045113292406, 0.7493045113292406, 0.7493045113292406]}], \"average_precision_score_macro\": [{\"categories\": [\"0\", \"1\", \"2\", \"3\", \"4\", \"5\", \"6\", \"7\", \"8\", \"9\", \"10\", \"11\", \"12\", \"13\", \"14\", \"15\", \"16\", \"17\", \"18\", \"19\", \"20\", \"21\", \"22\", \"23\", \"24\", \"25\", \"26\", \"27\", \"28\", \"29\", \"30\", \"31\", \"32\", \"33\", \"34\", \"35\", \"36\", \"37\", \"38\", \"39\", \"40\", \"41\", \"42\", \"43\", \"44\", \"45\", \"46\"], \"mode\": \"markers\", \"name\": \"average_precision_score_macro\", \"stepped\": false, \"type\": \"scatter\", \"data\": [0.7799088937213564, 0.7880739744748982, 0.7866460578053911, 0.6931520058462832, 0.8163017165237294, 0.7749237654329475, 0.7737766842633234, 0.8059906954918301, 0.7384256731640558, 0.791995408290133, 0.7040246024502511, 0.7992538117494634, 0.806093616080233, 0.7484693052896205, 0.7976344173478248, 0.7429319382481517, 0.7966363813264232, 0.8040738089659237, 0.8003811519278162, 0.7775826226970459, 0.7745794591002961, 0.780999782662016, 0.6943784975094547, 0.8095882844955342, 0.7203592821856633, 0.5, 0.7313751156853254, 0.8152587456945872, 0.8022160336921026, 0.8065147561377112, 0.5, 0.8108149105310526, 0.8116590743849352, 0.8146630637531829, 0.8081157872671604, 0.6381725847390338, 0.8021520003129414, 0.8020804073720604, 0.7998483417220869, 0.8089366918302993, 0.4514794442882125, 0.7976182030927352, 0.8168617868429878, 0.8156776467839988, 0.804963955183133, 0.8162247167050584, 0.821168796456012]}, {\"categories\": [\"0\", \"1\", \"2\", \"3\", \"4\", \"5\", \"6\", \"7\", \"8\", \"9\", \"10\", \"11\", \"12\", \"13\", \"14\", \"15\", \"16\", \"17\", \"18\", \"19\", \"20\", \"21\", \"22\", \"23\", \"24\", \"25\", \"26\", \"27\", \"28\", \"29\", \"30\", \"31\", \"32\", \"33\", \"34\", \"35\", \"36\", \"37\", \"38\", \"39\", \"40\", \"41\", \"42\", \"43\", \"44\", \"45\", \"46\"], \"mode\": \"lines\", \"name\": \"average_precision_score_macro_max\", \"stepped\": true, \"type\": \"scatter\", \"data\": [0.7799088937213564, 0.7880739744748982, 0.7880739744748982, 0.7880739744748982, 0.8163017165237294, 0.8163017165237294, 0.8163017165237294, 0.8163017165237294, 0.8163017165237294, 0.8163017165237294, 0.8163017165237294, 0.8163017165237294, 0.8163017165237294, 0.8163017165237294, 0.8163017165237294, 0.8163017165237294, 0.8163017165237294, 0.8163017165237294, 0.8163017165237294, 0.8163017165237294, 0.8163017165237294, 0.8163017165237294, 0.8163017165237294, 0.8163017165237294, 0.8163017165237294, 0.8163017165237294, 0.8163017165237294, 0.8163017165237294, 0.8163017165237294, 0.8163017165237294, 0.8163017165237294, 0.8163017165237294, 0.8163017165237294, 0.8163017165237294, 0.8163017165237294, 0.8163017165237294, 0.8163017165237294, 0.8163017165237294, 0.8163017165237294, 0.8163017165237294, 0.8163017165237294, 0.8163017165237294, 0.8168617868429878, 0.8168617868429878, 0.8168617868429878, 0.8168617868429878, 0.821168796456012]}], \"accuracy\": [{\"categories\": [\"0\", \"1\", \"2\", \"3\", \"4\", \"5\", \"6\", \"7\", \"8\", \"9\", \"10\", \"11\", \"12\", \"13\", \"14\", \"15\", \"16\", \"17\", \"18\", \"19\", \"20\", \"21\", \"22\", \"23\", \"24\", \"25\", \"26\", \"27\", \"28\", \"29\", \"30\", \"31\", \"32\", \"33\", \"34\", \"35\", \"36\", \"37\", \"38\", \"39\", \"40\", \"41\", \"42\", \"43\", \"44\", \"45\", \"46\"], \"mode\": \"markers\", \"name\": \"accuracy\", \"stepped\": false, \"type\": \"scatter\", \"data\": [0.740874914559125, 0.7499316473000684, 0.7188311688311688, 0.6862269309637732, 0.7604921394395079, 0.6861585782638414, 0.7408920027341079, 0.7683014354066986, 0.650974025974026, 0.760475051264525, 0.6809295967190704, 0.7421565276828435, 0.7683014354066987, 0.675803144224197, 0.7694976076555025, 0.6837491455912508, 0.7591592617908407, 0.7551777170198223, 0.7461551606288449, 0.7005297334244702, 0.7305365686944635, 0.7304853041695147, 0.6992652084757347, 0.7617224880382776, 0.6978981544771019, 0.650974025974026, 0.7096719070403281, 0.7578776486671224, 0.7474367737525631, 0.7708988380041012, 0.3762987012987013, 0.7591421736158579, 0.7696001367053998, 0.7603896103896104, 0.7356971975393028, 0.6705912508544086, 0.742259056732741, 0.7617395762132604, 0.7239747095010253, 0.7565105946684895, 0.6483766233766234, 0.7266404647983596, 0.7760594668489406, 0.7617737525632263, 0.7357142857142858, 0.7826042378673957, 0.7708817498291184]}, {\"categories\": [\"0\", \"1\", \"2\", \"3\", \"4\", \"5\", \"6\", \"7\", \"8\", \"9\", \"10\", \"11\", \"12\", \"13\", \"14\", \"15\", \"16\", \"17\", \"18\", \"19\", \"20\", \"21\", \"22\", \"23\", \"24\", \"25\", \"26\", \"27\", \"28\", \"29\", \"30\", \"31\", \"32\", \"33\", \"34\", \"35\", \"36\", \"37\", \"38\", \"39\", \"40\", \"41\", \"42\", \"43\", \"44\", \"45\", \"46\"], \"mode\": \"lines\", \"name\": \"accuracy_max\", \"stepped\": true, \"type\": \"scatter\", \"data\": [0.740874914559125, 0.7499316473000684, 0.7499316473000684, 0.7499316473000684, 0.7604921394395079, 0.7604921394395079, 0.7604921394395079, 0.7683014354066986, 0.7683014354066986, 0.7683014354066986, 0.7683014354066986, 0.7683014354066986, 0.7683014354066987, 0.7683014354066987, 0.7694976076555025, 0.7694976076555025, 0.7694976076555025, 0.7694976076555025, 0.7694976076555025, 0.7694976076555025, 0.7694976076555025, 0.7694976076555025, 0.7694976076555025, 0.7694976076555025, 0.7694976076555025, 0.7694976076555025, 0.7694976076555025, 0.7694976076555025, 0.7694976076555025, 0.7708988380041012, 0.7708988380041012, 0.7708988380041012, 0.7708988380041012, 0.7708988380041012, 0.7708988380041012, 0.7708988380041012, 0.7708988380041012, 0.7708988380041012, 0.7708988380041012, 0.7708988380041012, 0.7708988380041012, 0.7708988380041012, 0.7760594668489406, 0.7760594668489406, 0.7760594668489406, 0.7826042378673957, 0.7826042378673957]}], \"AUC_weighted\": [{\"categories\": [\"0\", \"1\", \"2\", \"3\", \"4\", \"5\", \"6\", \"7\", \"8\", \"9\", \"10\", \"11\", \"12\", \"13\", \"14\", \"15\", \"16\", \"17\", \"18\", \"19\", \"20\", \"21\", \"22\", \"23\", \"24\", \"25\", \"26\", \"27\", \"28\", \"29\", \"30\", \"31\", \"32\", \"33\", \"34\", \"35\", \"36\", \"37\", \"38\", \"39\", \"40\", \"41\", \"42\", \"43\", \"44\", \"45\", \"46\"], \"mode\": \"markers\", \"name\": \"AUC_weighted\", \"stepped\": false, \"type\": \"scatter\", \"data\": [0.8039891977859522, 0.8059561161333386, 0.7995925253049109, 0.6969796414752515, 0.8335415996135017, 0.8037148868761763, 0.7979235947938609, 0.8225294378027137, 0.7646757171098514, 0.8181207585338918, 0.7229020918224307, 0.8236717141882626, 0.821702184515163, 0.7548362048845233, 0.8110166673360629, 0.752898093828573, 0.8085523546817145, 0.82262859098032, 0.8243465151053986, 0.7881305140830628, 0.7852680586018406, 0.8003497338520111, 0.717607741023126, 0.829676041214835, 0.7296819245211562, 0.5, 0.7325207984689098, 0.8315269543971311, 0.8225375002567107, 0.8214302281432424, 0.5, 0.8272479544131063, 0.828436589183462, 0.8326463397804563, 0.823375423449517, 0.6497190785777253, 0.8166378763194115, 0.8189460458278799, 0.8148847905292399, 0.8306155922196317, 0.3669901210653597, 0.8115826107060254, 0.8372230632460097, 0.8321766005619221, 0.8212075823062979, 0.8293879466271467, 0.8367339256514296]}, {\"categories\": [\"0\", \"1\", \"2\", \"3\", \"4\", \"5\", \"6\", \"7\", \"8\", \"9\", \"10\", \"11\", \"12\", \"13\", \"14\", \"15\", \"16\", \"17\", \"18\", \"19\", \"20\", \"21\", \"22\", \"23\", \"24\", \"25\", \"26\", \"27\", \"28\", \"29\", \"30\", \"31\", \"32\", \"33\", \"34\", \"35\", \"36\", \"37\", \"38\", \"39\", \"40\", \"41\", \"42\", \"43\", \"44\", \"45\", \"46\"], \"mode\": \"lines\", \"name\": \"AUC_weighted_max\", \"stepped\": true, \"type\": \"scatter\", \"data\": [0.8039891977859522, 0.8059561161333386, 0.8059561161333386, 0.8059561161333386, 0.8335415996135017, 0.8335415996135017, 0.8335415996135017, 0.8335415996135017, 0.8335415996135017, 0.8335415996135017, 0.8335415996135017, 0.8335415996135017, 0.8335415996135017, 0.8335415996135017, 0.8335415996135017, 0.8335415996135017, 0.8335415996135017, 0.8335415996135017, 0.8335415996135017, 0.8335415996135017, 0.8335415996135017, 0.8335415996135017, 0.8335415996135017, 0.8335415996135017, 0.8335415996135017, 0.8335415996135017, 0.8335415996135017, 0.8335415996135017, 0.8335415996135017, 0.8335415996135017, 0.8335415996135017, 0.8335415996135017, 0.8335415996135017, 0.8335415996135017, 0.8335415996135017, 0.8335415996135017, 0.8335415996135017, 0.8335415996135017, 0.8335415996135017, 0.8335415996135017, 0.8335415996135017, 0.8335415996135017, 0.8372230632460097, 0.8372230632460097, 0.8372230632460097, 0.8372230632460097, 0.8372230632460097]}], \"average_precision_score_micro\": [{\"categories\": [\"0\", \"1\", \"2\", \"3\", \"4\", \"5\", \"6\", \"7\", \"8\", \"9\", \"10\", \"11\", \"12\", \"13\", \"14\", \"15\", \"16\", \"17\", \"18\", \"19\", \"20\", \"21\", \"22\", \"23\", \"24\", \"25\", \"26\", \"27\", \"28\", \"29\", \"30\", \"31\", \"32\", \"33\", \"34\", \"35\", \"36\", \"37\", \"38\", \"39\", \"40\", \"41\", \"42\", \"43\", \"44\", \"45\", \"46\"], \"mode\": \"markers\", \"name\": \"average_precision_score_micro\", \"stepped\": false, \"type\": \"scatter\", \"data\": [0.8285332102109111, 0.8296483663520859, 0.8070938436952864, 0.7470439858849943, 0.8533676836826256, 0.8065760529621535, 0.8192332658970217, 0.8396465450471602, 0.7829138068732608, 0.8391387600515262, 0.7562078866707443, 0.8429416289931734, 0.840864526146244, 0.7398426286922157, 0.8344199476479757, 0.7763590893518679, 0.8307235790915483, 0.8376976884534209, 0.8468070683446645, 0.7971906931385508, 0.805808552192485, 0.8291941358853849, 0.753309821446931, 0.8457779642971138, 0.77707947184368, 0.6013901078505622, 0.7723255445405315, 0.8524771148361779, 0.823476345799379, 0.841708859531875, 0.46405244551289987, 0.840522358042645, 0.8481832081065548, 0.8536937905795294, 0.8341514931909488, 0.6856316926314864, 0.8335918151926945, 0.8382023447496749, 0.8173552554213271, 0.850599672615345, 0.5580858377212301, 0.8255783304522083, 0.8533454388066259, 0.8483312488465213, 0.8351505629311899, 0.8492230056880542, 0.8546905758992418]}, {\"categories\": [\"0\", \"1\", \"2\", \"3\", \"4\", \"5\", \"6\", \"7\", \"8\", \"9\", \"10\", \"11\", \"12\", \"13\", \"14\", \"15\", \"16\", \"17\", \"18\", \"19\", \"20\", \"21\", \"22\", \"23\", \"24\", \"25\", \"26\", \"27\", \"28\", \"29\", \"30\", \"31\", \"32\", \"33\", \"34\", \"35\", \"36\", \"37\", \"38\", \"39\", \"40\", \"41\", \"42\", \"43\", \"44\", \"45\", \"46\"], \"mode\": \"lines\", \"name\": \"average_precision_score_micro_max\", \"stepped\": true, \"type\": \"scatter\", \"data\": [0.8285332102109111, 0.8296483663520859, 0.8296483663520859, 0.8296483663520859, 0.8533676836826256, 0.8533676836826256, 0.8533676836826256, 0.8533676836826256, 0.8533676836826256, 0.8533676836826256, 0.8533676836826256, 0.8533676836826256, 0.8533676836826256, 0.8533676836826256, 0.8533676836826256, 0.8533676836826256, 0.8533676836826256, 0.8533676836826256, 0.8533676836826256, 0.8533676836826256, 0.8533676836826256, 0.8533676836826256, 0.8533676836826256, 0.8533676836826256, 0.8533676836826256, 0.8533676836826256, 0.8533676836826256, 0.8533676836826256, 0.8533676836826256, 0.8533676836826256, 0.8533676836826256, 0.8533676836826256, 0.8533676836826256, 0.8536937905795294, 0.8536937905795294, 0.8536937905795294, 0.8536937905795294, 0.8536937905795294, 0.8536937905795294, 0.8536937905795294, 0.8536937905795294, 0.8536937905795294, 0.8536937905795294, 0.8536937905795294, 0.8536937905795294, 0.8536937905795294, 0.8546905758992418]}], \"precision_score_macro\": [{\"categories\": [\"0\", \"1\", \"2\", \"3\", \"4\", \"5\", \"6\", \"7\", \"8\", \"9\", \"10\", \"11\", \"12\", \"13\", \"14\", \"15\", \"16\", \"17\", \"18\", \"19\", \"20\", \"21\", \"22\", \"23\", \"24\", \"25\", \"26\", \"27\", \"28\", \"29\", \"30\", \"31\", \"32\", \"33\", \"34\", \"35\", \"36\", \"37\", \"38\", \"39\", \"40\", \"41\", \"42\", \"43\", \"44\", \"45\", \"46\"], \"mode\": \"markers\", \"name\": \"precision_score_macro\", \"stepped\": false, \"type\": \"scatter\", \"data\": [0.7138426971296534, 0.7236748857717373, 0.7023449159675652, 0.660119709622391, 0.739169001308408, 0.6662449815256546, 0.7127668795950595, 0.7482505059895315, 0.325487012987013, 0.7357255372142851, 0.6549768512855982, 0.7149281041622095, 0.7487930726847549, 0.6582679566942101, 0.7470060473106457, 0.6626233345550301, 0.7398875706511326, 0.7529199202070719, 0.7198993816700219, 0.6867185542938885, 0.7028966586902239, 0.700189783016294, 0.6638560305151585, 0.7573900564618191, 0.6586983850097836, 0.325487012987013, 0.6884300647794308, 0.7335109633905609, 0.7309536225546498, 0.7521596114829708, 0.18814935064935065, 0.7574012310599855, 0.7624300276336669, 0.7409469455203198, 0.743262457583793, 0.6262388665881917, 0.7483226997935601, 0.7630273090865206, 0.7575041296743448, 0.7335444448521268, 0.45091638186375027, 0.719841022876827, 0.7548087680918562, 0.7542855088460889, 0.7274520060236841, 0.7774729979255744, 0.7576407565718507]}, {\"categories\": [\"0\", \"1\", \"2\", \"3\", \"4\", \"5\", \"6\", \"7\", \"8\", \"9\", \"10\", \"11\", \"12\", \"13\", \"14\", \"15\", \"16\", \"17\", \"18\", \"19\", \"20\", \"21\", \"22\", \"23\", \"24\", \"25\", \"26\", \"27\", \"28\", \"29\", \"30\", \"31\", \"32\", \"33\", \"34\", \"35\", \"36\", \"37\", \"38\", \"39\", \"40\", \"41\", \"42\", \"43\", \"44\", \"45\", \"46\"], \"mode\": \"lines\", \"name\": \"precision_score_macro_max\", \"stepped\": true, \"type\": \"scatter\", \"data\": [0.7138426971296534, 0.7236748857717373, 0.7236748857717373, 0.7236748857717373, 0.739169001308408, 0.739169001308408, 0.739169001308408, 0.7482505059895315, 0.7482505059895315, 0.7482505059895315, 0.7482505059895315, 0.7482505059895315, 0.7487930726847549, 0.7487930726847549, 0.7487930726847549, 0.7487930726847549, 0.7487930726847549, 0.7529199202070719, 0.7529199202070719, 0.7529199202070719, 0.7529199202070719, 0.7529199202070719, 0.7529199202070719, 0.7573900564618191, 0.7573900564618191, 0.7573900564618191, 0.7573900564618191, 0.7573900564618191, 0.7573900564618191, 0.7573900564618191, 0.7573900564618191, 0.7574012310599855, 0.7624300276336669, 0.7624300276336669, 0.7624300276336669, 0.7624300276336669, 0.7624300276336669, 0.7630273090865206, 0.7630273090865206, 0.7630273090865206, 0.7630273090865206, 0.7630273090865206, 0.7630273090865206, 0.7630273090865206, 0.7630273090865206, 0.7774729979255744, 0.7774729979255744]}], \"AUC_micro\": [{\"categories\": [\"0\", \"1\", \"2\", \"3\", \"4\", \"5\", \"6\", \"7\", \"8\", \"9\", \"10\", \"11\", \"12\", \"13\", \"14\", \"15\", \"16\", \"17\", \"18\", \"19\", \"20\", \"21\", \"22\", \"23\", \"24\", \"25\", \"26\", \"27\", \"28\", \"29\", \"30\", \"31\", \"32\", \"33\", \"34\", \"35\", \"36\", \"37\", \"38\", \"39\", \"40\", \"41\", \"42\", \"43\", \"44\", \"45\", \"46\"], \"mode\": \"markers\", \"name\": \"AUC_micro\", \"stepped\": false, \"type\": \"scatter\", \"data\": [0.8282795980506166, 0.8305536393491029, 0.8011080741217986, 0.7481400198984381, 0.8517510473661316, 0.7950791253751105, 0.819119556604492, 0.8448251650766758, 0.7692678458714362, 0.8371350483257795, 0.7588862802395288, 0.8417699208641126, 0.8465153642899892, 0.7455981246691575, 0.8374508233159796, 0.7737701215304463, 0.836756734469617, 0.8339925703231545, 0.8443067789946499, 0.7929510664983468, 0.8091724867300918, 0.824710879292309, 0.7607723919333534, 0.8434904974329193, 0.7759465423952598, 0.650974025974026, 0.7776184211694338, 0.8514476796991547, 0.8213888995308751, 0.8467923726002387, 0.3762987012987013, 0.8367341711873045, 0.846629853894352, 0.8507690087550325, 0.8265840405322633, 0.7085690101800204, 0.8276049451052598, 0.8320710441750933, 0.8113948138148143, 0.850188632777806, 0.5902346482078558, 0.8175616009435756, 0.8562985722321713, 0.8446289138695244, 0.8305959743390042, 0.8488110753332719, 0.8522119141605955]}, {\"categories\": [\"0\", \"1\", \"2\", \"3\", \"4\", \"5\", \"6\", \"7\", \"8\", \"9\", \"10\", \"11\", \"12\", \"13\", \"14\", \"15\", \"16\", \"17\", \"18\", \"19\", \"20\", \"21\", \"22\", \"23\", \"24\", \"25\", \"26\", \"27\", \"28\", \"29\", \"30\", \"31\", \"32\", \"33\", \"34\", \"35\", \"36\", \"37\", \"38\", \"39\", \"40\", \"41\", \"42\", \"43\", \"44\", \"45\", \"46\"], \"mode\": \"lines\", \"name\": \"AUC_micro_max\", \"stepped\": true, \"type\": \"scatter\", \"data\": [0.8282795980506166, 0.8305536393491029, 0.8305536393491029, 0.8305536393491029, 0.8517510473661316, 0.8517510473661316, 0.8517510473661316, 0.8517510473661316, 0.8517510473661316, 0.8517510473661316, 0.8517510473661316, 0.8517510473661316, 0.8517510473661316, 0.8517510473661316, 0.8517510473661316, 0.8517510473661316, 0.8517510473661316, 0.8517510473661316, 0.8517510473661316, 0.8517510473661316, 0.8517510473661316, 0.8517510473661316, 0.8517510473661316, 0.8517510473661316, 0.8517510473661316, 0.8517510473661316, 0.8517510473661316, 0.8517510473661316, 0.8517510473661316, 0.8517510473661316, 0.8517510473661316, 0.8517510473661316, 0.8517510473661316, 0.8517510473661316, 0.8517510473661316, 0.8517510473661316, 0.8517510473661316, 0.8517510473661316, 0.8517510473661316, 0.8517510473661316, 0.8517510473661316, 0.8517510473661316, 0.8562985722321713, 0.8562985722321713, 0.8562985722321713, 0.8562985722321713, 0.8562985722321713]}], \"AUC_macro\": [{\"categories\": [\"0\", \"1\", \"2\", \"3\", \"4\", \"5\", \"6\", \"7\", \"8\", \"9\", \"10\", \"11\", \"12\", \"13\", \"14\", \"15\", \"16\", \"17\", \"18\", \"19\", \"20\", \"21\", \"22\", \"23\", \"24\", \"25\", \"26\", \"27\", \"28\", \"29\", \"30\", \"31\", \"32\", \"33\", \"34\", \"35\", \"36\", \"37\", \"38\", \"39\", \"40\", \"41\", \"42\", \"43\", \"44\", \"45\", \"46\"], \"mode\": \"markers\", \"name\": \"AUC_macro\", \"stepped\": false, \"type\": \"scatter\", \"data\": [0.8039891977859522, 0.8059561161333386, 0.7995925253049109, 0.6969796414752515, 0.8335415996135017, 0.8037148868761763, 0.7979235947938609, 0.8225294378027137, 0.7646757171098514, 0.8181207585338918, 0.7229020918224307, 0.8236717141882626, 0.8217021845151631, 0.7548362048845234, 0.8110166673360627, 0.752898093828573, 0.8085523546817145, 0.82262859098032, 0.8243465151053986, 0.7881305140830628, 0.7852680586018407, 0.8003497338520111, 0.717607741023126, 0.8296760412148352, 0.7296819245211562, 0.5, 0.7325207984689098, 0.8315269543971311, 0.8225375002567107, 0.8214302281432424, 0.5, 0.8272479544131064, 0.828436589183462, 0.8326463397804563, 0.823375423449517, 0.6497190785777253, 0.8166378763194115, 0.8189460458278797, 0.8148847905292399, 0.8306155922196317, 0.3669901210653596, 0.8115826107060254, 0.8372230632460097, 0.8321766005619221, 0.8212075823062979, 0.8293879466271467, 0.8367339256514296]}, {\"categories\": [\"0\", \"1\", \"2\", \"3\", \"4\", \"5\", \"6\", \"7\", \"8\", \"9\", \"10\", \"11\", \"12\", \"13\", \"14\", \"15\", \"16\", \"17\", \"18\", \"19\", \"20\", \"21\", \"22\", \"23\", \"24\", \"25\", \"26\", \"27\", \"28\", \"29\", \"30\", \"31\", \"32\", \"33\", \"34\", \"35\", \"36\", \"37\", \"38\", \"39\", \"40\", \"41\", \"42\", \"43\", \"44\", \"45\", \"46\"], \"mode\": \"lines\", \"name\": \"AUC_macro_max\", \"stepped\": true, \"type\": \"scatter\", \"data\": [0.8039891977859522, 0.8059561161333386, 0.8059561161333386, 0.8059561161333386, 0.8335415996135017, 0.8335415996135017, 0.8335415996135017, 0.8335415996135017, 0.8335415996135017, 0.8335415996135017, 0.8335415996135017, 0.8335415996135017, 0.8335415996135017, 0.8335415996135017, 0.8335415996135017, 0.8335415996135017, 0.8335415996135017, 0.8335415996135017, 0.8335415996135017, 0.8335415996135017, 0.8335415996135017, 0.8335415996135017, 0.8335415996135017, 0.8335415996135017, 0.8335415996135017, 0.8335415996135017, 0.8335415996135017, 0.8335415996135017, 0.8335415996135017, 0.8335415996135017, 0.8335415996135017, 0.8335415996135017, 0.8335415996135017, 0.8335415996135017, 0.8335415996135017, 0.8335415996135017, 0.8335415996135017, 0.8335415996135017, 0.8335415996135017, 0.8335415996135017, 0.8335415996135017, 0.8335415996135017, 0.8372230632460097, 0.8372230632460097, 0.8372230632460097, 0.8372230632460097, 0.8372230632460097]}], \"log_loss\": [{\"categories\": [\"0\", \"1\", \"2\", \"3\", \"4\", \"5\", \"6\", \"7\", \"8\", \"9\", \"10\", \"11\", \"12\", \"13\", \"14\", \"15\", \"16\", \"17\", \"18\", \"19\", \"20\", \"21\", \"22\", \"23\", \"24\", \"25\", \"26\", \"27\", \"28\", \"29\", \"30\", \"31\", \"32\", \"33\", \"34\", \"35\", \"36\", \"37\", \"38\", \"39\", \"40\", \"41\", \"42\", \"43\", \"44\", \"45\", \"46\"], \"mode\": \"markers\", \"name\": \"log_loss\", \"stepped\": false, \"type\": \"scatter\", \"data\": [0.6354192909309159, 0.6873300879469715, 0.5904300901432744, 0.6774063213986745, 0.4821845281521181, 0.5634921587263346, 0.5266866999238473, 0.4895315715813947, 0.6163844053722254, 0.5010547657782441, 0.5825554274046273, 0.4906844057272973, 0.4895597414522112, 0.6411504061687642, 0.5008991176090251, 0.5715356005738721, 0.5012543302615684, 0.5152969450135231, 0.49107502121097235, 0.5579181848862279, 0.5305974586759781, 0.5273701257150785, 0.6395985111957635, 0.509118956594342, 0.5652104660877031, 0.6484440231732348, 0.5648840261995541, 0.48029753164989125, 0.5802681049353294, 0.48852715554534243, 0.730809118862603, 0.5142164630137012, 0.493435235195583, 0.48224193860242687, 0.525914608843893, 0.6300109162364397, 0.520004843348859, 0.5156759128554823, 0.5445282640190515, 0.48188586904280956, 0.6707143258518501, 0.5301544737600151, 0.47436479891036887, 0.5010436382879947, 0.5194178810950453, 0.503203150467533, 0.4871283120473183]}, {\"categories\": [\"0\", \"1\", \"2\", \"3\", \"4\", \"5\", \"6\", \"7\", \"8\", \"9\", \"10\", \"11\", \"12\", \"13\", \"14\", \"15\", \"16\", \"17\", \"18\", \"19\", \"20\", \"21\", \"22\", \"23\", \"24\", \"25\", \"26\", \"27\", \"28\", \"29\", \"30\", \"31\", \"32\", \"33\", \"34\", \"35\", \"36\", \"37\", \"38\", \"39\", \"40\", \"41\", \"42\", \"43\", \"44\", \"45\", \"46\"], \"mode\": \"lines\", \"name\": \"log_loss_min\", \"stepped\": true, \"type\": \"scatter\", \"data\": [0.6354192909309159, 0.6354192909309159, 0.5904300901432744, 0.5904300901432744, 0.4821845281521181, 0.4821845281521181, 0.4821845281521181, 0.4821845281521181, 0.4821845281521181, 0.4821845281521181, 0.4821845281521181, 0.4821845281521181, 0.4821845281521181, 0.4821845281521181, 0.4821845281521181, 0.4821845281521181, 0.4821845281521181, 0.4821845281521181, 0.4821845281521181, 0.4821845281521181, 0.4821845281521181, 0.4821845281521181, 0.4821845281521181, 0.4821845281521181, 0.4821845281521181, 0.4821845281521181, 0.4821845281521181, 0.48029753164989125, 0.48029753164989125, 0.48029753164989125, 0.48029753164989125, 0.48029753164989125, 0.48029753164989125, 0.48029753164989125, 0.48029753164989125, 0.48029753164989125, 0.48029753164989125, 0.48029753164989125, 0.48029753164989125, 0.48029753164989125, 0.48029753164989125, 0.48029753164989125, 0.47436479891036887, 0.47436479891036887, 0.47436479891036887, 0.47436479891036887, 0.47436479891036887]}], \"matthews_correlation\": [{\"categories\": [\"0\", \"1\", \"2\", \"3\", \"4\", \"5\", \"6\", \"7\", \"8\", \"9\", \"10\", \"11\", \"12\", \"13\", \"14\", \"15\", \"16\", \"17\", \"18\", \"19\", \"20\", \"21\", \"22\", \"23\", \"24\", \"25\", \"26\", \"27\", \"28\", \"29\", \"30\", \"31\", \"32\", \"33\", \"34\", \"35\", \"36\", \"37\", \"38\", \"39\", \"40\", \"41\", \"42\", \"43\", \"44\", \"45\", \"46\"], \"mode\": \"markers\", \"name\": \"matthews_correlation\", \"stepped\": false, \"type\": \"scatter\", \"data\": [0.41823803499037737, 0.43930045455519684, 0.4185879763578234, 0.24126050245231742, 0.4506308960929015, 0.21489176457977927, 0.41481414479424894, 0.46238926990370166, 0.0, 0.4534817987462006, 0.22346741627482408, 0.40956412494151573, 0.4670443191339716, 0.33024009288813605, 0.4810875891203267, 0.3355495950003516, 0.44942729413375043, 0.42925454016082687, 0.42633742970711735, 0.3885387142630211, 0.41106557540841243, 0.38943101882978687, 0.31434573392161835, 0.44400168244944116, 0.27726878204481825, 0.0, 0.3212113901549637, 0.44190308539567785, 0.4796598628601544, 0.47246616613871134, 0.0, 0.43468847058621324, 0.4649820223138638, 0.4447826556921803, 0.38369084225464495, 0.19526422639300617, 0.39943875954041885, 0.4447545662450095, 0.34106911325375944, 0.44788172799059706, 0.013497377200494742, 0.35010324851662344, 0.4864395953472367, 0.4472050528805986, 0.38060675656635834, 0.49673693602097907, 0.4761868200908606]}, {\"categories\": [\"0\", \"1\", \"2\", \"3\", \"4\", \"5\", \"6\", \"7\", \"8\", \"9\", \"10\", \"11\", \"12\", \"13\", \"14\", \"15\", \"16\", \"17\", \"18\", \"19\", \"20\", \"21\", \"22\", \"23\", \"24\", \"25\", \"26\", \"27\", \"28\", \"29\", \"30\", \"31\", \"32\", \"33\", \"34\", \"35\", \"36\", \"37\", \"38\", \"39\", \"40\", \"41\", \"42\", \"43\", \"44\", \"45\", \"46\"], \"mode\": \"lines\", \"name\": \"matthews_correlation_max\", \"stepped\": true, \"type\": \"scatter\", \"data\": [0.41823803499037737, 0.43930045455519684, 0.43930045455519684, 0.43930045455519684, 0.4506308960929015, 0.4506308960929015, 0.4506308960929015, 0.46238926990370166, 0.46238926990370166, 0.46238926990370166, 0.46238926990370166, 0.46238926990370166, 0.4670443191339716, 0.4670443191339716, 0.4810875891203267, 0.4810875891203267, 0.4810875891203267, 0.4810875891203267, 0.4810875891203267, 0.4810875891203267, 0.4810875891203267, 0.4810875891203267, 0.4810875891203267, 0.4810875891203267, 0.4810875891203267, 0.4810875891203267, 0.4810875891203267, 0.4810875891203267, 0.4810875891203267, 0.4810875891203267, 0.4810875891203267, 0.4810875891203267, 0.4810875891203267, 0.4810875891203267, 0.4810875891203267, 0.4810875891203267, 0.4810875891203267, 0.4810875891203267, 0.4810875891203267, 0.4810875891203267, 0.4810875891203267, 0.4810875891203267, 0.4864395953472367, 0.4864395953472367, 0.4864395953472367, 0.49673693602097907, 0.49673693602097907]}], \"norm_macro_recall\": [{\"categories\": [\"0\", \"1\", \"2\", \"3\", \"4\", \"5\", \"6\", \"7\", \"8\", \"9\", \"10\", \"11\", \"12\", \"13\", \"14\", \"15\", \"16\", \"17\", \"18\", \"19\", \"20\", \"21\", \"22\", \"23\", \"24\", \"25\", \"26\", \"27\", \"28\", \"29\", \"30\", \"31\", \"32\", \"33\", \"34\", \"35\", \"36\", \"37\", \"38\", \"39\", \"40\", \"41\", \"42\", \"43\", \"44\", \"45\", \"46\"], \"mode\": \"markers\", \"name\": \"norm_macro_recall\", \"stepped\": false, \"type\": \"scatter\", \"data\": [0.4097876931446172, 0.43229726261059637, 0.4334688737822627, 0.18470591294980127, 0.4256558446188854, 0.13231900233758986, 0.40491691354939585, 0.43108198762425687, 0.0, 0.4367593304155699, 0.16389343342503032, 0.391121666456643, 0.4390424754829921, 0.34493793915633686, 0.4695746039016706, 0.3468530266847775, 0.42192801193425106, 0.3658593287800834, 0.414134526702421, 0.4048281765177494, 0.4169406933140296, 0.37945809424139487, 0.3023404269706232, 0.38503698796543706, 0.24416477538594955, 0.0, 0.2750917626263707, 0.41855568044500907, 0.4986090226584812, 0.4432572048530009, 0.0, 0.3685639869190708, 0.4124947389716233, 0.41154085487975534, 0.30353477686976704, 0.15512383112065348, 0.3240868796707153, 0.3763586189229412, 0.24247221338121108, 0.4301380739595956, 0.013483709273182964, 0.28083317540452574, 0.4649269734083516, 0.39429827816034235, 0.3194994129059869, 0.4452399542984926, 0.44232683721905836]}, {\"categories\": [\"0\", \"1\", \"2\", \"3\", \"4\", \"5\", \"6\", \"7\", \"8\", \"9\", \"10\", \"11\", \"12\", \"13\", \"14\", \"15\", \"16\", \"17\", \"18\", \"19\", \"20\", \"21\", \"22\", \"23\", \"24\", \"25\", \"26\", \"27\", \"28\", \"29\", \"30\", \"31\", \"32\", \"33\", \"34\", \"35\", \"36\", \"37\", \"38\", \"39\", \"40\", \"41\", \"42\", \"43\", \"44\", \"45\", \"46\"], \"mode\": \"lines\", \"name\": \"norm_macro_recall_max\", \"stepped\": true, \"type\": \"scatter\", \"data\": [0.4097876931446172, 0.43229726261059637, 0.4334688737822627, 0.4334688737822627, 0.4334688737822627, 0.4334688737822627, 0.4334688737822627, 0.4334688737822627, 0.4334688737822627, 0.4367593304155699, 0.4367593304155699, 0.4367593304155699, 0.4390424754829921, 0.4390424754829921, 0.4695746039016706, 0.4695746039016706, 0.4695746039016706, 0.4695746039016706, 0.4695746039016706, 0.4695746039016706, 0.4695746039016706, 0.4695746039016706, 0.4695746039016706, 0.4695746039016706, 0.4695746039016706, 0.4695746039016706, 0.4695746039016706, 0.4695746039016706, 0.4986090226584812, 0.4986090226584812, 0.4986090226584812, 0.4986090226584812, 0.4986090226584812, 0.4986090226584812, 0.4986090226584812, 0.4986090226584812, 0.4986090226584812, 0.4986090226584812, 0.4986090226584812, 0.4986090226584812, 0.4986090226584812, 0.4986090226584812, 0.4986090226584812, 0.4986090226584812, 0.4986090226584812, 0.4986090226584812, 0.4986090226584812]}], \"precision_score_micro\": [{\"categories\": [\"0\", \"1\", \"2\", \"3\", \"4\", \"5\", \"6\", \"7\", \"8\", \"9\", \"10\", \"11\", \"12\", \"13\", \"14\", \"15\", \"16\", \"17\", \"18\", \"19\", \"20\", \"21\", \"22\", \"23\", \"24\", \"25\", \"26\", \"27\", \"28\", \"29\", \"30\", \"31\", \"32\", \"33\", \"34\", \"35\", \"36\", \"37\", \"38\", \"39\", \"40\", \"41\", \"42\", \"43\", \"44\", \"45\", \"46\"], \"mode\": \"markers\", \"name\": \"precision_score_micro\", \"stepped\": false, \"type\": \"scatter\", \"data\": [0.740874914559125, 0.7499316473000684, 0.7188311688311688, 0.6862269309637732, 0.7604921394395079, 0.6861585782638414, 0.7408920027341079, 0.7683014354066986, 0.650974025974026, 0.760475051264525, 0.6809295967190704, 0.7421565276828435, 0.7683014354066987, 0.675803144224197, 0.7694976076555025, 0.6837491455912508, 0.7591592617908407, 0.7551777170198223, 0.7461551606288449, 0.7005297334244702, 0.7305365686944635, 0.7304853041695147, 0.6992652084757347, 0.7617224880382776, 0.6978981544771019, 0.650974025974026, 0.7096719070403281, 0.7578776486671224, 0.7474367737525631, 0.7708988380041012, 0.3762987012987013, 0.7591421736158579, 0.7696001367053998, 0.7603896103896104, 0.7356971975393028, 0.6705912508544086, 0.742259056732741, 0.7617395762132604, 0.7239747095010253, 0.7565105946684895, 0.6483766233766234, 0.7266404647983596, 0.7760594668489406, 0.7617737525632263, 0.7357142857142858, 0.7826042378673957, 0.7708817498291184]}, {\"categories\": [\"0\", \"1\", \"2\", \"3\", \"4\", \"5\", \"6\", \"7\", \"8\", \"9\", \"10\", \"11\", \"12\", \"13\", \"14\", \"15\", \"16\", \"17\", \"18\", \"19\", \"20\", \"21\", \"22\", \"23\", \"24\", \"25\", \"26\", \"27\", \"28\", \"29\", \"30\", \"31\", \"32\", \"33\", \"34\", \"35\", \"36\", \"37\", \"38\", \"39\", \"40\", \"41\", \"42\", \"43\", \"44\", \"45\", \"46\"], \"mode\": \"lines\", \"name\": \"precision_score_micro_max\", \"stepped\": true, \"type\": \"scatter\", \"data\": [0.740874914559125, 0.7499316473000684, 0.7499316473000684, 0.7499316473000684, 0.7604921394395079, 0.7604921394395079, 0.7604921394395079, 0.7683014354066986, 0.7683014354066986, 0.7683014354066986, 0.7683014354066986, 0.7683014354066986, 0.7683014354066987, 0.7683014354066987, 0.7694976076555025, 0.7694976076555025, 0.7694976076555025, 0.7694976076555025, 0.7694976076555025, 0.7694976076555025, 0.7694976076555025, 0.7694976076555025, 0.7694976076555025, 0.7694976076555025, 0.7694976076555025, 0.7694976076555025, 0.7694976076555025, 0.7694976076555025, 0.7694976076555025, 0.7708988380041012, 0.7708988380041012, 0.7708988380041012, 0.7708988380041012, 0.7708988380041012, 0.7708988380041012, 0.7708988380041012, 0.7708988380041012, 0.7708988380041012, 0.7708988380041012, 0.7708988380041012, 0.7708988380041012, 0.7708988380041012, 0.7760594668489406, 0.7760594668489406, 0.7760594668489406, 0.7826042378673957, 0.7826042378673957]}], \"balanced_accuracy\": [{\"categories\": [\"0\", \"1\", \"2\", \"3\", \"4\", \"5\", \"6\", \"7\", \"8\", \"9\", \"10\", \"11\", \"12\", \"13\", \"14\", \"15\", \"16\", \"17\", \"18\", \"19\", \"20\", \"21\", \"22\", \"23\", \"24\", \"25\", \"26\", \"27\", \"28\", \"29\", \"30\", \"31\", \"32\", \"33\", \"34\", \"35\", \"36\", \"37\", \"38\", \"39\", \"40\", \"41\", \"42\", \"43\", \"44\", \"45\", \"46\"], \"mode\": \"markers\", \"name\": \"balanced_accuracy\", \"stepped\": false, \"type\": \"scatter\", \"data\": [0.7048938465723086, 0.7161486313052983, 0.7167344368911314, 0.5923529564749007, 0.7128279223094427, 0.5661595011687949, 0.7024584567746979, 0.7155409938121284, 0.5, 0.7183796652077851, 0.5819467167125151, 0.6955608332283215, 0.719521237741496, 0.6724689695781685, 0.7347873019508353, 0.6734265133423888, 0.7109640059671255, 0.6829296643900417, 0.7070672633512106, 0.7024140882588747, 0.7084703466570149, 0.6897290471206975, 0.6511702134853115, 0.6925184939827186, 0.6220823876929747, 0.5, 0.6375458813131853, 0.7092778402225045, 0.7493045113292406, 0.7216286024265004, 0.5, 0.6842819934595353, 0.7062473694858117, 0.7057704274398777, 0.6517673884348836, 0.5763378100989331, 0.6620434398353576, 0.6881793094614707, 0.6212361066906056, 0.7150690369797978, 0.5017974070429176, 0.640416587702263, 0.7324634867041758, 0.6971491390801712, 0.6597497064529936, 0.7226199771492463, 0.7211634186095291]}, {\"categories\": [\"0\", \"1\", \"2\", \"3\", \"4\", \"5\", \"6\", \"7\", \"8\", \"9\", \"10\", \"11\", \"12\", \"13\", \"14\", \"15\", \"16\", \"17\", \"18\", \"19\", \"20\", \"21\", \"22\", \"23\", \"24\", \"25\", \"26\", \"27\", \"28\", \"29\", \"30\", \"31\", \"32\", \"33\", \"34\", \"35\", \"36\", \"37\", \"38\", \"39\", \"40\", \"41\", \"42\", \"43\", \"44\", \"45\", \"46\"], \"mode\": \"lines\", \"name\": \"balanced_accuracy_max\", \"stepped\": true, \"type\": \"scatter\", \"data\": [0.7048938465723086, 0.7161486313052983, 0.7167344368911314, 0.7167344368911314, 0.7167344368911314, 0.7167344368911314, 0.7167344368911314, 0.7167344368911314, 0.7167344368911314, 0.7183796652077851, 0.7183796652077851, 0.7183796652077851, 0.719521237741496, 0.719521237741496, 0.7347873019508353, 0.7347873019508353, 0.7347873019508353, 0.7347873019508353, 0.7347873019508353, 0.7347873019508353, 0.7347873019508353, 0.7347873019508353, 0.7347873019508353, 0.7347873019508353, 0.7347873019508353, 0.7347873019508353, 0.7347873019508353, 0.7347873019508353, 0.7493045113292406, 0.7493045113292406, 0.7493045113292406, 0.7493045113292406, 0.7493045113292406, 0.7493045113292406, 0.7493045113292406, 0.7493045113292406, 0.7493045113292406, 0.7493045113292406, 0.7493045113292406, 0.7493045113292406, 0.7493045113292406, 0.7493045113292406, 0.7493045113292406, 0.7493045113292406, 0.7493045113292406, 0.7493045113292406, 0.7493045113292406]}], \"weighted_accuracy\": [{\"categories\": [\"0\", \"1\", \"2\", \"3\", \"4\", \"5\", \"6\", \"7\", \"8\", \"9\", \"10\", \"11\", \"12\", \"13\", \"14\", \"15\", \"16\", \"17\", \"18\", \"19\", \"20\", \"21\", \"22\", \"23\", \"24\", \"25\", \"26\", \"27\", \"28\", \"29\", \"30\", \"31\", \"32\", \"33\", \"34\", \"35\", \"36\", \"37\", \"38\", \"39\", \"40\", \"41\", \"42\", \"43\", \"44\", \"45\", \"46\"], \"mode\": \"markers\", \"name\": \"weighted_accuracy\", \"stepped\": false, \"type\": \"scatter\", \"data\": [0.767943698526794, 0.7754654632207088, 0.7189994618166426, 0.7591417798092491, 0.7957461001341727, 0.7793485318365476, 0.7711441768116633, 0.8081266086988105, 0.7681437801712667, 0.7922332351423582, 0.7580549462883461, 0.7773781077294408, 0.8055427754007946, 0.677038371646205, 0.7961056162223631, 0.6915937826291774, 0.7964932914035223, 0.810768869851518, 0.7762950335605256, 0.6979486898115975, 0.7470593160311745, 0.7613142144564977, 0.7363388553424497, 0.8143941717646538, 0.7545753075271404, 0.7681437801712667, 0.7662799823079357, 0.7944416225252098, 0.7447960092121042, 0.8085761995651903, 0.282625450597964, 0.8163323753414297, 0.818184034668193, 0.8021573720985888, 0.8014620505573491, 0.7426986800287816, 0.8042843433627702, 0.818524110861313, 0.8027286921641512, 0.7878193090845429, 0.7622742277504273, 0.7942617434892345, 0.8089244208157549, 0.8116793161275193, 0.7949374671630121, 0.8284849499585036, 0.8086888112546688]}, {\"categories\": [\"0\", \"1\", \"2\", \"3\", \"4\", \"5\", \"6\", \"7\", \"8\", \"9\", \"10\", \"11\", \"12\", \"13\", \"14\", \"15\", \"16\", \"17\", \"18\", \"19\", \"20\", \"21\", \"22\", \"23\", \"24\", \"25\", \"26\", \"27\", \"28\", \"29\", \"30\", \"31\", \"32\", \"33\", \"34\", \"35\", \"36\", \"37\", \"38\", \"39\", \"40\", \"41\", \"42\", \"43\", \"44\", \"45\", \"46\"], \"mode\": \"lines\", \"name\": \"weighted_accuracy_max\", \"stepped\": true, \"type\": \"scatter\", \"data\": [0.767943698526794, 0.7754654632207088, 0.7754654632207088, 0.7754654632207088, 0.7957461001341727, 0.7957461001341727, 0.7957461001341727, 0.8081266086988105, 0.8081266086988105, 0.8081266086988105, 0.8081266086988105, 0.8081266086988105, 0.8081266086988105, 0.8081266086988105, 0.8081266086988105, 0.8081266086988105, 0.8081266086988105, 0.810768869851518, 0.810768869851518, 0.810768869851518, 0.810768869851518, 0.810768869851518, 0.810768869851518, 0.8143941717646538, 0.8143941717646538, 0.8143941717646538, 0.8143941717646538, 0.8143941717646538, 0.8143941717646538, 0.8143941717646538, 0.8143941717646538, 0.8163323753414297, 0.818184034668193, 0.818184034668193, 0.818184034668193, 0.818184034668193, 0.818184034668193, 0.818524110861313, 0.818524110861313, 0.818524110861313, 0.818524110861313, 0.818524110861313, 0.818524110861313, 0.818524110861313, 0.818524110861313, 0.8284849499585036, 0.8284849499585036]}], \"f1_score_micro\": [{\"categories\": [\"0\", \"1\", \"2\", \"3\", \"4\", \"5\", \"6\", \"7\", \"8\", \"9\", \"10\", \"11\", \"12\", \"13\", \"14\", \"15\", \"16\", \"17\", \"18\", \"19\", \"20\", \"21\", \"22\", \"23\", \"24\", \"25\", \"26\", \"27\", \"28\", \"29\", \"30\", \"31\", \"32\", \"33\", \"34\", \"35\", \"36\", \"37\", \"38\", \"39\", \"40\", \"41\", \"42\", \"43\", \"44\", \"45\", \"46\"], \"mode\": \"markers\", \"name\": \"f1_score_micro\", \"stepped\": false, \"type\": \"scatter\", \"data\": [0.740874914559125, 0.7499316473000684, 0.7188311688311688, 0.6862269309637732, 0.7604921394395079, 0.6861585782638414, 0.7408920027341079, 0.7683014354066986, 0.650974025974026, 0.760475051264525, 0.6809295967190704, 0.7421565276828435, 0.7683014354066987, 0.675803144224197, 0.7694976076555025, 0.6837491455912508, 0.7591592617908407, 0.7551777170198223, 0.7461551606288448, 0.7005297334244702, 0.7305365686944635, 0.7304853041695147, 0.6992652084757347, 0.7617224880382776, 0.6978981544771019, 0.650974025974026, 0.7096719070403281, 0.7578776486671224, 0.7474367737525631, 0.7708988380041012, 0.3762987012987013, 0.7591421736158579, 0.7696001367053997, 0.7603896103896104, 0.7356971975393028, 0.6705912508544086, 0.742259056732741, 0.7617395762132604, 0.7239747095010253, 0.7565105946684895, 0.6483766233766234, 0.7266404647983596, 0.7760594668489406, 0.7617737525632263, 0.7357142857142858, 0.7826042378673957, 0.7708817498291183]}, {\"categories\": [\"0\", \"1\", \"2\", \"3\", \"4\", \"5\", \"6\", \"7\", \"8\", \"9\", \"10\", \"11\", \"12\", \"13\", \"14\", \"15\", \"16\", \"17\", \"18\", \"19\", \"20\", \"21\", \"22\", \"23\", \"24\", \"25\", \"26\", \"27\", \"28\", \"29\", \"30\", \"31\", \"32\", \"33\", \"34\", \"35\", \"36\", \"37\", \"38\", \"39\", \"40\", \"41\", \"42\", \"43\", \"44\", \"45\", \"46\"], \"mode\": \"lines\", \"name\": \"f1_score_micro_max\", \"stepped\": true, \"type\": \"scatter\", \"data\": [0.740874914559125, 0.7499316473000684, 0.7499316473000684, 0.7499316473000684, 0.7604921394395079, 0.7604921394395079, 0.7604921394395079, 0.7683014354066986, 0.7683014354066986, 0.7683014354066986, 0.7683014354066986, 0.7683014354066986, 0.7683014354066987, 0.7683014354066987, 0.7694976076555025, 0.7694976076555025, 0.7694976076555025, 0.7694976076555025, 0.7694976076555025, 0.7694976076555025, 0.7694976076555025, 0.7694976076555025, 0.7694976076555025, 0.7694976076555025, 0.7694976076555025, 0.7694976076555025, 0.7694976076555025, 0.7694976076555025, 0.7694976076555025, 0.7708988380041012, 0.7708988380041012, 0.7708988380041012, 0.7708988380041012, 0.7708988380041012, 0.7708988380041012, 0.7708988380041012, 0.7708988380041012, 0.7708988380041012, 0.7708988380041012, 0.7708988380041012, 0.7708988380041012, 0.7708988380041012, 0.7760594668489406, 0.7760594668489406, 0.7760594668489406, 0.7826042378673957, 0.7826042378673957]}], \"precision_score_weighted\": [{\"categories\": [\"0\", \"1\", \"2\", \"3\", \"4\", \"5\", \"6\", \"7\", \"8\", \"9\", \"10\", \"11\", \"12\", \"13\", \"14\", \"15\", \"16\", \"17\", \"18\", \"19\", \"20\", \"21\", \"22\", \"23\", \"24\", \"25\", \"26\", \"27\", \"28\", \"29\", \"30\", \"31\", \"32\", \"33\", \"34\", \"35\", \"36\", \"37\", \"38\", \"39\", \"40\", \"41\", \"42\", \"43\", \"44\", \"45\", \"46\"], \"mode\": \"markers\", \"name\": \"precision_score_weighted\", \"stepped\": false, \"type\": \"scatter\", \"data\": [0.7417669689461652, 0.7514492886367131, 0.7466712849430109, 0.6789829451530061, 0.7602137898063586, 0.681221202544768, 0.73815727550865, 0.7659967078241994, 0.42687712083757523, 0.75818687964716, 0.6737213998605123, 0.7381630936598946, 0.767229524759855, 0.7053328828212588, 0.7703588314489593, 0.704907213384734, 0.7585804961860168, 0.7590488711456862, 0.745585026295495, 0.732642157154403, 0.7381401731101933, 0.7295433872743236, 0.694658580835409, 0.7640434969805225, 0.6840657979667325, 0.42687712083757523, 0.7057268052928848, 0.7543044721993939, 0.7730580698998353, 0.7699913424163245, 0.15220179616225055, 0.7634938889359205, 0.7707899473296221, 0.757208928196809, 0.7472448405692943, 0.6545703109380827, 0.7523306837118613, 0.7661533517594236, 0.7484503607319003, 0.7560212466105668, 0.5157277154468848, 0.7284895481361737, 0.7749939999422197, 0.763637261163303, 0.7381711047242444, 0.7854346091603838, 0.7739615893989253]}, {\"categories\": [\"0\", \"1\", \"2\", \"3\", \"4\", \"5\", \"6\", \"7\", \"8\", \"9\", \"10\", \"11\", \"12\", \"13\", \"14\", \"15\", \"16\", \"17\", \"18\", \"19\", \"20\", \"21\", \"22\", \"23\", \"24\", \"25\", \"26\", \"27\", \"28\", \"29\", \"30\", \"31\", \"32\", \"33\", \"34\", \"35\", \"36\", \"37\", \"38\", \"39\", \"40\", \"41\", \"42\", \"43\", \"44\", \"45\", \"46\"], \"mode\": \"lines\", \"name\": \"precision_score_weighted_max\", \"stepped\": true, \"type\": \"scatter\", \"data\": [0.7417669689461652, 0.7514492886367131, 0.7514492886367131, 0.7514492886367131, 0.7602137898063586, 0.7602137898063586, 0.7602137898063586, 0.7659967078241994, 0.7659967078241994, 0.7659967078241994, 0.7659967078241994, 0.7659967078241994, 0.767229524759855, 0.767229524759855, 0.7703588314489593, 0.7703588314489593, 0.7703588314489593, 0.7703588314489593, 0.7703588314489593, 0.7703588314489593, 0.7703588314489593, 0.7703588314489593, 0.7703588314489593, 0.7703588314489593, 0.7703588314489593, 0.7703588314489593, 0.7703588314489593, 0.7703588314489593, 0.7730580698998353, 0.7730580698998353, 0.7730580698998353, 0.7730580698998353, 0.7730580698998353, 0.7730580698998353, 0.7730580698998353, 0.7730580698998353, 0.7730580698998353, 0.7730580698998353, 0.7730580698998353, 0.7730580698998353, 0.7730580698998353, 0.7730580698998353, 0.7749939999422197, 0.7749939999422197, 0.7749939999422197, 0.7854346091603838, 0.7854346091603838]}], \"recall_score_micro\": [{\"categories\": [\"0\", \"1\", \"2\", \"3\", \"4\", \"5\", \"6\", \"7\", \"8\", \"9\", \"10\", \"11\", \"12\", \"13\", \"14\", \"15\", \"16\", \"17\", \"18\", \"19\", \"20\", \"21\", \"22\", \"23\", \"24\", \"25\", \"26\", \"27\", \"28\", \"29\", \"30\", \"31\", \"32\", \"33\", \"34\", \"35\", \"36\", \"37\", \"38\", \"39\", \"40\", \"41\", \"42\", \"43\", \"44\", \"45\", \"46\"], \"mode\": \"markers\", \"name\": \"recall_score_micro\", \"stepped\": false, \"type\": \"scatter\", \"data\": [0.740874914559125, 0.7499316473000684, 0.7188311688311688, 0.6862269309637732, 0.7604921394395079, 0.6861585782638414, 0.7408920027341079, 0.7683014354066986, 0.650974025974026, 0.760475051264525, 0.6809295967190704, 0.7421565276828435, 0.7683014354066987, 0.675803144224197, 0.7694976076555025, 0.6837491455912508, 0.7591592617908407, 0.7551777170198223, 0.7461551606288449, 0.7005297334244702, 0.7305365686944635, 0.7304853041695147, 0.6992652084757347, 0.7617224880382776, 0.6978981544771019, 0.650974025974026, 0.7096719070403281, 0.7578776486671224, 0.7474367737525631, 0.7708988380041012, 0.3762987012987013, 0.7591421736158579, 0.7696001367053998, 0.7603896103896104, 0.7356971975393028, 0.6705912508544086, 0.742259056732741, 0.7617395762132604, 0.7239747095010253, 0.7565105946684895, 0.6483766233766234, 0.7266404647983596, 0.7760594668489406, 0.7617737525632263, 0.7357142857142858, 0.7826042378673957, 0.7708817498291184]}, {\"categories\": [\"0\", \"1\", \"2\", \"3\", \"4\", \"5\", \"6\", \"7\", \"8\", \"9\", \"10\", \"11\", \"12\", \"13\", \"14\", \"15\", \"16\", \"17\", \"18\", \"19\", \"20\", \"21\", \"22\", \"23\", \"24\", \"25\", \"26\", \"27\", \"28\", \"29\", \"30\", \"31\", \"32\", \"33\", \"34\", \"35\", \"36\", \"37\", \"38\", \"39\", \"40\", \"41\", \"42\", \"43\", \"44\", \"45\", \"46\"], \"mode\": \"lines\", \"name\": \"recall_score_micro_max\", \"stepped\": true, \"type\": \"scatter\", \"data\": [0.740874914559125, 0.7499316473000684, 0.7499316473000684, 0.7499316473000684, 0.7604921394395079, 0.7604921394395079, 0.7604921394395079, 0.7683014354066986, 0.7683014354066986, 0.7683014354066986, 0.7683014354066986, 0.7683014354066986, 0.7683014354066987, 0.7683014354066987, 0.7694976076555025, 0.7694976076555025, 0.7694976076555025, 0.7694976076555025, 0.7694976076555025, 0.7694976076555025, 0.7694976076555025, 0.7694976076555025, 0.7694976076555025, 0.7694976076555025, 0.7694976076555025, 0.7694976076555025, 0.7694976076555025, 0.7694976076555025, 0.7694976076555025, 0.7708988380041012, 0.7708988380041012, 0.7708988380041012, 0.7708988380041012, 0.7708988380041012, 0.7708988380041012, 0.7708988380041012, 0.7708988380041012, 0.7708988380041012, 0.7708988380041012, 0.7708988380041012, 0.7708988380041012, 0.7708988380041012, 0.7760594668489406, 0.7760594668489406, 0.7760594668489406, 0.7826042378673957, 0.7826042378673957]}]}, \"metricName\": null, \"primaryMetricName\": \"accuracy\", \"showLegend\": false}, \"run_metrics\": [{\"name\": \"precision_score_micro\", \"run_id\": \"AutoML_a0374017-59bc-4daa-8829-8ef9c172030b\", \"categories\": [0], \"series\": [{\"data\": [0.7826042378673957]}]}, {\"name\": \"f1_score_micro\", \"run_id\": \"AutoML_a0374017-59bc-4daa-8829-8ef9c172030b\", \"categories\": [0], \"series\": [{\"data\": [0.7826042378673957]}]}, {\"name\": \"balanced_accuracy\", \"run_id\": \"AutoML_a0374017-59bc-4daa-8829-8ef9c172030b\", \"categories\": [0], \"series\": [{\"data\": [0.7226199771492463]}]}, {\"name\": \"average_precision_score_micro\", \"run_id\": \"AutoML_a0374017-59bc-4daa-8829-8ef9c172030b\", \"categories\": [0], \"series\": [{\"data\": [0.8492230056880542]}]}, {\"name\": \"recall_score_micro\", \"run_id\": \"AutoML_a0374017-59bc-4daa-8829-8ef9c172030b\", \"categories\": [0], \"series\": [{\"data\": [0.7826042378673957]}]}, {\"name\": \"AUC_macro\", \"run_id\": \"AutoML_a0374017-59bc-4daa-8829-8ef9c172030b\", \"categories\": [0], \"series\": [{\"data\": [0.8293879466271467]}]}, {\"name\": \"matthews_correlation\", \"run_id\": \"AutoML_a0374017-59bc-4daa-8829-8ef9c172030b\", \"categories\": [0], \"series\": [{\"data\": [0.49673693602097907]}]}, {\"name\": \"norm_macro_recall\", \"run_id\": \"AutoML_a0374017-59bc-4daa-8829-8ef9c172030b\", \"categories\": [0], \"series\": [{\"data\": [0.4452399542984926]}]}, {\"name\": \"AUC_micro\", \"run_id\": \"AutoML_a0374017-59bc-4daa-8829-8ef9c172030b\", \"categories\": [0], \"series\": [{\"data\": [0.8488110753332719]}]}, {\"name\": \"precision_score_macro\", \"run_id\": \"AutoML_a0374017-59bc-4daa-8829-8ef9c172030b\", \"categories\": [0], \"series\": [{\"data\": [0.7774729979255744]}]}, {\"name\": \"accuracy\", \"run_id\": \"AutoML_a0374017-59bc-4daa-8829-8ef9c172030b\", \"categories\": [0], \"series\": [{\"data\": [0.7826042378673957]}]}, {\"name\": \"average_precision_score_weighted\", \"run_id\": \"AutoML_a0374017-59bc-4daa-8829-8ef9c172030b\", \"categories\": [0], \"series\": [{\"data\": [0.8445754835671438]}]}, {\"name\": \"average_precision_score_macro\", \"run_id\": \"AutoML_a0374017-59bc-4daa-8829-8ef9c172030b\", \"categories\": [0], \"series\": [{\"data\": [0.8162247167050584]}]}, {\"name\": \"AUC_weighted\", \"run_id\": \"AutoML_a0374017-59bc-4daa-8829-8ef9c172030b\", \"categories\": [0], \"series\": [{\"data\": [0.8293879466271467]}]}, {\"name\": \"recall_score_weighted\", \"run_id\": \"AutoML_a0374017-59bc-4daa-8829-8ef9c172030b\", \"categories\": [0], \"series\": [{\"data\": [0.7826042378673957]}]}, {\"name\": \"f1_score_weighted\", \"run_id\": \"AutoML_a0374017-59bc-4daa-8829-8ef9c172030b\", \"categories\": [0], \"series\": [{\"data\": [0.7714211990753694]}]}, {\"name\": \"weighted_accuracy\", \"run_id\": \"AutoML_a0374017-59bc-4daa-8829-8ef9c172030b\", \"categories\": [0], \"series\": [{\"data\": [0.8284849499585036]}]}, {\"name\": \"precision_score_weighted\", \"run_id\": \"AutoML_a0374017-59bc-4daa-8829-8ef9c172030b\", \"categories\": [0], \"series\": [{\"data\": [0.7854346091603838]}]}, {\"name\": \"log_loss\", \"run_id\": \"AutoML_a0374017-59bc-4daa-8829-8ef9c172030b\", \"categories\": [0], \"series\": [{\"data\": [0.503203150467533]}]}, {\"name\": \"recall_score_macro\", \"run_id\": \"AutoML_a0374017-59bc-4daa-8829-8ef9c172030b\", \"categories\": [0], \"series\": [{\"data\": [0.7226199771492463]}]}, {\"name\": \"f1_score_macro\", \"run_id\": \"AutoML_a0374017-59bc-4daa-8829-8ef9c172030b\", \"categories\": [0], \"series\": [{\"data\": [0.7348620768630988]}]}], \"run_logs\": \"\\nRun is completed.\", \"graph\": {}, \"widget_settings\": {\"childWidgetDisplay\": \"popup\", \"send_telemetry\": false, \"log_level\": \"INFO\", \"sdk_version\": \"1.51.0\"}, \"loading\": false}"
     },
     "metadata": {},
     "output_type": "display_data"
    }
   ],
   "source": [
    "from azureml.widgets import RunDetails\n",
    "RunDetails(remote_run).show()"
   ]
  },
  {
   "cell_type": "code",
   "execution_count": null,
   "metadata": {},
   "outputs": [],
   "source": [
    "run_details = remote_run.get_details()\n",
    "print(run_details)"
   ]
  },
  {
   "cell_type": "markdown",
   "metadata": {},
   "source": [
    "## Best Model\n",
    "\n",
    "TODO: In the cell below, get the best model from the automl experiments and display all the properties of the model.\n",
    "\n"
   ]
  },
  {
   "cell_type": "code",
   "execution_count": null,
   "metadata": {
    "gather": {
     "logged": 1598431425670
    },
    "jupyter": {
     "outputs_hidden": false,
     "source_hidden": false
    },
    "nteract": {
     "transient": {
      "deleting": false
     }
    }
   },
   "outputs": [],
   "source": [
    "auto_job, best_auto_model = remote_run.get_output()\n",
    "print(auto_job)\n",
    "print(best_auto_model)"
   ]
  },
  {
   "cell_type": "code",
   "execution_count": null,
   "metadata": {
    "gather": {
     "logged": 1598431426111
    },
    "jupyter": {
     "outputs_hidden": false,
     "source_hidden": false
    },
    "nteract": {
     "transient": {
      "deleting": false
     }
    }
   },
   "outputs": [],
   "source": [
    "import joblib\n",
    "\n",
    "# Save the best model\n",
    "joblib.dump(value=best_auto_model, filename='auto_model.joblib')"
   ]
  },
  {
   "cell_type": "markdown",
   "metadata": {},
   "source": [
    "## Model Deployment\n",
    "\n",
    "Remember you have to deploy only one of the two models you trained but you still need to register both the models. Perform the steps in the rest of this notebook only if you wish to deploy this model.\n",
    "\n",
    "TODO: In the cell below, register the model, create an inference config and deploy the model as a web service."
   ]
  },
  {
   "cell_type": "code",
   "execution_count": null,
   "metadata": {
    "gather": {
     "logged": 1598431435189
    },
    "jupyter": {
     "outputs_hidden": false,
     "source_hidden": false
    },
    "nteract": {
     "transient": {
      "deleting": false
     }
    }
   },
   "outputs": [],
   "source": [
    "model = auto_job.register_model(model_name='best-automl-model',\n",
    "                                      model_path='outputs/model.pkl',\n",
    "                                      description='Best model from AutoML for diabetes')"
   ]
  },
  {
   "cell_type": "markdown",
   "metadata": {
    "gather": {
     "logged": 1598431657736
    },
    "jupyter": {
     "outputs_hidden": false,
     "source_hidden": false
    },
    "nteract": {
     "transient": {
      "deleting": false
     }
    }
   },
   "source": [
    "TODO: In the cell below, send a request to the web service you deployed to test it."
   ]
  },
  {
   "cell_type": "code",
   "execution_count": null,
   "metadata": {
    "gather": {
     "logged": 1598432707604
    },
    "jupyter": {
     "outputs_hidden": false,
     "source_hidden": false
    },
    "nteract": {
     "transient": {
      "deleting": false
     }
    }
   },
   "outputs": [],
   "source": [
    "auto_job.download_files(output_directory='automl_output')\n",
    "\n",
    "env = Environment.from_conda_specification('automl-env', './automl_output/outputs/conda_env_v_1_0_0.yml')\n",
    "\n",
    "inference = InferenceConfig(environment=env, entry_script='./automl_output/outputs/scoring_file_v_1_0_0.py')\n",
    "\n",
    "deployment = AciWebservice.deploy_configuration(cpu_cores=1,\n",
    "                                                       memory_gb=1,\n",
    "                                                       enable_app_insights=True)\n",
    "\n",
    "deployment_name = 'auto-diabetes'\n",
    "service = Model.deploy(workspace=ws,\n",
    "                       name=deployment_name,\n",
    "                       models=[model],\n",
    "                       inference_config=inference,\n",
    "                       deployment_config=deployment,\n",
    "                       overwrite=True)\n",
    "service.wait_for_deployment(show_output=True)"
   ]
  },
  {
   "cell_type": "markdown",
   "metadata": {
    "gather": {
     "logged": 1598432765711
    },
    "jupyter": {
     "outputs_hidden": false,
     "source_hidden": false
    },
    "nteract": {
     "transient": {
      "deleting": false
     }
    }
   },
   "source": [
    "TODO: In the cell below, print the logs of the web service and delete the service"
   ]
  },
  {
   "cell_type": "code",
   "execution_count": null,
   "metadata": {
    "jupyter": {
     "outputs_hidden": false,
     "source_hidden": false
    },
    "nteract": {
     "transient": {
      "deleting": false
     }
    }
   },
   "outputs": [],
   "source": [
    "rest_endpoint = service.scoring_uri\n",
    "headers = {'Content-type': 'application/json'}\n",
    "response = requests.post(rest_endpoint,\n",
    "                         headers=headers,\n",
    "                         json={\n",
    "  \"data\": [\n",
    "    {\n",
    "      \"Pregnancies\": 4,\n",
    "      \"Glucose\": 121,\n",
    "      \"BloodPressure\": 70,\n",
    "      \"SkinThickness\": 21,\n",
    "      \"Insulin\": 80,\n",
    "      \"BMI\": 32.0,\n",
    "      \"DiabetesPedigreeFunction\": 0.47,\n",
    "      \"Age\": 33\n",
    "    }\n",
    "  ]\n",
    "}\n",
    "                        )\n",
    "response.content\n"
   ]
  },
  {
   "cell_type": "code",
   "execution_count": null,
   "metadata": {},
   "outputs": [],
   "source": [
    "import urllib.request\n",
    "import json\n",
    "import os\n",
    "import ssl\n",
    "\n",
    "def allowSelfSignedHttps(allowed):\n",
    "    # bypass the server certificate verification on client side\n",
    "    if allowed and not os.environ.get('PYTHONHTTPSVERIFY', '') and getattr(ssl, '_create_unverified_context', None):\n",
    "        ssl._create_default_https_context = ssl._create_unverified_context\n",
    "\n",
    "allowSelfSignedHttps(True) # this line is needed if you use self-signed certificate in your scoring service.\n",
    "\n",
    "data =  {\n",
    "  \"data\": [\n",
    "    {\n",
    "      \"Pregnancies\": 4,\n",
    "      \"Glucose\": 121,\n",
    "      \"BloodPressure\": 70,\n",
    "      \"SkinThickness\": 21,\n",
    "      \"Insulin\": 80,\n",
    "      \"BMI\": 32.0,\n",
    "      \"DiabetesPedigreeFunction\": 0.47,\n",
    "      \"Age\": 33\n",
    "    }\n",
    "  ],\n",
    "  \"method\": \"predict\"\n",
    "}\n",
    "\n",
    "body = str.encode(json.dumps(data))\n",
    "\n",
    "url = 'http://01b8aaff-c40d-4b46-adb9-c1d426f1367b.westus2.azurecontainer.io/score'\n",
    "\n",
    "\n",
    "headers = {'Content-Type':'application/json'}\n",
    "\n",
    "req = urllib.request.Request(url, body, headers)\n",
    "\n",
    "try:\n",
    "    response = urllib.request.urlopen(req)\n",
    "\n",
    "    result = response.read()\n",
    "    print(result)\n",
    "except urllib.error.HTTPError as error:\n",
    "    print(\"The request failed with status code: \" + str(error.code))\n",
    "\n",
    "    # Print the headers - they include the requert ID and the timestamp, which are useful for debugging the failure\n",
    "    print(error.info())\n",
    "    print(error.read().decode(\"utf8\", 'ignore'))"
   ]
  },
  {
   "cell_type": "code",
   "execution_count": null,
   "metadata": {},
   "outputs": [],
   "source": [
    "logs = service.get_logs()\n",
    "for line in logs.split('\\n'):\n",
    "    print(line)"
   ]
  },
  {
   "cell_type": "code",
   "execution_count": null,
   "metadata": {},
   "outputs": [],
   "source": [
    "# Delete the Webservice and Compute Cluster\n",
    "service.delete()\n",
    "compute_target.delete()"
   ]
  },
  {
   "cell_type": "markdown",
   "metadata": {},
   "source": [
    "**Submission Checklist**\n",
    "- I have registered the model.\n",
    "- I have deployed the model with the best accuracy as a webservice.\n",
    "- I have tested the webservice by sending a request to the model endpoint.\n",
    "- I have deleted the webservice and shutdown all the computes that I have used.\n",
    "- I have taken a screenshot showing the model endpoint as active.\n",
    "- The project includes a file containing the environment details.\n"
   ]
  },
  {
   "cell_type": "markdown",
   "metadata": {},
   "source": []
  }
 ],
 "metadata": {
  "kernel_info": {
   "name": "python3-azureml"
  },
  "kernelspec": {
   "display_name": "Python 3.8 - AzureML",
   "language": "python",
   "name": "python38-azureml"
  },
  "language_info": {
   "codemirror_mode": {
    "name": "ipython",
    "version": 3
   },
   "file_extension": ".py",
   "mimetype": "text/x-python",
   "name": "python",
   "nbconvert_exporter": "python",
   "pygments_lexer": "ipython3",
   "version": "3.8.5"
  },
  "nteract": {
   "version": "nteract-front-end@1.0.0"
  }
 },
 "nbformat": 4,
 "nbformat_minor": 4
}

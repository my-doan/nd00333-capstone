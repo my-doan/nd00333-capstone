{
 "cells": [
  {
   "cell_type": "markdown",
   "metadata": {},
   "source": [
    "# Automated ML\n",
    "\n",
    "TODO: Import Dependencies. In the cell below, import all the dependencies that you will need to complete the project."
   ]
  },
  {
   "cell_type": "code",
   "execution_count": 18,
   "metadata": {
    "collapsed": false,
    "gather": {
     "logged": 1598423888013
    },
    "jupyter": {
     "outputs_hidden": false,
     "source_hidden": false
    },
    "nteract": {
     "transient": {
      "deleting": false
     }
    }
   },
   "outputs": [],
   "source": [
    "import pandas as pd\n",
    "import numpy as np\n",
    "from sklearn import datasets\n",
    "import pkg_resources\n",
    "import azureml.core\n",
    "from azureml.widgets import RunDetails\n",
    "from azureml.core.compute import AmlCompute, ComputeTarget\n",
    "from azureml.core.compute_target import ComputeTargetException\n",
    "from azureml.core.experiment import Experiment\n",
    "from azureml.core.workspace import Workspace\n",
    "from azureml.train.automl import AutoMLConfig\n",
    "from azureml.core.dataset import Dataset\n",
    "from azureml.core.datastore import Datastore\n",
    "from azureml.pipeline.steps import AutoMLStep\n",
    "from azureml.core.model import Model, InferenceConfig\n",
    "from azureml.core.resource_configuration import ResourceConfiguration\n",
    "from azureml.core import Environment\n",
    "from azureml.core.webservice import AciWebservice\n",
    "import requests\n",
    "import json"
   ]
  },
  {
   "cell_type": "markdown",
   "metadata": {},
   "source": [
    "## Dataset\n",
    "\n",
    "### Overview\n",
    "TODO: In this markdown cell, give an overview of the dataset you are using. Also mention the task you will be performing.\n",
    "\n",
    "\n",
    "TODO: Get data. In the cell below, write code to access the data you will be using in this project. Remember that the dataset needs to be external."
   ]
  },
  {
   "cell_type": "code",
   "execution_count": 2,
   "metadata": {
    "collapsed": false,
    "gather": {
     "logged": 1598423890461
    },
    "jupyter": {
     "outputs_hidden": false,
     "source_hidden": false
    },
    "nteract": {
     "transient": {
      "deleting": false
     }
    }
   },
   "outputs": [],
   "source": [
    "ws = Workspace.from_config()\n",
    "\n",
    "# choose a name for experiment\n",
    "experiment_name = 'diabetes-automl'\n",
    "\n",
    "experiment=Experiment(ws, experiment_name)"
   ]
  },
  {
   "cell_type": "code",
   "execution_count": 4,
   "metadata": {},
   "outputs": [
    {
     "data": {
      "text/html": [
       "<div>\n",
       "<style scoped>\n",
       "    .dataframe tbody tr th:only-of-type {\n",
       "        vertical-align: middle;\n",
       "    }\n",
       "\n",
       "    .dataframe tbody tr th {\n",
       "        vertical-align: top;\n",
       "    }\n",
       "\n",
       "    .dataframe thead th {\n",
       "        text-align: right;\n",
       "    }\n",
       "</style>\n",
       "<table border=\"1\" class=\"dataframe\">\n",
       "  <thead>\n",
       "    <tr style=\"text-align: right;\">\n",
       "      <th></th>\n",
       "      <th>Pregnancies</th>\n",
       "      <th>Glucose</th>\n",
       "      <th>BloodPressure</th>\n",
       "      <th>SkinThickness</th>\n",
       "      <th>Insulin</th>\n",
       "      <th>BMI</th>\n",
       "      <th>DiabetesPedigreeFunction</th>\n",
       "      <th>Age</th>\n",
       "      <th>Outcome</th>\n",
       "    </tr>\n",
       "  </thead>\n",
       "  <tbody>\n",
       "    <tr>\n",
       "      <th>0</th>\n",
       "      <td>6</td>\n",
       "      <td>148</td>\n",
       "      <td>72</td>\n",
       "      <td>35</td>\n",
       "      <td>0</td>\n",
       "      <td>33.6</td>\n",
       "      <td>0.627</td>\n",
       "      <td>50</td>\n",
       "      <td>1</td>\n",
       "    </tr>\n",
       "    <tr>\n",
       "      <th>1</th>\n",
       "      <td>1</td>\n",
       "      <td>85</td>\n",
       "      <td>66</td>\n",
       "      <td>29</td>\n",
       "      <td>0</td>\n",
       "      <td>26.6</td>\n",
       "      <td>0.351</td>\n",
       "      <td>31</td>\n",
       "      <td>0</td>\n",
       "    </tr>\n",
       "    <tr>\n",
       "      <th>2</th>\n",
       "      <td>8</td>\n",
       "      <td>183</td>\n",
       "      <td>64</td>\n",
       "      <td>0</td>\n",
       "      <td>0</td>\n",
       "      <td>23.3</td>\n",
       "      <td>0.672</td>\n",
       "      <td>32</td>\n",
       "      <td>1</td>\n",
       "    </tr>\n",
       "    <tr>\n",
       "      <th>3</th>\n",
       "      <td>1</td>\n",
       "      <td>89</td>\n",
       "      <td>66</td>\n",
       "      <td>23</td>\n",
       "      <td>94</td>\n",
       "      <td>28.1</td>\n",
       "      <td>0.167</td>\n",
       "      <td>21</td>\n",
       "      <td>0</td>\n",
       "    </tr>\n",
       "    <tr>\n",
       "      <th>4</th>\n",
       "      <td>0</td>\n",
       "      <td>137</td>\n",
       "      <td>40</td>\n",
       "      <td>35</td>\n",
       "      <td>168</td>\n",
       "      <td>43.1</td>\n",
       "      <td>2.288</td>\n",
       "      <td>33</td>\n",
       "      <td>1</td>\n",
       "    </tr>\n",
       "    <tr>\n",
       "      <th>...</th>\n",
       "      <td>...</td>\n",
       "      <td>...</td>\n",
       "      <td>...</td>\n",
       "      <td>...</td>\n",
       "      <td>...</td>\n",
       "      <td>...</td>\n",
       "      <td>...</td>\n",
       "      <td>...</td>\n",
       "      <td>...</td>\n",
       "    </tr>\n",
       "    <tr>\n",
       "      <th>763</th>\n",
       "      <td>10</td>\n",
       "      <td>101</td>\n",
       "      <td>76</td>\n",
       "      <td>48</td>\n",
       "      <td>180</td>\n",
       "      <td>32.9</td>\n",
       "      <td>0.171</td>\n",
       "      <td>63</td>\n",
       "      <td>0</td>\n",
       "    </tr>\n",
       "    <tr>\n",
       "      <th>764</th>\n",
       "      <td>2</td>\n",
       "      <td>122</td>\n",
       "      <td>70</td>\n",
       "      <td>27</td>\n",
       "      <td>0</td>\n",
       "      <td>36.8</td>\n",
       "      <td>0.340</td>\n",
       "      <td>27</td>\n",
       "      <td>0</td>\n",
       "    </tr>\n",
       "    <tr>\n",
       "      <th>765</th>\n",
       "      <td>5</td>\n",
       "      <td>121</td>\n",
       "      <td>72</td>\n",
       "      <td>23</td>\n",
       "      <td>112</td>\n",
       "      <td>26.2</td>\n",
       "      <td>0.245</td>\n",
       "      <td>30</td>\n",
       "      <td>0</td>\n",
       "    </tr>\n",
       "    <tr>\n",
       "      <th>766</th>\n",
       "      <td>1</td>\n",
       "      <td>126</td>\n",
       "      <td>60</td>\n",
       "      <td>0</td>\n",
       "      <td>0</td>\n",
       "      <td>30.1</td>\n",
       "      <td>0.349</td>\n",
       "      <td>47</td>\n",
       "      <td>1</td>\n",
       "    </tr>\n",
       "    <tr>\n",
       "      <th>767</th>\n",
       "      <td>1</td>\n",
       "      <td>93</td>\n",
       "      <td>70</td>\n",
       "      <td>31</td>\n",
       "      <td>0</td>\n",
       "      <td>30.4</td>\n",
       "      <td>0.315</td>\n",
       "      <td>23</td>\n",
       "      <td>0</td>\n",
       "    </tr>\n",
       "  </tbody>\n",
       "</table>\n",
       "<p>768 rows × 9 columns</p>\n",
       "</div>"
      ],
      "text/plain": [
       "     Pregnancies  Glucose  BloodPressure  SkinThickness  Insulin   BMI  \\\n",
       "0              6      148             72             35        0  33.6   \n",
       "1              1       85             66             29        0  26.6   \n",
       "2              8      183             64              0        0  23.3   \n",
       "3              1       89             66             23       94  28.1   \n",
       "4              0      137             40             35      168  43.1   \n",
       "..           ...      ...            ...            ...      ...   ...   \n",
       "763           10      101             76             48      180  32.9   \n",
       "764            2      122             70             27        0  36.8   \n",
       "765            5      121             72             23      112  26.2   \n",
       "766            1      126             60              0        0  30.1   \n",
       "767            1       93             70             31        0  30.4   \n",
       "\n",
       "     DiabetesPedigreeFunction  Age  Outcome  \n",
       "0                       0.627   50        1  \n",
       "1                       0.351   31        0  \n",
       "2                       0.672   32        1  \n",
       "3                       0.167   21        0  \n",
       "4                       2.288   33        1  \n",
       "..                        ...  ...      ...  \n",
       "763                     0.171   63        0  \n",
       "764                     0.340   27        0  \n",
       "765                     0.245   30        0  \n",
       "766                     0.349   47        1  \n",
       "767                     0.315   23        0  \n",
       "\n",
       "[768 rows x 9 columns]"
      ]
     },
     "execution_count": 4,
     "metadata": {},
     "output_type": "execute_result"
    }
   ],
   "source": [
    "dataset = Dataset.get_by_name(ws, name='diabetes')\n",
    "dataset.to_pandas_dataframe()"
   ]
  },
  {
   "cell_type": "markdown",
   "metadata": {},
   "source": [
    "## AutoML Configuration\n",
    "\n",
    "TODO: Explain why you chose the automl settings and cofiguration you used below."
   ]
  },
  {
   "cell_type": "code",
   "execution_count": 5,
   "metadata": {},
   "outputs": [
    {
     "name": "stdout",
     "output_type": "stream",
     "text": [
      "Found existing cluster\n",
      "Succeeded\n",
      "AmlCompute wait for completion finished\n",
      "\n",
      "Minimum number of nodes requested have been provisioned\n"
     ]
    }
   ],
   "source": [
    "cluster_name = \"mimi-compute\"\n",
    "\n",
    "try:\n",
    "    aml_compute = ComputeTarget(workspace=ws, name=cluster_name)\n",
    "    print('Found existing cluster')\n",
    "except ComputeTargetException:\n",
    "    compute_config = AmlCompute.provisioning_configuration(vm_size='STANDARD_DS12_V2',\n",
    "                                                           max_nodes=4)\n",
    "    aml_compute = ComputeTarget.create(ws, cluster_name, compute_config)\n",
    "\n",
    "aml_compute.wait_for_completion(show_output=True)"
   ]
  },
  {
   "cell_type": "code",
   "execution_count": 7,
   "metadata": {
    "collapsed": false,
    "gather": {
     "logged": 1598429217746
    },
    "jupyter": {
     "outputs_hidden": false,
     "source_hidden": false
    },
    "nteract": {
     "transient": {
      "deleting": false
     }
    }
   },
   "outputs": [],
   "source": [
    "# TODO: Put your automl settings here\n",
    "automl_settings = { \"experiment_timeout_minutes\": 30,\n",
    "                    \"max_concurrent_iterations\": 5,\n",
    "                    \"primary_metric\" : 'accuracy'}\n",
    "\n",
    "# TODO: Put your automl config here\n",
    "automl_config = AutoMLConfig(compute_target=aml_compute,\n",
    "                             task = \"classification\",\n",
    "                             training_data=dataset,\n",
    "                             label_column_name=\"Outcome\",   \n",
    "                             path = '.',\n",
    "                             enable_early_stopping= True,\n",
    "                             featurization= 'auto',\n",
    "                             debug_log = \"automl_errors.log\",\n",
    "                             **automl_settings\n",
    "                            )"
   ]
  },
  {
   "cell_type": "code",
   "execution_count": 8,
   "metadata": {
    "collapsed": false,
    "gather": {
     "logged": 1598431107951
    },
    "jupyter": {
     "outputs_hidden": false,
     "source_hidden": false
    },
    "nteract": {
     "transient": {
      "deleting": false
     }
    }
   },
   "outputs": [
    {
     "name": "stdout",
     "output_type": "stream",
     "text": [
      "Submitting remote run.\n"
     ]
    },
    {
     "data": {
      "text/html": [
       "<table style=\"width:100%\"><tr><th>Experiment</th><th>Id</th><th>Type</th><th>Status</th><th>Details Page</th><th>Docs Page</th></tr><tr><td>diabetes-automl</td><td>AutoML_d8b32f9a-7233-4396-a964-ee5c0498a578</td><td>automl</td><td>NotStarted</td><td><a href=\"https://ml.azure.com/runs/AutoML_d8b32f9a-7233-4396-a964-ee5c0498a578?wsid=/subscriptions/1b944a9b-fdae-4f97-aeb1-b7eea0beac53/resourcegroups/aml-quickstarts-233450/workspaces/quick-starts-ws-233450&amp;tid=660b3398-b80e-49d2-bc5b-ac1dc93b5254\" target=\"_blank\" rel=\"noopener\">Link to Azure Machine Learning studio</a></td><td><a href=\"https://docs.microsoft.com/en-us/python/api/overview/azure/ml/intro?view=azure-ml-py\" target=\"_blank\" rel=\"noopener\">Link to Documentation</a></td></tr></table>"
      ],
      "text/plain": [
       "<IPython.core.display.HTML object>"
      ]
     },
     "metadata": {},
     "output_type": "display_data"
    }
   ],
   "source": [
    "# TODO: Submit your experiment\n",
    "remote_run = experiment.submit(automl_config)"
   ]
  },
  {
   "cell_type": "markdown",
   "metadata": {},
   "source": [
    "## Run Details\n",
    "\n",
    "OPTIONAL: Write about the different models trained and their performance. Why do you think some models did better than others?\n",
    "\n",
    "TODO: In the cell below, use the `RunDetails` widget to show the different experiments."
   ]
  },
  {
   "cell_type": "code",
   "execution_count": 11,
   "metadata": {
    "collapsed": false,
    "gather": {
     "logged": 1598431121770
    },
    "jupyter": {
     "outputs_hidden": false,
     "source_hidden": false
    },
    "nteract": {
     "transient": {
      "deleting": false
     }
    }
   },
   "outputs": [
    {
     "data": {
      "application/vnd.jupyter.widget-view+json": {
       "model_id": "d50be2b971f645119dcdb9fbadc03195",
       "version_major": 2,
       "version_minor": 0
      },
      "text/plain": [
       "_AutoMLWidget(widget_settings={'childWidgetDisplay': 'popup', 'send_telemetry': False, 'log_level': 'INFO', 's…"
      ]
     },
     "metadata": {},
     "output_type": "display_data"
    },
    {
     "data": {
      "application/aml.mini.widget.v1": "{\"status\": \"Completed\", \"workbench_run_details_uri\": \"https://ml.azure.com/runs/AutoML_d8b32f9a-7233-4396-a964-ee5c0498a578?wsid=/subscriptions/1b944a9b-fdae-4f97-aeb1-b7eea0beac53/resourcegroups/aml-quickstarts-233450/workspaces/quick-starts-ws-233450&tid=660b3398-b80e-49d2-bc5b-ac1dc93b5254\", \"run_id\": \"AutoML_d8b32f9a-7233-4396-a964-ee5c0498a578\", \"run_properties\": {\"run_id\": \"AutoML_d8b32f9a-7233-4396-a964-ee5c0498a578\", \"created_utc\": \"2023-05-10T15:02:14.849224Z\", \"properties\": {\"num_iterations\": \"1000\", \"training_type\": \"TrainFull\", \"acquisition_function\": \"EI\", \"primary_metric\": \"accuracy\", \"train_split\": \"0\", \"acquisition_parameter\": \"0\", \"num_cross_validation\": null, \"target\": \"mimi-compute\", \"AMLSettingsJsonString\": \"{\\\"path\\\":null,\\\"name\\\":\\\"diabetes-automl\\\",\\\"subscription_id\\\":\\\"1b944a9b-fdae-4f97-aeb1-b7eea0beac53\\\",\\\"resource_group\\\":\\\"aml-quickstarts-233450\\\",\\\"workspace_name\\\":\\\"quick-starts-ws-233450\\\",\\\"region\\\":\\\"westus2\\\",\\\"compute_target\\\":\\\"mimi-compute\\\",\\\"spark_service\\\":null,\\\"azure_service\\\":\\\"remote\\\",\\\"many_models\\\":false,\\\"pipeline_fetch_max_batch_size\\\":1,\\\"enable_batch_run\\\":true,\\\"enable_parallel_run\\\":false,\\\"num_procs\\\":null,\\\"enable_run_restructure\\\":false,\\\"start_auxiliary_runs_before_parent_complete\\\":false,\\\"enable_code_generation\\\":true,\\\"iterations\\\":1000,\\\"primary_metric\\\":\\\"accuracy\\\",\\\"task_type\\\":\\\"classification\\\",\\\"positive_label\\\":null,\\\"data_script\\\":null,\\\"test_size\\\":0.0,\\\"test_include_predictions_only\\\":false,\\\"validation_size\\\":0.0,\\\"n_cross_validations\\\":null,\\\"y_min\\\":null,\\\"y_max\\\":null,\\\"num_classes\\\":null,\\\"featurization\\\":\\\"auto\\\",\\\"_ignore_package_version_incompatibilities\\\":false,\\\"is_timeseries\\\":false,\\\"max_cores_per_iteration\\\":1,\\\"max_concurrent_iterations\\\":5,\\\"iteration_timeout_minutes\\\":null,\\\"mem_in_mb\\\":null,\\\"enforce_time_on_windows\\\":false,\\\"experiment_timeout_minutes\\\":30,\\\"experiment_exit_score\\\":null,\\\"partition_column_names\\\":null,\\\"whitelist_models\\\":null,\\\"blacklist_algos\\\":[\\\"TensorFlowLinearClassifier\\\",\\\"TensorFlowDNN\\\"],\\\"supported_models\\\":[\\\"TensorFlowLinearClassifier\\\",\\\"BernoulliNaiveBayes\\\",\\\"LightGBM\\\",\\\"GradientBoosting\\\",\\\"AveragedPerceptronClassifier\\\",\\\"TabnetClassifier\\\",\\\"SVM\\\",\\\"DecisionTree\\\",\\\"TensorFlowDNN\\\",\\\"KNN\\\",\\\"RandomForest\\\",\\\"LinearSVM\\\",\\\"ExtremeRandomTrees\\\",\\\"MultinomialNaiveBayes\\\",\\\"LogisticRegression\\\",\\\"SGD\\\",\\\"XGBoostClassifier\\\"],\\\"private_models\\\":[],\\\"auto_blacklist\\\":true,\\\"blacklist_samples_reached\\\":false,\\\"exclude_nan_labels\\\":true,\\\"verbosity\\\":20,\\\"_debug_log\\\":\\\"azureml_automl.log\\\",\\\"show_warnings\\\":false,\\\"model_explainability\\\":true,\\\"service_url\\\":null,\\\"sdk_url\\\":null,\\\"sdk_packages\\\":null,\\\"enable_onnx_compatible_models\\\":false,\\\"enable_split_onnx_featurizer_estimator_models\\\":false,\\\"vm_type\\\":\\\"STANDARD_DS3_V2\\\",\\\"telemetry_verbosity\\\":20,\\\"send_telemetry\\\":true,\\\"enable_dnn\\\":false,\\\"scenario\\\":\\\"AutoML\\\",\\\"environment_label\\\":null,\\\"save_mlflow\\\":false,\\\"enable_categorical_indicators\\\":false,\\\"force_text_dnn\\\":false,\\\"enable_feature_sweeping\\\":true,\\\"enable_early_stopping\\\":true,\\\"early_stopping_n_iters\\\":10,\\\"arguments\\\":null,\\\"dataset_id\\\":\\\"b0f8c0d3-6772-48e7-99f0-e74502a085ca\\\",\\\"hyperdrive_config\\\":null,\\\"validation_dataset_id\\\":null,\\\"run_source\\\":null,\\\"metrics\\\":null,\\\"enable_metric_confidence\\\":false,\\\"enable_ensembling\\\":true,\\\"enable_stack_ensembling\\\":true,\\\"ensemble_iterations\\\":15,\\\"enable_tf\\\":false,\\\"enable_subsampling\\\":null,\\\"subsample_seed\\\":null,\\\"enable_nimbusml\\\":false,\\\"enable_streaming\\\":false,\\\"force_streaming\\\":false,\\\"track_child_runs\\\":true,\\\"n_best_runs\\\":1,\\\"allowed_private_models\\\":[],\\\"label_column_name\\\":\\\"Outcome\\\",\\\"weight_column_name\\\":null,\\\"cv_split_column_names\\\":null,\\\"enable_local_managed\\\":false,\\\"_local_managed_run_id\\\":null,\\\"cost_mode\\\":1,\\\"lag_length\\\":0,\\\"metric_operation\\\":\\\"maximize\\\",\\\"preprocess\\\":true}\", \"DataPrepJsonString\": \"{\\\\\\\"training_data\\\\\\\": {\\\\\\\"datasetId\\\\\\\": \\\\\\\"b0f8c0d3-6772-48e7-99f0-e74502a085ca\\\\\\\"}, \\\\\\\"datasets\\\\\\\": 0}\", \"EnableSubsampling\": null, \"runTemplate\": \"AutoML\", \"azureml.runsource\": \"automl\", \"display_task_type\": \"classification\", \"dependencies_versions\": \"{\\\"azureml-widgets\\\": \\\"1.49.0\\\", \\\"azureml-training-tabular\\\": \\\"1.49.0\\\", \\\"azureml-train\\\": \\\"1.49.0\\\", \\\"azureml-train-restclients-hyperdrive\\\": \\\"1.49.0\\\", \\\"azureml-train-core\\\": \\\"1.49.0\\\", \\\"azureml-train-automl\\\": \\\"1.49.0\\\", \\\"azureml-train-automl-runtime\\\": \\\"1.49.0\\\", \\\"azureml-train-automl-client\\\": \\\"1.49.0\\\", \\\"azureml-tensorboard\\\": \\\"1.49.0\\\", \\\"azureml-telemetry\\\": \\\"1.49.0\\\", \\\"azureml-sdk\\\": \\\"1.49.0\\\", \\\"azureml-responsibleai\\\": \\\"1.49.0\\\", \\\"azureml-pipeline\\\": \\\"1.49.0\\\", \\\"azureml-pipeline-steps\\\": \\\"1.49.0\\\", \\\"azureml-pipeline-core\\\": \\\"1.49.0\\\", \\\"azureml-opendatasets\\\": \\\"1.49.0\\\", \\\"azureml-mlflow\\\": \\\"1.49.0\\\", \\\"azureml-interpret\\\": \\\"1.49.0\\\", \\\"azureml-inference-server-http\\\": \\\"0.8.0\\\", \\\"azureml-explain-model\\\": \\\"1.49.0\\\", \\\"azureml-defaults\\\": \\\"1.49.0\\\", \\\"azureml-dataset-runtime\\\": \\\"1.49.0\\\", \\\"azureml-dataprep\\\": \\\"4.9.1\\\", \\\"azureml-dataprep-rslex\\\": \\\"2.16.1\\\", \\\"azureml-dataprep-native\\\": \\\"38.0.0\\\", \\\"azureml-datadrift\\\": \\\"1.49.0\\\", \\\"azureml-core\\\": \\\"1.49.0\\\", \\\"azureml-contrib-services\\\": \\\"1.49.0\\\", \\\"azureml-contrib-server\\\": \\\"1.49.0\\\", \\\"azureml-contrib-reinforcementlearning\\\": \\\"1.49.0\\\", \\\"azureml-contrib-pipeline-steps\\\": \\\"1.49.0\\\", \\\"azureml-contrib-notebook\\\": \\\"1.49.0\\\", \\\"azureml-contrib-fairness\\\": \\\"1.49.0\\\", \\\"azureml-contrib-dataset\\\": \\\"1.49.0\\\", \\\"azureml-contrib-automl-pipeline-steps\\\": \\\"1.49.0\\\", \\\"azureml-cli-common\\\": \\\"1.49.0\\\", \\\"azureml-automl-runtime\\\": \\\"1.49.0\\\", \\\"azureml-automl-dnn-nlp\\\": \\\"1.49.0\\\", \\\"azureml-automl-core\\\": \\\"1.49.0\\\", \\\"azureml-accel-models\\\": \\\"1.49.0\\\"}\", \"_aml_system_scenario_identification\": \"Remote.Parent\", \"ClientType\": \"SDK\", \"PlatformVersion\": \"DPV1\", \"environment_cpu_name\": \"AzureML-AutoML\", \"environment_cpu_label\": \"prod\", \"environment_gpu_name\": \"AzureML-AutoML-GPU\", \"environment_gpu_label\": \"prod\", \"root_attribution\": \"automl\", \"attribution\": \"AutoML\", \"Orchestrator\": \"AutoML\", \"CancelUri\": \"https://westus2.api.azureml.ms/jasmine/v1.0/subscriptions/1b944a9b-fdae-4f97-aeb1-b7eea0beac53/resourceGroups/aml-quickstarts-233450/providers/Microsoft.MachineLearningServices/workspaces/quick-starts-ws-233450/experimentids/abd89839-0fbc-42e7-b0c9-17f01ed4bb69/cancel/AutoML_d8b32f9a-7233-4396-a964-ee5c0498a578\", \"ClientSdkVersion\": null, \"snapshotId\": \"00000000-0000-0000-0000-000000000000\", \"SetupRunId\": \"AutoML_d8b32f9a-7233-4396-a964-ee5c0498a578_setup\", \"SetupRunContainerId\": \"dcid.AutoML_d8b32f9a-7233-4396-a964-ee5c0498a578_setup\", \"FeaturizationRunJsonPath\": \"featurizer_container.json\", \"FeaturizationRunId\": \"AutoML_d8b32f9a-7233-4396-a964-ee5c0498a578_featurize\", \"ProblemInfoJsonString\": \"{\\\"dataset_num_categorical\\\": 0, \\\"is_sparse\\\": true, \\\"subsampling\\\": false, \\\"has_extra_col\\\": true, \\\"dataset_classes\\\": 2, \\\"dataset_features\\\": 24, \\\"dataset_samples\\\": 768, \\\"single_frequency_class_detected\\\": false}\", \"ModelExplainRunId\": \"AutoML_d8b32f9a-7233-4396-a964-ee5c0498a578_ModelExplain\"}, \"tags\": {\"model_explain_run\": \"best_run\", \"_aml_system_automl_run_workspace_id\": \"c3bbd316-cd0f-48a3-8920-46bc768e1c1b\", \"_aml_system_azureml.automlComponent\": \"AutoML\", \"pipeline_id_000\": \"5dfac790c5c209f98a1da2dc1c7fb76f0397324f;c7af0367625be6ac5c2fecbfc72ed444cb7a2111;799d2168db11fc19b9e1c6c1df62f8981ad39fe9;44b5d2d23120dfcf96a7dc6389a293d17a966b1b;3735210984ea10097d5c91905cf6300ac278cd89;5304e705d6f401cb07f85bcf0ca59ac1f84dfcf5;294650ec23bc3d067a4972de7ceb12f6e97260fa;3caa818370e5e0c328d6266c359019bd31681270;79ebb3b8c385e3190e3dd4c1fa28b74730528045;da45f657e4591caadf1589a85a1f7b8932585595;589334a57221e0720a95cf217c065115a7b841d1;797e3e972ad02d947be4c64d2b06b775b6df7a49;3fd2e115482e0c7b92aa3297688aefb6c3aa6fb8;5a8eb9d9f67b1dd7e9e4062585daa2417ea78989;35b8e2db3c5f6e714072e1be9f0210fe48426975;1dfdf370ba770047b14bfa59c40920815defcdab;5235e3d56688f5f38ef82d73fba7c2e698fc1af2;17f87d449bb43aaf3cdae4b7eb6dd6e7fbdaf343;dc68fbd594530b5d52812dd9b3ffa3d6d8ba625e;2032292dd602836ed754a266c771ac100c4c80dc;f52e31edb9a1c79d3094620546ebbc7788edbaf8;e478544eb8734c07a1943f5bdf4e6605be6943df;fedbb4995d6de479c513576119965d71276f03d1;3ef9040509da05037cd402691a100d4b3dfeb7c4;1ba5554280c84fd9076073ac8862a27b7f59ff74;1b9ea9b05e1aba0cfbaa30fae26f336a29920979;a6bd27dd928875b84f691d4dfa1c1a3794c161f1;73a68134036e64d42c047d7a83b619494a0d4d5b;9602d4aae4ece79c353abeaacf0892c8a66ff4e5;1c9ef4eb5ab9cb1684f24b29e5a2a7f85ada231a;3a3298bd3404f64af85509d5acc1bf907e4337cb;5310b9d440e25c6d348900c922990b1199e63c5a;2770c60044ec96af8f3235ef079c3c38e8f46685;0246c67708423cf0f5e87c0895f605f5260a4165;04c1507aa326b2ef5d41ce4796b7e91f113b0ae9;4ae25d614d9afb5c995102bd62b04c38888b61ed;ffe2dee36b1a25bbc4b512b7611e4d0a9127d962;de43453c09484de7f2c6170d9d8aca0547a93456;__AutoML_Ensemble__;__AutoML_Stack_Ensemble__\", \"score_000\": \"0.7447881066302119;0.7538619275461381;0.7175495557074505;0.6979152426520847;0.7656869446343131;0.7174128503075872;0.7264695830485304;0.7683014354066986;0.650974025974026;0.7683014354066987;0.7564593301435407;0.6861927546138074;0.7721462747778538;0.6874743677375257;0.7552118933697881;0.6902255639097745;0.760457963089542;0.7474025974025974;0.740874914559125;0.6900888585099112;0.7683014354066987;0.7447368421052631;0.7396445659603554;0.7695317840054682;0.6940704032809297;0.7122009569377992;0.708356117566644;0.7148496240601504;0.744771018455229;0.7578605604921395;0.7448393711551606;0.7070574162679426;0.7591592617908407;0.7487525632262475;NaN;0.7409432672590567;NaN;NaN;0.7878332194121669;0.778691045796309\", \"predicted_cost_000\": \"0;0;0.5;0.5;0.5;0.5;0.5;0.5;0.5;0.5;0.5;0.5;0.5;0.5;0.5;0.5;0.5;0.5;0.5;0.5;0.09325568009014976;0.05088096024751142;0.2033638637269504;0.04334697660104135;0.07158303391426962;0.012078341596681414;0.016349133479773285;0.010272238260457756;0.10481184324002828;0.18030132293568119;0.3024551093609494;0.017347895579098844;0.13630284894433942;0.308904298348164;0.4761281141845233;0.01899781636299093;0.04110905860283472;0.009340016222979385;0;0\", \"fit_time_000\": \"0.0629777;0.1391693;0.19734310000000002;0.0224455;0.011036899999999999;0.010427599999999999;0.019871;0.0208152;0.0318104;0.0591006;0.020113600000000002;0.0058998;0.020883;0.013850099999999999;0.0171797;0.24521019999999996;0.030144600000000004;0.0838878;0.0522634;0.2822123;0.0548465;0.050508399999999995;0.7146983;0.0214653;0.4305512;0.0451632;0.021767;0.043339300000000004;0.21038269999999998;0.8631821000000001;0.0897041;0.032828800000000005;0.45088819999999996;0.3759195;NaN;0.0242472;NaN;NaN;25;34\", \"training_percent_000\": \"100;100;100;100;100;100;100;100;100;100;100;100;100;100;100;100;100;100;100;100;100;100;100;100;100;100;100;100;100;100;100;100;100;100;100;100;100;100;100;100\", \"iteration_000\": \"0;1;2;3;4;5;6;7;8;12;9;13;14;10;11;15;16;17;18;19;23;21;20;25;24;22;26;27;28;29;30;32;31;33;37;34;36;35;38;39\", \"run_preprocessor_000\": \"MaxAbsScaler;MaxAbsScaler;MaxAbsScaler;SparseNormalizer;MaxAbsScaler;MaxAbsScaler;StandardScalerWrapper;MaxAbsScaler;StandardScalerWrapper;MaxAbsScaler;StandardScalerWrapper;MaxAbsScaler;StandardScalerWrapper;SparseNormalizer;StandardScalerWrapper;SparseNormalizer;StandardScalerWrapper;StandardScalerWrapper;StandardScalerWrapper;TruncatedSVDWrapper;StandardScalerWrapper;StandardScalerWrapper;TruncatedSVDWrapper;StandardScalerWrapper;SparseNormalizer;SparseNormalizer;StandardScalerWrapper;SparseNormalizer;MaxAbsScaler;MaxAbsScaler;TruncatedSVDWrapper;SparseNormalizer;StandardScalerWrapper;StandardScalerWrapper;;MaxAbsScaler;;SparseNormalizer;;\", \"run_algorithm_000\": \"LightGBM;XGBoostClassifier;ExtremeRandomTrees;XGBoostClassifier;LightGBM;LightGBM;XGBoostClassifier;LogisticRegression;ExtremeRandomTrees;LogisticRegression;XGBoostClassifier;SGD;XGBoostClassifier;LightGBM;XGBoostClassifier;RandomForest;LogisticRegression;RandomForest;XGBoostClassifier;RandomForest;LogisticRegression;XGBoostClassifier;RandomForest;RandomForest;XGBoostClassifier;XGBoostClassifier;LightGBM;XGBoostClassifier;RandomForest;RandomForest;XGBoostClassifier;RandomForest;ExtremeRandomTrees;RandomForest;;RandomForest;;XGBoostClassifier;VotingEnsemble;StackEnsemble\", \"dynamic_allowlisting_iterations\": \"<24>;<30>;<35>;\", \"_aml_system_azureml.automl_early_exit_message\": \"No scores improved over last 10 iterations, so experiment stopped early. This early stopping behavior can be disabled by setting enable_early_stopping = False in AutoMLConfig for notebook/python SDK runs.\", \"automl_best_child_run_id\": \"AutoML_d8b32f9a-7233-4396-a964-ee5c0498a578_38\", \"model_explain_best_run_child_id\": \"AutoML_d8b32f9a-7233-4396-a964-ee5c0498a578_38\"}, \"end_time_utc\": \"2023-05-10T15:15:02.972356Z\", \"status\": \"Completed\", \"log_files\": {}, \"log_groups\": [], \"run_duration\": \"0:12:48\", \"run_number\": \"1683730934\", \"run_queued_details\": {\"status\": \"Completed\", \"details\": null}}, \"child_runs\": [{\"run_id\": \"AutoML_d8b32f9a-7233-4396-a964-ee5c0498a578_setup\", \"run_number\": 1683730947, \"metric\": null, \"status\": \"Completed\", \"run_type\": \"azureml.scriptrun\", \"training_percent\": null, \"start_time\": \"2023-05-10T15:04:21.861291Z\", \"end_time\": \"2023-05-10T15:05:25.961751Z\", \"created_time\": \"2023-05-10T15:02:27.410805Z\", \"created_time_dt\": \"2023-05-10T15:02:27.410805Z\", \"duration\": \"0:02:58\", \"iteration\": null, \"goal\": null, \"run_name\": \"Completed\", \"run_properties\": null}, {\"run_id\": \"AutoML_d8b32f9a-7233-4396-a964-ee5c0498a578_featurize\", \"run_number\": 1683731126, \"metric\": null, \"status\": \"Completed\", \"run_type\": \"automl.featurization\", \"training_percent\": null, \"start_time\": \"2023-05-10T15:05:26.589591Z\", \"end_time\": \"2023-05-10T15:07:01.411016Z\", \"created_time\": \"2023-05-10T15:05:26.294183Z\", \"created_time_dt\": \"2023-05-10T15:05:26.294183Z\", \"duration\": \"0:01:35\", \"iteration\": null, \"goal\": null, \"run_name\": \"Completed\", \"run_properties\": null}, {\"run_id\": \"AutoML_d8b32f9a-7233-4396-a964-ee5c0498a578_0\", \"run_number\": 1683731222, \"metric\": null, \"status\": \"Completed\", \"run_type\": null, \"training_percent\": \"100\", \"start_time\": \"2023-05-10T15:07:17.877965Z\", \"end_time\": \"2023-05-10T15:07:29.768768Z\", \"created_time\": \"2023-05-10T15:07:02.68365Z\", \"created_time_dt\": \"2023-05-10T15:07:02.68365Z\", \"duration\": \"0:00:27\", \"iteration\": \"0\", \"goal\": \"accuracy_max\", \"run_name\": \"MaxAbsScaler, LightGBM\", \"run_properties\": \"copy=True\", \"primary_metric\": 0.74478811, \"best_metric\": 0.74478811}, {\"run_id\": \"AutoML_d8b32f9a-7233-4396-a964-ee5c0498a578_1\", \"run_number\": 1683731223, \"metric\": null, \"status\": \"Completed\", \"run_type\": null, \"training_percent\": \"100\", \"start_time\": \"2023-05-10T15:07:30.183651Z\", \"end_time\": \"2023-05-10T15:07:45.886958Z\", \"created_time\": \"2023-05-10T15:07:03.089098Z\", \"created_time_dt\": \"2023-05-10T15:07:03.089098Z\", \"duration\": \"0:00:42\", \"iteration\": \"1\", \"goal\": \"accuracy_max\", \"run_name\": \"MaxAbsScaler, XGBoostClassifier\", \"run_properties\": \"copy=True\", \"primary_metric\": 0.75386193, \"best_metric\": 0.75386193}, {\"run_id\": \"AutoML_d8b32f9a-7233-4396-a964-ee5c0498a578_worker_0\", \"run_number\": 1683731224, \"metric\": null, \"status\": \"Completed\", \"run_type\": \"azureml.scriptrun\", \"training_percent\": null, \"start_time\": \"2023-05-10T15:07:10.402199Z\", \"end_time\": \"2023-05-10T15:08:20.351677Z\", \"created_time\": \"2023-05-10T15:07:04.279363Z\", \"created_time_dt\": \"2023-05-10T15:07:04.279363Z\", \"duration\": \"0:01:16\", \"iteration\": null, \"goal\": null, \"run_name\": \"Completed\", \"run_properties\": null}, {\"run_id\": \"AutoML_d8b32f9a-7233-4396-a964-ee5c0498a578_6\", \"run_number\": 1683731225, \"metric\": null, \"status\": \"Completed\", \"run_type\": null, \"training_percent\": \"100\", \"start_time\": \"2023-05-10T15:08:55.701014Z\", \"end_time\": \"2023-05-10T15:09:11.438233Z\", \"created_time\": \"2023-05-10T15:07:05.294268Z\", \"created_time_dt\": \"2023-05-10T15:07:05.294268Z\", \"duration\": \"0:02:06\", \"iteration\": \"6\", \"goal\": \"accuracy_max\", \"run_name\": \"StandardScalerWrapper, XGBoostClassifier\", \"run_properties\": \"copy=True, with_mean=False, with_std=False\", \"primary_metric\": 0.72646958, \"best_metric\": 0.75386193}, {\"run_id\": \"AutoML_d8b32f9a-7233-4396-a964-ee5c0498a578_worker_1\", \"run_number\": 1683731226, \"metric\": null, \"status\": \"Completed\", \"run_type\": \"azureml.scriptrun\", \"training_percent\": null, \"start_time\": \"2023-05-10T15:08:23.006224Z\", \"end_time\": \"2023-05-10T15:09:28.944502Z\", \"created_time\": \"2023-05-10T15:07:06.044382Z\", \"created_time_dt\": \"2023-05-10T15:07:06.044382Z\", \"duration\": \"0:02:22\", \"iteration\": null, \"goal\": null, \"run_name\": \"Completed\", \"run_properties\": null}, {\"run_id\": \"AutoML_d8b32f9a-7233-4396-a964-ee5c0498a578_worker_2\", \"run_number\": 1683731227, \"metric\": null, \"status\": \"Completed\", \"run_type\": \"azureml.scriptrun\", \"training_percent\": null, \"start_time\": \"2023-05-10T15:08:53.287196Z\", \"end_time\": \"2023-05-10T15:10:35.332338Z\", \"created_time\": \"2023-05-10T15:07:07.638313Z\", \"created_time_dt\": \"2023-05-10T15:07:07.638313Z\", \"duration\": \"0:03:27\", \"iteration\": null, \"goal\": null, \"run_name\": \"Completed\", \"run_properties\": null}, {\"run_id\": \"AutoML_d8b32f9a-7233-4396-a964-ee5c0498a578_13\", \"run_number\": 1683731228, \"metric\": null, \"status\": \"Completed\", \"run_type\": null, \"training_percent\": \"100\", \"start_time\": \"2023-05-10T15:09:53.043964Z\", \"end_time\": \"2023-05-10T15:10:02.376873Z\", \"created_time\": \"2023-05-10T15:07:08.448901Z\", \"created_time_dt\": \"2023-05-10T15:07:08.448901Z\", \"duration\": \"0:02:53\", \"iteration\": \"13\", \"goal\": \"accuracy_max\", \"run_name\": \"MaxAbsScaler, SGD\", \"run_properties\": \"copy=True\", \"primary_metric\": 0.68619275, \"best_metric\": 0.75386193}, {\"run_id\": \"AutoML_d8b32f9a-7233-4396-a964-ee5c0498a578_worker_3\", \"run_number\": 1683731229, \"metric\": null, \"status\": \"Completed\", \"run_type\": \"azureml.scriptrun\", \"training_percent\": null, \"start_time\": \"2023-05-10T15:09:33.360707Z\", \"end_time\": \"2023-05-10T15:10:38.934368Z\", \"created_time\": \"2023-05-10T15:07:09.541281Z\", \"created_time_dt\": \"2023-05-10T15:07:09.541281Z\", \"duration\": \"0:03:29\", \"iteration\": null, \"goal\": null, \"run_name\": \"Completed\", \"run_properties\": null}, {\"run_id\": \"AutoML_d8b32f9a-7233-4396-a964-ee5c0498a578_17\", \"run_number\": 1683731230, \"metric\": null, \"status\": \"Completed\", \"run_type\": null, \"training_percent\": \"100\", \"start_time\": \"2023-05-10T15:10:57.737425Z\", \"end_time\": \"2023-05-10T15:11:07.981108Z\", \"created_time\": \"2023-05-10T15:07:10.030158Z\", \"created_time_dt\": \"2023-05-10T15:07:10.030158Z\", \"duration\": \"0:03:57\", \"iteration\": \"17\", \"goal\": \"accuracy_max\", \"run_name\": \"StandardScalerWrapper, RandomForest\", \"run_properties\": \"copy=True, with_mean=False, with_std=False\", \"primary_metric\": 0.7474026, \"best_metric\": 0.75386193}, {\"run_id\": \"AutoML_d8b32f9a-7233-4396-a964-ee5c0498a578_worker_4\", \"run_number\": 1683731231, \"metric\": null, \"status\": \"Completed\", \"run_type\": \"azureml.scriptrun\", \"training_percent\": null, \"start_time\": \"2023-05-10T15:10:38.957053Z\", \"end_time\": \"2023-05-10T15:11:44.046281Z\", \"created_time\": \"2023-05-10T15:07:11.095916Z\", \"created_time_dt\": \"2023-05-10T15:07:11.095916Z\", \"duration\": \"0:04:32\", \"iteration\": null, \"goal\": null, \"run_name\": \"Completed\", \"run_properties\": null}, {\"run_id\": \"AutoML_d8b32f9a-7233-4396-a964-ee5c0498a578_20\", \"run_number\": 1683731433, \"metric\": null, \"status\": \"Completed\", \"run_type\": \"azureml.scriptrun\", \"training_percent\": \"100\", \"start_time\": \"2023-05-10T15:10:45.004507Z\", \"end_time\": \"2023-05-10T15:12:12.823031Z\", \"created_time\": \"2023-05-10T15:10:33.681011Z\", \"created_time_dt\": \"2023-05-10T15:10:33.681011Z\", \"duration\": \"0:01:39\", \"iteration\": \"20\", \"goal\": \"accuracy_max\", \"run_name\": \"TruncatedSVDWrapper, RandomForest\", \"run_properties\": \"n_components=0.7026315789473684, random_state=None\", \"primary_metric\": 0.73964457, \"best_metric\": 0.75386193}, {\"run_id\": \"AutoML_d8b32f9a-7233-4396-a964-ee5c0498a578_23\", \"run_number\": 1683731470, \"metric\": null, \"status\": \"Completed\", \"run_type\": \"azureml.scriptrun\", \"training_percent\": \"100\", \"start_time\": \"2023-05-10T15:11:19.31303Z\", \"end_time\": \"2023-05-10T15:11:45.146517Z\", \"created_time\": \"2023-05-10T15:11:10.719855Z\", \"created_time_dt\": \"2023-05-10T15:11:10.719855Z\", \"duration\": \"0:00:34\", \"iteration\": \"23\", \"goal\": \"accuracy_max\", \"run_name\": \"StandardScalerWrapper, LogisticRegression\", \"run_properties\": \"copy=True, with_mean=False, with_std=True\", \"primary_metric\": 0.76830144, \"best_metric\": 0.76830144}, {\"run_id\": \"AutoML_d8b32f9a-7233-4396-a964-ee5c0498a578_24\", \"run_number\": 1683731509, \"metric\": null, \"status\": \"Completed\", \"run_type\": \"azureml.scriptrun\", \"training_percent\": \"100\", \"start_time\": \"2023-05-10T15:11:59.600884Z\", \"end_time\": \"2023-05-10T15:12:29.209132Z\", \"created_time\": \"2023-05-10T15:11:49.371298Z\", \"created_time_dt\": \"2023-05-10T15:11:49.371298Z\", \"duration\": \"0:00:39\", \"iteration\": \"24\", \"goal\": \"accuracy_max\", \"run_name\": \"SparseNormalizer, XGBoostClassifier\", \"run_properties\": \"copy=True, norm='max'\", \"primary_metric\": 0.6940704, \"best_metric\": 0.76830144}, {\"run_id\": \"AutoML_d8b32f9a-7233-4396-a964-ee5c0498a578_26\", \"run_number\": 1683731531, \"metric\": null, \"status\": \"Completed\", \"run_type\": \"azureml.scriptrun\", \"training_percent\": \"100\", \"start_time\": \"2023-05-10T15:12:19.262981Z\", \"end_time\": \"2023-05-10T15:12:50.713951Z\", \"created_time\": \"2023-05-10T15:12:11.470588Z\", \"created_time_dt\": \"2023-05-10T15:12:11.470588Z\", \"duration\": \"0:00:39\", \"iteration\": \"26\", \"goal\": \"accuracy_max\", \"run_name\": \"StandardScalerWrapper, LightGBM\", \"run_properties\": \"copy=True, with_mean=False, with_std=False\", \"primary_metric\": 0.70835612, \"best_metric\": 0.76830144}, {\"run_id\": \"AutoML_d8b32f9a-7233-4396-a964-ee5c0498a578_27\", \"run_number\": 1683731534, \"metric\": null, \"status\": \"Completed\", \"run_type\": \"azureml.scriptrun\", \"training_percent\": \"100\", \"start_time\": \"2023-05-10T15:12:22.271984Z\", \"end_time\": \"2023-05-10T15:12:50.638207Z\", \"created_time\": \"2023-05-10T15:12:14.328168Z\", \"created_time_dt\": \"2023-05-10T15:12:14.328168Z\", \"duration\": \"0:00:36\", \"iteration\": \"27\", \"goal\": \"accuracy_max\", \"run_name\": \"SparseNormalizer, XGBoostClassifier\", \"run_properties\": \"copy=True, norm='l2'\", \"primary_metric\": 0.71484962, \"best_metric\": 0.76830144}, {\"run_id\": \"AutoML_d8b32f9a-7233-4396-a964-ee5c0498a578_28\", \"run_number\": 1683731546, \"metric\": null, \"status\": \"Completed\", \"run_type\": \"azureml.scriptrun\", \"training_percent\": \"100\", \"start_time\": \"2023-05-10T15:12:33.939221Z\", \"end_time\": \"2023-05-10T15:13:01.701729Z\", \"created_time\": \"2023-05-10T15:12:26.402108Z\", \"created_time_dt\": \"2023-05-10T15:12:26.402108Z\", \"duration\": \"0:00:35\", \"iteration\": \"28\", \"goal\": \"accuracy_max\", \"run_name\": \"MaxAbsScaler, RandomForest\", \"run_properties\": \"copy=True\", \"primary_metric\": 0.74477102, \"best_metric\": 0.76830144}, {\"run_id\": \"AutoML_d8b32f9a-7233-4396-a964-ee5c0498a578_29\", \"run_number\": 1683731550, \"metric\": null, \"status\": \"Completed\", \"run_type\": \"azureml.scriptrun\", \"training_percent\": \"100\", \"start_time\": \"2023-05-10T15:12:38.112183Z\", \"end_time\": \"2023-05-10T15:13:12.136194Z\", \"created_time\": \"2023-05-10T15:12:30.736776Z\", \"created_time_dt\": \"2023-05-10T15:12:30.736776Z\", \"duration\": \"0:00:41\", \"iteration\": \"29\", \"goal\": \"accuracy_max\", \"run_name\": \"MaxAbsScaler, RandomForest\", \"run_properties\": \"copy=True\", \"primary_metric\": 0.75786056, \"best_metric\": 0.76830144}, {\"run_id\": \"AutoML_d8b32f9a-7233-4396-a964-ee5c0498a578_30\", \"run_number\": 1683731561, \"metric\": null, \"status\": \"Completed\", \"run_type\": \"azureml.scriptrun\", \"training_percent\": \"100\", \"start_time\": \"2023-05-10T15:12:52.434924Z\", \"end_time\": \"2023-05-10T15:13:22.447112Z\", \"created_time\": \"2023-05-10T15:12:41.601159Z\", \"created_time_dt\": \"2023-05-10T15:12:41.601159Z\", \"duration\": \"0:00:40\", \"iteration\": \"30\", \"goal\": \"accuracy_max\", \"run_name\": \"TruncatedSVDWrapper, XGBoostClassifier\", \"run_properties\": \"n_components=0.2573684210526316, random_state=None\", \"primary_metric\": 0.74483937, \"best_metric\": 0.76830144}, {\"run_id\": \"AutoML_d8b32f9a-7233-4396-a964-ee5c0498a578_31\", \"run_number\": 1683731572, \"metric\": null, \"status\": \"Completed\", \"run_type\": \"azureml.scriptrun\", \"training_percent\": \"100\", \"start_time\": \"2023-05-10T15:12:58.311033Z\", \"end_time\": \"2023-05-10T15:13:37.306604Z\", \"created_time\": \"2023-05-10T15:12:52.018948Z\", \"created_time_dt\": \"2023-05-10T15:12:52.018948Z\", \"duration\": \"0:00:45\", \"iteration\": \"31\", \"goal\": \"accuracy_max\", \"run_name\": \"StandardScalerWrapper, ExtremeRandomTrees\", \"run_properties\": \"copy=True, with_mean=False, with_std=False\", \"primary_metric\": 0.75915926, \"best_metric\": 0.76830144}, {\"run_id\": \"AutoML_d8b32f9a-7233-4396-a964-ee5c0498a578_33\", \"run_number\": 1683731583, \"metric\": null, \"status\": \"Completed\", \"run_type\": \"azureml.scriptrun\", \"training_percent\": \"100\", \"start_time\": \"2023-05-10T15:13:10.188037Z\", \"end_time\": \"2023-05-10T15:13:39.032017Z\", \"created_time\": \"2023-05-10T15:13:03.088242Z\", \"created_time_dt\": \"2023-05-10T15:13:03.088242Z\", \"duration\": \"0:00:35\", \"iteration\": \"33\", \"goal\": \"accuracy_max\", \"run_name\": \"StandardScalerWrapper, RandomForest\", \"run_properties\": \"copy=True, with_mean=False, with_std=False\", \"primary_metric\": 0.74875256, \"best_metric\": 0.76830144}, {\"run_id\": \"AutoML_d8b32f9a-7233-4396-a964-ee5c0498a578_34\", \"run_number\": 1683731593, \"metric\": null, \"status\": \"Canceled\", \"run_type\": \"azureml.scriptrun\", \"training_percent\": \"100\", \"start_time\": \"2023-05-10T15:13:22.3916Z\", \"end_time\": \"2023-05-10T15:13:43.813721Z\", \"created_time\": \"2023-05-10T15:13:13.428773Z\", \"created_time_dt\": \"2023-05-10T15:13:13.428773Z\", \"duration\": \"0:00:30\", \"iteration\": \"34\", \"goal\": \"accuracy_max\", \"run_name\": \"MaxAbsScaler, RandomForest\", \"run_properties\": \"copy=True\", \"primary_metric\": 0.74094327, \"best_metric\": 0.76830144}, {\"run_id\": \"AutoML_d8b32f9a-7233-4396-a964-ee5c0498a578_35\", \"run_number\": 1683731604, \"metric\": null, \"status\": \"Canceled\", \"run_type\": \"azureml.scriptrun\", \"training_percent\": \"100\", \"start_time\": \"2023-05-10T15:13:33.636045Z\", \"end_time\": \"2023-05-10T15:13:45.673671Z\", \"created_time\": \"2023-05-10T15:13:24.379653Z\", \"created_time_dt\": \"2023-05-10T15:13:24.379653Z\", \"duration\": \"0:00:21\", \"iteration\": \"35\", \"goal\": null, \"run_name\": \"SparseNormalizer, XGBoostClassifier\", \"run_properties\": null}, {\"run_id\": \"AutoML_d8b32f9a-7233-4396-a964-ee5c0498a578_36\", \"run_number\": 1683731608, \"metric\": null, \"status\": \"Canceled\", \"run_type\": \"azureml.scriptrun\", \"training_percent\": \"100\", \"start_time\": \"2023-05-10T15:13:34.929675Z\", \"end_time\": \"2023-05-10T15:13:45.301177Z\", \"created_time\": \"2023-05-10T15:13:28.494915Z\", \"created_time_dt\": \"2023-05-10T15:13:28.494915Z\", \"duration\": \"0:00:16\", \"iteration\": \"36\", \"goal\": null, \"run_name\": \"Canceled\", \"run_properties\": null}, {\"run_id\": \"AutoML_d8b32f9a-7233-4396-a964-ee5c0498a578_37\", \"run_number\": 1683731618, \"metric\": null, \"status\": \"Canceled\", \"run_type\": \"azureml.scriptrun\", \"training_percent\": \"100\", \"start_time\": \"2023-05-10T15:13:39.915994Z\", \"end_time\": \"2023-05-10T15:13:41.199135Z\", \"created_time\": \"2023-05-10T15:13:38.605388Z\", \"created_time_dt\": \"2023-05-10T15:13:38.605388Z\", \"duration\": \"0:00:02\", \"iteration\": \"37\", \"goal\": null, \"run_name\": \"Canceled\", \"run_properties\": null}, {\"run_id\": \"AutoML_d8b32f9a-7233-4396-a964-ee5c0498a578_39\", \"run_number\": 1683731626, \"metric\": null, \"status\": \"Completed\", \"run_type\": \"azureml.scriptrun\", \"training_percent\": \"100\", \"start_time\": \"2023-05-10T15:13:52.855534Z\", \"end_time\": \"2023-05-10T15:15:01.672022Z\", \"created_time\": \"2023-05-10T15:13:46.486036Z\", \"created_time_dt\": \"2023-05-10T15:13:46.486036Z\", \"duration\": \"0:01:15\", \"iteration\": \"39\", \"goal\": \"accuracy_max\", \"run_name\": \"StackEnsemble\", \"run_properties\": \"base_learners=[('14', Pipeline(memory=None, steps=[('standardscalerwrapper', StandardScalerWrapper(copy=True, with_mean=False, with_std=False\", \"primary_metric\": 0.77869105, \"best_metric\": 0.77869105}], \"children_metrics\": {\"categories\": [0], \"series\": {\"recall_score_micro\": [{\"categories\": [\"0\", \"1\", \"6\", \"13\", \"17\", \"20\", \"23\", \"24\", \"26\", \"27\", \"28\", \"29\", \"30\", \"31\", \"33\", \"34\", \"39\"], \"mode\": \"markers\", \"name\": \"recall_score_micro\", \"stepped\": false, \"type\": \"scatter\", \"data\": [0.7447881066302119, 0.7538619275461381, 0.7264695830485304, 0.6861927546138074, 0.7474025974025974, 0.7396445659603554, 0.7683014354066987, 0.6940704032809297, 0.708356117566644, 0.7148496240601504, 0.744771018455229, 0.7578605604921395, 0.7448393711551606, 0.7591592617908407, 0.7487525632262475, 0.7409432672590567, 0.778691045796309]}, {\"categories\": [\"0\", \"1\", \"6\", \"13\", \"17\", \"20\", \"23\", \"24\", \"26\", \"27\", \"28\", \"29\", \"30\", \"31\", \"33\", \"34\", \"39\"], \"mode\": \"lines\", \"name\": \"recall_score_micro_max\", \"stepped\": true, \"type\": \"scatter\", \"data\": [0.7447881066302119, 0.7538619275461381, 0.7538619275461381, 0.7538619275461381, 0.7538619275461381, 0.7538619275461381, 0.7683014354066987, 0.7683014354066987, 0.7683014354066987, 0.7683014354066987, 0.7683014354066987, 0.7683014354066987, 0.7683014354066987, 0.7683014354066987, 0.7683014354066987, 0.7683014354066987, 0.778691045796309]}], \"accuracy\": [{\"categories\": [\"0\", \"1\", \"6\", \"13\", \"17\", \"20\", \"23\", \"24\", \"26\", \"27\", \"28\", \"29\", \"30\", \"31\", \"33\", \"34\", \"39\"], \"mode\": \"markers\", \"name\": \"accuracy\", \"stepped\": false, \"type\": \"scatter\", \"data\": [0.7447881066302119, 0.7538619275461381, 0.7264695830485304, 0.6861927546138074, 0.7474025974025974, 0.7396445659603554, 0.7683014354066987, 0.6940704032809297, 0.708356117566644, 0.7148496240601504, 0.744771018455229, 0.7578605604921395, 0.7448393711551606, 0.7591592617908407, 0.7487525632262475, 0.7409432672590567, 0.778691045796309]}, {\"categories\": [\"0\", \"1\", \"6\", \"13\", \"17\", \"20\", \"23\", \"24\", \"26\", \"27\", \"28\", \"29\", \"30\", \"31\", \"33\", \"34\", \"39\"], \"mode\": \"lines\", \"name\": \"accuracy_max\", \"stepped\": true, \"type\": \"scatter\", \"data\": [0.7447881066302119, 0.7538619275461381, 0.7538619275461381, 0.7538619275461381, 0.7538619275461381, 0.7538619275461381, 0.7683014354066987, 0.7683014354066987, 0.7683014354066987, 0.7683014354066987, 0.7683014354066987, 0.7683014354066987, 0.7683014354066987, 0.7683014354066987, 0.7683014354066987, 0.7683014354066987, 0.778691045796309]}], \"precision_score_weighted\": [{\"categories\": [\"0\", \"1\", \"6\", \"13\", \"17\", \"20\", \"23\", \"24\", \"26\", \"27\", \"28\", \"29\", \"30\", \"31\", \"33\", \"34\", \"39\"], \"mode\": \"markers\", \"name\": \"precision_score_weighted\", \"stepped\": false, \"type\": \"scatter\", \"data\": [0.74499726398015, 0.7542216438849294, 0.7243973711786674, 0.7121974798624109, 0.7532862631331482, 0.7503432717630744, 0.767229524759855, 0.6925339149160463, 0.7436681658560146, 0.7099762682405656, 0.7578143005282552, 0.7552556101271948, 0.7414132674622473, 0.7613741176971817, 0.7715109165608249, 0.7629274102743355, 0.7818045256726875]}, {\"categories\": [\"0\", \"1\", \"6\", \"13\", \"17\", \"20\", \"23\", \"24\", \"26\", \"27\", \"28\", \"29\", \"30\", \"31\", \"33\", \"34\", \"39\"], \"mode\": \"lines\", \"name\": \"precision_score_weighted_max\", \"stepped\": true, \"type\": \"scatter\", \"data\": [0.74499726398015, 0.7542216438849294, 0.7542216438849294, 0.7542216438849294, 0.7542216438849294, 0.7542216438849294, 0.767229524759855, 0.767229524759855, 0.767229524759855, 0.767229524759855, 0.767229524759855, 0.767229524759855, 0.767229524759855, 0.767229524759855, 0.7715109165608249, 0.7715109165608249, 0.7818045256726875]}], \"AUC_macro\": [{\"categories\": [\"0\", \"1\", \"6\", \"13\", \"17\", \"20\", \"23\", \"24\", \"26\", \"27\", \"28\", \"29\", \"30\", \"31\", \"33\", \"34\", \"39\"], \"mode\": \"markers\", \"name\": \"AUC_macro\", \"stepped\": false, \"type\": \"scatter\", \"data\": [0.8056502143801916, 0.8036990286232012, 0.7904512798031315, 0.7558450237749412, 0.8177422712820557, 0.7891112945493248, 0.8216946649595268, 0.7255761308527447, 0.8354072759168482, 0.7419728260379317, 0.8211336156163735, 0.831735756733246, 0.7988825153287787, 0.8317762219274144, 0.825446767059986, 0.827159503776753, 0.8340935196114945]}, {\"categories\": [\"0\", \"1\", \"6\", \"13\", \"17\", \"20\", \"23\", \"24\", \"26\", \"27\", \"28\", \"29\", \"30\", \"31\", \"33\", \"34\", \"39\"], \"mode\": \"lines\", \"name\": \"AUC_macro_max\", \"stepped\": true, \"type\": \"scatter\", \"data\": [0.8056502143801916, 0.8056502143801916, 0.8056502143801916, 0.8056502143801916, 0.8177422712820557, 0.8177422712820557, 0.8216946649595268, 0.8216946649595268, 0.8354072759168482, 0.8354072759168482, 0.8354072759168482, 0.8354072759168482, 0.8354072759168482, 0.8354072759168482, 0.8354072759168482, 0.8354072759168482, 0.8354072759168482]}], \"matthews_correlation\": [{\"categories\": [\"0\", \"1\", \"6\", \"13\", \"17\", \"20\", \"23\", \"24\", \"26\", \"27\", \"28\", \"29\", \"30\", \"31\", \"33\", \"34\", \"39\"], \"mode\": \"markers\", \"name\": \"matthews_correlation\", \"stepped\": false, \"type\": \"scatter\", \"data\": [0.42646606217313365, 0.4482309494685762, 0.3820712183560472, 0.34626518347754054, 0.4106747048459777, 0.4380465298219044, 0.4670443191339716, 0.3077164069844053, 0.3105314750369597, 0.33995834272670344, 0.40401481650757914, 0.440929756181416, 0.4172021107908012, 0.43882761169070095, 0.47892515924438195, 0.45865094306511595, 0.48498232470689395]}, {\"categories\": [\"0\", \"1\", \"6\", \"13\", \"17\", \"20\", \"23\", \"24\", \"26\", \"27\", \"28\", \"29\", \"30\", \"31\", \"33\", \"34\", \"39\"], \"mode\": \"lines\", \"name\": \"matthews_correlation_max\", \"stepped\": true, \"type\": \"scatter\", \"data\": [0.42646606217313365, 0.4482309494685762, 0.4482309494685762, 0.4482309494685762, 0.4482309494685762, 0.4482309494685762, 0.4670443191339716, 0.4670443191339716, 0.4670443191339716, 0.4670443191339716, 0.4670443191339716, 0.4670443191339716, 0.4670443191339716, 0.4670443191339716, 0.47892515924438195, 0.47892515924438195, 0.48498232470689395]}], \"AUC_weighted\": [{\"categories\": [\"0\", \"1\", \"6\", \"13\", \"17\", \"20\", \"23\", \"24\", \"26\", \"27\", \"28\", \"29\", \"30\", \"31\", \"33\", \"34\", \"39\"], \"mode\": \"markers\", \"name\": \"AUC_weighted\", \"stepped\": false, \"type\": \"scatter\", \"data\": [0.8056502143801915, 0.8036990286232012, 0.7904512798031313, 0.7558450237749412, 0.8177422712820557, 0.7891112945493248, 0.8216946649595268, 0.7255761308527447, 0.8354072759168482, 0.7419728260379317, 0.8211336156163735, 0.831735756733246, 0.7988825153287789, 0.8317762219274145, 0.825446767059986, 0.827159503776753, 0.8340935196114945]}, {\"categories\": [\"0\", \"1\", \"6\", \"13\", \"17\", \"20\", \"23\", \"24\", \"26\", \"27\", \"28\", \"29\", \"30\", \"31\", \"33\", \"34\", \"39\"], \"mode\": \"lines\", \"name\": \"AUC_weighted_max\", \"stepped\": true, \"type\": \"scatter\", \"data\": [0.8056502143801915, 0.8056502143801915, 0.8056502143801915, 0.8056502143801915, 0.8177422712820557, 0.8177422712820557, 0.8216946649595268, 0.8216946649595268, 0.8354072759168482, 0.8354072759168482, 0.8354072759168482, 0.8354072759168482, 0.8354072759168482, 0.8354072759168482, 0.8354072759168482, 0.8354072759168482, 0.8354072759168482]}], \"norm_macro_recall\": [{\"categories\": [\"0\", \"1\", \"6\", \"13\", \"17\", \"20\", \"23\", \"24\", \"26\", \"27\", \"28\", \"29\", \"30\", \"31\", \"33\", \"34\", \"39\"], \"mode\": \"markers\", \"name\": \"norm_macro_recall\", \"stepped\": false, \"type\": \"scatter\", \"data\": [0.417718122177528, 0.4415612440041974, 0.3719749220548404, 0.3612209190009419, 0.3382651672658641, 0.4477174719088051, 0.4390424754829921, 0.2984209694297039, 0.18843644858388328, 0.30307542657860487, 0.3174581572575646, 0.4141076813222055, 0.39438233891462565, 0.382385507700988, 0.4970688378694561, 0.47293761742540424, 0.4305375510648365]}, {\"categories\": [\"0\", \"1\", \"6\", \"13\", \"17\", \"20\", \"23\", \"24\", \"26\", \"27\", \"28\", \"29\", \"30\", \"31\", \"33\", \"34\", \"39\"], \"mode\": \"lines\", \"name\": \"norm_macro_recall_max\", \"stepped\": true, \"type\": \"scatter\", \"data\": [0.417718122177528, 0.4415612440041974, 0.4415612440041974, 0.4415612440041974, 0.4415612440041974, 0.4477174719088051, 0.4477174719088051, 0.4477174719088051, 0.4477174719088051, 0.4477174719088051, 0.4477174719088051, 0.4477174719088051, 0.4477174719088051, 0.4477174719088051, 0.4970688378694561, 0.4970688378694561, 0.4970688378694561]}], \"average_precision_score_micro\": [{\"categories\": [\"0\", \"1\", \"6\", \"13\", \"17\", \"20\", \"23\", \"24\", \"26\", \"27\", \"28\", \"29\", \"30\", \"31\", \"33\", \"34\", \"39\"], \"mode\": \"markers\", \"name\": \"average_precision_score_micro\", \"stepped\": false, \"type\": \"scatter\", \"data\": [0.8296026447191587, 0.8272900307561116, 0.8145455147594294, 0.7471255247060613, 0.8344555394901677, 0.8111667158404124, 0.8405137505662947, 0.7648706437039193, 0.8214778614076327, 0.7762108604833082, 0.8299222468570993, 0.8532461705733004, 0.8327500184572199, 0.8468378161683283, 0.8268766754535879, 0.8280071107951729, 0.8515437416736953]}, {\"categories\": [\"0\", \"1\", \"6\", \"13\", \"17\", \"20\", \"23\", \"24\", \"26\", \"27\", \"28\", \"29\", \"30\", \"31\", \"33\", \"34\", \"39\"], \"mode\": \"lines\", \"name\": \"average_precision_score_micro_max\", \"stepped\": true, \"type\": \"scatter\", \"data\": [0.8296026447191587, 0.8296026447191587, 0.8296026447191587, 0.8296026447191587, 0.8344555394901677, 0.8344555394901677, 0.8405137505662947, 0.8405137505662947, 0.8405137505662947, 0.8405137505662947, 0.8405137505662947, 0.8532461705733004, 0.8532461705733004, 0.8532461705733004, 0.8532461705733004, 0.8532461705733004, 0.8532461705733004]}], \"average_precision_score_weighted\": [{\"categories\": [\"0\", \"1\", \"6\", \"13\", \"17\", \"20\", \"23\", \"24\", \"26\", \"27\", \"28\", \"29\", \"30\", \"31\", \"33\", \"34\", \"39\"], \"mode\": \"markers\", \"name\": \"average_precision_score_weighted\", \"stepped\": false, \"type\": \"scatter\", \"data\": [0.8163523961730792, 0.8180256297920566, 0.8047136177877343, 0.7808125052381181, 0.8322168741651836, 0.8115297941273691, 0.8340760634057874, 0.7543564685725237, 0.8456396905435881, 0.7618558326660134, 0.8360331765104352, 0.8441371901628292, 0.8205058720595051, 0.8442821371240846, 0.8368796629471159, 0.8433058364162604, 0.8492680227425093]}, {\"categories\": [\"0\", \"1\", \"6\", \"13\", \"17\", \"20\", \"23\", \"24\", \"26\", \"27\", \"28\", \"29\", \"30\", \"31\", \"33\", \"34\", \"39\"], \"mode\": \"lines\", \"name\": \"average_precision_score_weighted_max\", \"stepped\": true, \"type\": \"scatter\", \"data\": [0.8163523961730792, 0.8180256297920566, 0.8180256297920566, 0.8180256297920566, 0.8322168741651836, 0.8322168741651836, 0.8340760634057874, 0.8340760634057874, 0.8456396905435881, 0.8456396905435881, 0.8456396905435881, 0.8456396905435881, 0.8456396905435881, 0.8456396905435881, 0.8456396905435881, 0.8456396905435881, 0.8492680227425093]}], \"f1_score_weighted\": [{\"categories\": [\"0\", \"1\", \"6\", \"13\", \"17\", \"20\", \"23\", \"24\", \"26\", \"27\", \"28\", \"29\", \"30\", \"31\", \"33\", \"34\", \"39\"], \"mode\": \"markers\", \"name\": \"f1_score_weighted\", \"stepped\": false, \"type\": \"scatter\", \"data\": [0.7422938903644823, 0.7520738438324485, 0.7216800571472478, 0.6929498946841287, 0.7245646919200756, 0.7422939617513683, 0.7616138800799549, 0.689676052676895, 0.6444444004670442, 0.6991040926267783, 0.7163166657318726, 0.7504531683930125, 0.7381062487916373, 0.7424258756848136, 0.7537163066267394, 0.7454929541076721, 0.7662181473159351]}, {\"categories\": [\"0\", \"1\", \"6\", \"13\", \"17\", \"20\", \"23\", \"24\", \"26\", \"27\", \"28\", \"29\", \"30\", \"31\", \"33\", \"34\", \"39\"], \"mode\": \"lines\", \"name\": \"f1_score_weighted_max\", \"stepped\": true, \"type\": \"scatter\", \"data\": [0.7422938903644823, 0.7520738438324485, 0.7520738438324485, 0.7520738438324485, 0.7520738438324485, 0.7520738438324485, 0.7616138800799549, 0.7616138800799549, 0.7616138800799549, 0.7616138800799549, 0.7616138800799549, 0.7616138800799549, 0.7616138800799549, 0.7616138800799549, 0.7616138800799549, 0.7616138800799549, 0.7662181473159351]}], \"AUC_micro\": [{\"categories\": [\"0\", \"1\", \"6\", \"13\", \"17\", \"20\", \"23\", \"24\", \"26\", \"27\", \"28\", \"29\", \"30\", \"31\", \"33\", \"34\", \"39\"], \"mode\": \"markers\", \"name\": \"AUC_micro\", \"stepped\": false, \"type\": \"scatter\", \"data\": [0.8307229705485362, 0.8279474123387136, 0.8138413195341551, 0.7537374863866931, 0.8287591181707452, 0.8132752284769589, 0.8463413405585672, 0.7683452216650493, 0.8106036651857693, 0.7802220814495071, 0.8241420112606752, 0.8520970858295931, 0.8301892833665597, 0.8431487047326887, 0.8254612610021917, 0.8250545700297472, 0.8483666338607969]}, {\"categories\": [\"0\", \"1\", \"6\", \"13\", \"17\", \"20\", \"23\", \"24\", \"26\", \"27\", \"28\", \"29\", \"30\", \"31\", \"33\", \"34\", \"39\"], \"mode\": \"lines\", \"name\": \"AUC_micro_max\", \"stepped\": true, \"type\": \"scatter\", \"data\": [0.8307229705485362, 0.8307229705485362, 0.8307229705485362, 0.8307229705485362, 0.8307229705485362, 0.8307229705485362, 0.8463413405585672, 0.8463413405585672, 0.8463413405585672, 0.8463413405585672, 0.8463413405585672, 0.8520970858295931, 0.8520970858295931, 0.8520970858295931, 0.8520970858295931, 0.8520970858295931, 0.8520970858295931]}], \"f1_score_micro\": [{\"categories\": [\"0\", \"1\", \"6\", \"13\", \"17\", \"20\", \"23\", \"24\", \"26\", \"27\", \"28\", \"29\", \"30\", \"31\", \"33\", \"34\", \"39\"], \"mode\": \"markers\", \"name\": \"f1_score_micro\", \"stepped\": false, \"type\": \"scatter\", \"data\": [0.7447881066302119, 0.7538619275461381, 0.7264695830485304, 0.6861927546138074, 0.7474025974025974, 0.7396445659603554, 0.7683014354066987, 0.6940704032809297, 0.708356117566644, 0.7148496240601504, 0.744771018455229, 0.7578605604921395, 0.7448393711551605, 0.7591592617908407, 0.7487525632262473, 0.7409432672590567, 0.778691045796309]}, {\"categories\": [\"0\", \"1\", \"6\", \"13\", \"17\", \"20\", \"23\", \"24\", \"26\", \"27\", \"28\", \"29\", \"30\", \"31\", \"33\", \"34\", \"39\"], \"mode\": \"lines\", \"name\": \"f1_score_micro_max\", \"stepped\": true, \"type\": \"scatter\", \"data\": [0.7447881066302119, 0.7538619275461381, 0.7538619275461381, 0.7538619275461381, 0.7538619275461381, 0.7538619275461381, 0.7683014354066987, 0.7683014354066987, 0.7683014354066987, 0.7683014354066987, 0.7683014354066987, 0.7683014354066987, 0.7683014354066987, 0.7683014354066987, 0.7683014354066987, 0.7683014354066987, 0.778691045796309]}], \"balanced_accuracy\": [{\"categories\": [\"0\", \"1\", \"6\", \"13\", \"17\", \"20\", \"23\", \"24\", \"26\", \"27\", \"28\", \"29\", \"30\", \"31\", \"33\", \"34\", \"39\"], \"mode\": \"markers\", \"name\": \"balanced_accuracy\", \"stepped\": false, \"type\": \"scatter\", \"data\": [0.708859061088764, 0.7207806220020987, 0.6859874610274201, 0.6806104595004709, 0.669132583632932, 0.7238587359544025, 0.719521237741496, 0.6492104847148521, 0.5942182242919417, 0.6515377132893023, 0.6587290786287824, 0.7070538406611028, 0.6971911694573129, 0.6911927538504942, 0.748534418934728, 0.7364688087127021, 0.7152687755324182]}, {\"categories\": [\"0\", \"1\", \"6\", \"13\", \"17\", \"20\", \"23\", \"24\", \"26\", \"27\", \"28\", \"29\", \"30\", \"31\", \"33\", \"34\", \"39\"], \"mode\": \"lines\", \"name\": \"balanced_accuracy_max\", \"stepped\": true, \"type\": \"scatter\", \"data\": [0.708859061088764, 0.7207806220020987, 0.7207806220020987, 0.7207806220020987, 0.7207806220020987, 0.7238587359544025, 0.7238587359544025, 0.7238587359544025, 0.7238587359544025, 0.7238587359544025, 0.7238587359544025, 0.7238587359544025, 0.7238587359544025, 0.7238587359544025, 0.748534418934728, 0.748534418934728, 0.748534418934728]}], \"weighted_accuracy\": [{\"categories\": [\"0\", \"1\", \"6\", \"13\", \"17\", \"20\", \"23\", \"24\", \"26\", \"27\", \"28\", \"29\", \"30\", \"31\", \"33\", \"34\", \"39\"], \"mode\": \"markers\", \"name\": \"weighted_accuracy\", \"stepped\": false, \"type\": \"scatter\", \"data\": [0.7719082672974661, 0.7786112152429727, 0.7576230720396246, 0.6890987341460122, 0.8080906061033553, 0.7516922154317909, 0.8055427754007946, 0.7280661272144126, 0.7978485382348589, 0.7643015112902003, 0.8110905621016101, 0.7960643436152672, 0.7813314784052209, 0.8116078822125982, 0.748193205763723, 0.7436813914892795, 0.8267304146031715]}, {\"categories\": [\"0\", \"1\", \"6\", \"13\", \"17\", \"20\", \"23\", \"24\", \"26\", \"27\", \"28\", \"29\", \"30\", \"31\", \"33\", \"34\", \"39\"], \"mode\": \"lines\", \"name\": \"weighted_accuracy_max\", \"stepped\": true, \"type\": \"scatter\", \"data\": [0.7719082672974661, 0.7786112152429727, 0.7786112152429727, 0.7786112152429727, 0.8080906061033553, 0.8080906061033553, 0.8080906061033553, 0.8080906061033553, 0.8080906061033553, 0.8080906061033553, 0.8110905621016101, 0.8110905621016101, 0.8110905621016101, 0.8116078822125982, 0.8116078822125982, 0.8116078822125982, 0.8267304146031715]}], \"precision_score_macro\": [{\"categories\": [\"0\", \"1\", \"6\", \"13\", \"17\", \"20\", \"23\", \"24\", \"26\", \"27\", \"28\", \"29\", \"30\", \"31\", \"33\", \"34\", \"39\"], \"mode\": \"markers\", \"name\": \"precision_score_macro\", \"stepped\": false, \"type\": \"scatter\", \"data\": [0.7180716346835705, 0.7277478448750553, 0.6967302947992207, 0.6661308349000944, 0.7496752110307286, 0.714590795816157, 0.7487930726847549, 0.6590845175601868, 0.7587045552030061, 0.6921145954837478, 0.7593435226000619, 0.7351314540479011, 0.7210024779074267, 0.7525203894304735, 0.7310246010016929, 0.7227909774016013, 0.7738751806101362]}, {\"categories\": [\"0\", \"1\", \"6\", \"13\", \"17\", \"20\", \"23\", \"24\", \"26\", \"27\", \"28\", \"29\", \"30\", \"31\", \"33\", \"34\", \"39\"], \"mode\": \"lines\", \"name\": \"precision_score_macro_max\", \"stepped\": true, \"type\": \"scatter\", \"data\": [0.7180716346835705, 0.7277478448750553, 0.7277478448750553, 0.7277478448750553, 0.7496752110307286, 0.7496752110307286, 0.7496752110307286, 0.7496752110307286, 0.7587045552030061, 0.7587045552030061, 0.7593435226000619, 0.7593435226000619, 0.7593435226000619, 0.7593435226000619, 0.7593435226000619, 0.7593435226000619, 0.7738751806101362]}], \"f1_score_macro\": [{\"categories\": [\"0\", \"1\", \"6\", \"13\", \"17\", \"20\", \"23\", \"24\", \"26\", \"27\", \"28\", \"29\", \"30\", \"31\", \"33\", \"34\", \"39\"], \"mode\": \"markers\", \"name\": \"f1_score_macro\", \"stepped\": false, \"type\": \"scatter\", \"data\": [0.7105081062261361, 0.7220109129447692, 0.6869481892396206, 0.6661315465895787, 0.6776979540432749, 0.7158862784272291, 0.7269881458326962, 0.6499654928903313, 0.5717913678324722, 0.6554274777231268, 0.6646739733188324, 0.7139454936917101, 0.7032017966110599, 0.7003493178998479, 0.7322810452284679, 0.7221635723524933, 0.727397350303946]}, {\"categories\": [\"0\", \"1\", \"6\", \"13\", \"17\", \"20\", \"23\", \"24\", \"26\", \"27\", \"28\", \"29\", \"30\", \"31\", \"33\", \"34\", \"39\"], \"mode\": \"lines\", \"name\": \"f1_score_macro_max\", \"stepped\": true, \"type\": \"scatter\", \"data\": [0.7105081062261361, 0.7220109129447692, 0.7220109129447692, 0.7220109129447692, 0.7220109129447692, 0.7220109129447692, 0.7269881458326962, 0.7269881458326962, 0.7269881458326962, 0.7269881458326962, 0.7269881458326962, 0.7269881458326962, 0.7269881458326962, 0.7269881458326962, 0.7322810452284679, 0.7322810452284679, 0.7322810452284679]}], \"recall_score_weighted\": [{\"categories\": [\"0\", \"1\", \"6\", \"13\", \"17\", \"20\", \"23\", \"24\", \"26\", \"27\", \"28\", \"29\", \"30\", \"31\", \"33\", \"34\", \"39\"], \"mode\": \"markers\", \"name\": \"recall_score_weighted\", \"stepped\": false, \"type\": \"scatter\", \"data\": [0.7447881066302119, 0.7538619275461381, 0.7264695830485304, 0.6861927546138074, 0.7474025974025974, 0.7396445659603554, 0.7683014354066987, 0.6940704032809297, 0.708356117566644, 0.7148496240601504, 0.744771018455229, 0.7578605604921395, 0.7448393711551606, 0.7591592617908407, 0.7487525632262475, 0.7409432672590567, 0.778691045796309]}, {\"categories\": [\"0\", \"1\", \"6\", \"13\", \"17\", \"20\", \"23\", \"24\", \"26\", \"27\", \"28\", \"29\", \"30\", \"31\", \"33\", \"34\", \"39\"], \"mode\": \"lines\", \"name\": \"recall_score_weighted_max\", \"stepped\": true, \"type\": \"scatter\", \"data\": [0.7447881066302119, 0.7538619275461381, 0.7538619275461381, 0.7538619275461381, 0.7538619275461381, 0.7538619275461381, 0.7683014354066987, 0.7683014354066987, 0.7683014354066987, 0.7683014354066987, 0.7683014354066987, 0.7683014354066987, 0.7683014354066987, 0.7683014354066987, 0.7683014354066987, 0.7683014354066987, 0.778691045796309]}], \"average_precision_score_macro\": [{\"categories\": [\"0\", \"1\", \"6\", \"13\", \"17\", \"20\", \"23\", \"24\", \"26\", \"27\", \"28\", \"29\", \"30\", \"31\", \"33\", \"34\", \"39\"], \"mode\": \"markers\", \"name\": \"average_precision_score_macro\", \"stepped\": false, \"type\": \"scatter\", \"data\": [0.7829999952481309, 0.7855364676756512, 0.770578498738454, 0.7493526637473712, 0.7977093227440156, 0.777312839685868, 0.8055401659892173, 0.7168938665759166, 0.8145385658651255, 0.7255511232512433, 0.8050314999650231, 0.8154445916402159, 0.786486547940963, 0.8135932034522494, 0.8049254757389361, 0.8157114777346528, 0.8203481423113379]}, {\"categories\": [\"0\", \"1\", \"6\", \"13\", \"17\", \"20\", \"23\", \"24\", \"26\", \"27\", \"28\", \"29\", \"30\", \"31\", \"33\", \"34\", \"39\"], \"mode\": \"lines\", \"name\": \"average_precision_score_macro_max\", \"stepped\": true, \"type\": \"scatter\", \"data\": [0.7829999952481309, 0.7855364676756512, 0.7855364676756512, 0.7855364676756512, 0.7977093227440156, 0.7977093227440156, 0.8055401659892173, 0.8055401659892173, 0.8145385658651255, 0.8145385658651255, 0.8145385658651255, 0.8154445916402159, 0.8154445916402159, 0.8154445916402159, 0.8154445916402159, 0.8157114777346528, 0.8203481423113379]}], \"log_loss\": [{\"categories\": [\"0\", \"1\", \"6\", \"13\", \"17\", \"20\", \"23\", \"24\", \"26\", \"27\", \"28\", \"29\", \"30\", \"31\", \"33\", \"34\", \"39\"], \"mode\": \"markers\", \"name\": \"log_loss\", \"stepped\": false, \"type\": \"scatter\", \"data\": [0.6340503757809469, 0.70088860141222, 0.5357687054627771, 0.5927053412987257, 0.5198180707695407, 0.5252014701646035, 0.4899966180596561, 0.8980353123078532, 0.5569699128106973, 0.5599416099476834, 0.5307776186857962, 0.48066142126090544, 0.5025016297545714, 0.502290772912825, 0.5800213323008256, 0.5140144606296044, 0.49932629309982995]}, {\"categories\": [\"0\", \"1\", \"6\", \"13\", \"17\", \"20\", \"23\", \"24\", \"26\", \"27\", \"28\", \"29\", \"30\", \"31\", \"33\", \"34\", \"39\"], \"mode\": \"lines\", \"name\": \"log_loss_min\", \"stepped\": true, \"type\": \"scatter\", \"data\": [0.6340503757809469, 0.6340503757809469, 0.5357687054627771, 0.5357687054627771, 0.5198180707695407, 0.5198180707695407, 0.4899966180596561, 0.4899966180596561, 0.4899966180596561, 0.4899966180596561, 0.4899966180596561, 0.48066142126090544, 0.48066142126090544, 0.48066142126090544, 0.48066142126090544, 0.48066142126090544, 0.48066142126090544]}], \"recall_score_macro\": [{\"categories\": [\"0\", \"1\", \"6\", \"13\", \"17\", \"20\", \"23\", \"24\", \"26\", \"27\", \"28\", \"29\", \"30\", \"31\", \"33\", \"34\", \"39\"], \"mode\": \"markers\", \"name\": \"recall_score_macro\", \"stepped\": false, \"type\": \"scatter\", \"data\": [0.708859061088764, 0.7207806220020987, 0.6859874610274201, 0.6806104595004709, 0.669132583632932, 0.7238587359544025, 0.719521237741496, 0.6492104847148521, 0.5942182242919417, 0.6515377132893023, 0.6587290786287824, 0.7070538406611028, 0.6971911694573129, 0.6911927538504942, 0.748534418934728, 0.7364688087127021, 0.7152687755324182]}, {\"categories\": [\"0\", \"1\", \"6\", \"13\", \"17\", \"20\", \"23\", \"24\", \"26\", \"27\", \"28\", \"29\", \"30\", \"31\", \"33\", \"34\", \"39\"], \"mode\": \"lines\", \"name\": \"recall_score_macro_max\", \"stepped\": true, \"type\": \"scatter\", \"data\": [0.708859061088764, 0.7207806220020987, 0.7207806220020987, 0.7207806220020987, 0.7207806220020987, 0.7238587359544025, 0.7238587359544025, 0.7238587359544025, 0.7238587359544025, 0.7238587359544025, 0.7238587359544025, 0.7238587359544025, 0.7238587359544025, 0.7238587359544025, 0.748534418934728, 0.748534418934728, 0.748534418934728]}], \"precision_score_micro\": [{\"categories\": [\"0\", \"1\", \"6\", \"13\", \"17\", \"20\", \"23\", \"24\", \"26\", \"27\", \"28\", \"29\", \"30\", \"31\", \"33\", \"34\", \"39\"], \"mode\": \"markers\", \"name\": \"precision_score_micro\", \"stepped\": false, \"type\": \"scatter\", \"data\": [0.7447881066302119, 0.7538619275461381, 0.7264695830485304, 0.6861927546138074, 0.7474025974025974, 0.7396445659603554, 0.7683014354066987, 0.6940704032809297, 0.708356117566644, 0.7148496240601504, 0.744771018455229, 0.7578605604921395, 0.7448393711551606, 0.7591592617908407, 0.7487525632262475, 0.7409432672590567, 0.778691045796309]}, {\"categories\": [\"0\", \"1\", \"6\", \"13\", \"17\", \"20\", \"23\", \"24\", \"26\", \"27\", \"28\", \"29\", \"30\", \"31\", \"33\", \"34\", \"39\"], \"mode\": \"lines\", \"name\": \"precision_score_micro_max\", \"stepped\": true, \"type\": \"scatter\", \"data\": [0.7447881066302119, 0.7538619275461381, 0.7538619275461381, 0.7538619275461381, 0.7538619275461381, 0.7538619275461381, 0.7683014354066987, 0.7683014354066987, 0.7683014354066987, 0.7683014354066987, 0.7683014354066987, 0.7683014354066987, 0.7683014354066987, 0.7683014354066987, 0.7683014354066987, 0.7683014354066987, 0.778691045796309]}]}, \"metricName\": null, \"primaryMetricName\": \"accuracy\", \"showLegend\": false}, \"run_metrics\": [{\"name\": \"experiment_status\", \"run_id\": \"AutoML_d8b32f9a-7233-4396-a964-ee5c0498a578\", \"categories\": [0, 1, 2, 3, 4, 5, 6, 7, 8, 9, 10, 11, 12, 13], \"series\": [{\"data\": [\"DatasetEvaluation\", \"FeaturesGeneration\", \"DatasetFeaturization\", \"DatasetFeaturizationCompleted\", \"DatasetCrossValidationSplit\", \"ModelSelection\", \"BestRunExplainModel\", \"ModelExplanationDataSetSetup\", \"PickSurrogateModel\", \"EngineeredFeatureExplanations\", \"EngineeredFeatureExplanations\", \"RawFeaturesExplanations\", \"RawFeaturesExplanations\", \"BestRunExplainModel\"]}]}, {\"name\": \"experiment_status_description\", \"run_id\": \"AutoML_d8b32f9a-7233-4396-a964-ee5c0498a578\", \"categories\": [0, 1, 2, 3, 4, 5, 6, 7, 8, 9, 10, 11, 12, 13], \"series\": [{\"data\": [\"Gathering dataset statistics.\", \"Generating features for the dataset.\", \"Beginning to fit featurizers and featurize the dataset.\", \"Completed fit featurizers and featurizing the dataset.\", \"Generating individually featurized CV splits.\", \"Beginning model selection.\", \"Best run model explanations started\", \"Model explanations data setup completed\", \"Choosing LightGBM as the surrogate model for explanations\", \"Computation of engineered features started\", \"Computation of engineered features completed\", \"Computation of raw features started\", \"Computation of raw features completed\", \"Best run model explanations completed\"]}]}, {\"name\": \"precision_score_weighted\", \"run_id\": \"AutoML_d8b32f9a-7233-4396-a964-ee5c0498a578\", \"categories\": [0], \"series\": [{\"data\": [0.7890581609626113]}]}, {\"name\": \"AUC_micro\", \"run_id\": \"AutoML_d8b32f9a-7233-4396-a964-ee5c0498a578\", \"categories\": [0], \"series\": [{\"data\": [0.8515311203348581]}]}, {\"name\": \"f1_score_micro\", \"run_id\": \"AutoML_d8b32f9a-7233-4396-a964-ee5c0498a578\", \"categories\": [0], \"series\": [{\"data\": [0.7878332194121669]}]}, {\"name\": \"log_loss\", \"run_id\": \"AutoML_d8b32f9a-7233-4396-a964-ee5c0498a578\", \"categories\": [0], \"series\": [{\"data\": [0.5336158183317737]}]}, {\"name\": \"average_precision_score_weighted\", \"run_id\": \"AutoML_d8b32f9a-7233-4396-a964-ee5c0498a578\", \"categories\": [0], \"series\": [{\"data\": [0.8475693456324629]}]}, {\"name\": \"precision_score_micro\", \"run_id\": \"AutoML_d8b32f9a-7233-4396-a964-ee5c0498a578\", \"categories\": [0], \"series\": [{\"data\": [0.7878332194121669]}]}, {\"name\": \"accuracy\", \"run_id\": \"AutoML_d8b32f9a-7233-4396-a964-ee5c0498a578\", \"categories\": [0], \"series\": [{\"data\": [0.7878332194121669]}]}, {\"name\": \"recall_score_macro\", \"run_id\": \"AutoML_d8b32f9a-7233-4396-a964-ee5c0498a578\", \"categories\": [0], \"series\": [{\"data\": [0.7292674124207005]}]}, {\"name\": \"norm_macro_recall\", \"run_id\": \"AutoML_d8b32f9a-7233-4396-a964-ee5c0498a578\", \"categories\": [0], \"series\": [{\"data\": [0.4585348248414009]}]}, {\"name\": \"balanced_accuracy\", \"run_id\": \"AutoML_d8b32f9a-7233-4396-a964-ee5c0498a578\", \"categories\": [0], \"series\": [{\"data\": [0.7292674124207005]}]}, {\"name\": \"f1_score_macro\", \"run_id\": \"AutoML_d8b32f9a-7233-4396-a964-ee5c0498a578\", \"categories\": [0], \"series\": [{\"data\": [0.7416409195606126]}]}, {\"name\": \"recall_score_micro\", \"run_id\": \"AutoML_d8b32f9a-7233-4396-a964-ee5c0498a578\", \"categories\": [0], \"series\": [{\"data\": [0.7878332194121669]}]}, {\"name\": \"f1_score_weighted\", \"run_id\": \"AutoML_d8b32f9a-7233-4396-a964-ee5c0498a578\", \"categories\": [0], \"series\": [{\"data\": [0.7774828718413341]}]}, {\"name\": \"recall_score_weighted\", \"run_id\": \"AutoML_d8b32f9a-7233-4396-a964-ee5c0498a578\", \"categories\": [0], \"series\": [{\"data\": [0.7878332194121669]}]}, {\"name\": \"precision_score_macro\", \"run_id\": \"AutoML_d8b32f9a-7233-4396-a964-ee5c0498a578\", \"categories\": [0], \"series\": [{\"data\": [0.7811264606801611]}]}, {\"name\": \"weighted_accuracy\", \"run_id\": \"AutoML_d8b32f9a-7233-4396-a964-ee5c0498a578\", \"categories\": [0], \"series\": [{\"data\": [0.8320181856303973]}]}, {\"name\": \"average_precision_score_macro\", \"run_id\": \"AutoML_d8b32f9a-7233-4396-a964-ee5c0498a578\", \"categories\": [0], \"series\": [{\"data\": [0.8186256329865644]}]}, {\"name\": \"AUC_macro\", \"run_id\": \"AutoML_d8b32f9a-7233-4396-a964-ee5c0498a578\", \"categories\": [0], \"series\": [{\"data\": [0.8327404028284511]}]}, {\"name\": \"AUC_weighted\", \"run_id\": \"AutoML_d8b32f9a-7233-4396-a964-ee5c0498a578\", \"categories\": [0], \"series\": [{\"data\": [0.8327404028284511]}]}, {\"name\": \"matthews_correlation\", \"run_id\": \"AutoML_d8b32f9a-7233-4396-a964-ee5c0498a578\", \"categories\": [0], \"series\": [{\"data\": [0.5072079779633369]}]}, {\"name\": \"average_precision_score_micro\", \"run_id\": \"AutoML_d8b32f9a-7233-4396-a964-ee5c0498a578\", \"categories\": [0], \"series\": [{\"data\": [0.8533493638568531]}]}], \"run_logs\": \"\\nRun is completed.\", \"graph\": {}, \"widget_settings\": {\"childWidgetDisplay\": \"popup\", \"send_telemetry\": false, \"log_level\": \"INFO\", \"sdk_version\": \"1.49.0\"}, \"loading\": false}"
     },
     "metadata": {},
     "output_type": "display_data"
    }
   ],
   "source": [
    "from azureml.widgets import RunDetails\n",
    "RunDetails(remote_run).show()"
   ]
  },
  {
   "cell_type": "markdown",
   "metadata": {},
   "source": [
    "## Best Model\n",
    "\n",
    "TODO: In the cell below, get the best model from the automl experiments and display all the properties of the model.\n",
    "\n"
   ]
  },
  {
   "cell_type": "code",
   "execution_count": 13,
   "metadata": {
    "collapsed": false,
    "gather": {
     "logged": 1598431425670
    },
    "jupyter": {
     "outputs_hidden": false,
     "source_hidden": false
    },
    "nteract": {
     "transient": {
      "deleting": false
     }
    }
   },
   "outputs": [
    {
     "name": "stderr",
     "output_type": "stream",
     "text": [
      "WARNING:root:The version of the SDK does not match the version the model was trained on.\n",
      "WARNING:root:The consistency in the result may not be guaranteed.\n",
      "WARNING:root:Package:azureml-automl-core, training version:1.50.0, current version:1.49.0\n",
      "Package:azureml-automl-runtime, training version:1.50.0, current version:1.49.0\n",
      "Package:azureml-core, training version:1.50.0, current version:1.49.0\n",
      "Package:azureml-dataprep, training version:4.10.6, current version:4.9.1\n",
      "Package:azureml-dataprep-rslex, training version:2.17.5, current version:2.16.1\n",
      "Package:azureml-dataset-runtime, training version:1.50.0, current version:1.49.0\n",
      "Package:azureml-defaults, training version:1.50.0, current version:1.49.0\n",
      "Package:azureml-interpret, training version:1.50.0, current version:1.49.0\n",
      "Package:azureml-mlflow, training version:1.50.0, current version:1.49.0\n",
      "Package:azureml-pipeline-core, training version:1.50.0.post1, current version:1.49.0\n",
      "Package:azureml-responsibleai, training version:1.50.0, current version:1.49.0\n",
      "Package:azureml-telemetry, training version:1.50.0, current version:1.49.0\n",
      "Package:azureml-train-automl-client, training version:1.50.0, current version:1.49.0\n",
      "Package:azureml-train-automl-runtime, training version:1.50.0, current version:1.49.0\n",
      "Package:azureml-train-core, training version:1.50.0, current version:1.49.0\n",
      "Package:azureml-train-restclients-hyperdrive, training version:1.50.0, current version:1.49.0\n",
      "Package:azureml-training-tabular, training version:1.50.0, current version:1.49.0\n",
      "WARNING:root:Please ensure the version of your local conda dependencies match the version on which your model was trained in order to properly retrieve your model.\n"
     ]
    },
    {
     "name": "stdout",
     "output_type": "stream",
     "text": [
      "Run(Experiment: diabetes-automl,\n",
      "Id: AutoML_d8b32f9a-7233-4396-a964-ee5c0498a578_38,\n",
      "Type: azureml.scriptrun,\n",
      "Status: Completed)\n",
      "Pipeline(memory=None,\n",
      "         steps=[('datatransformer',\n",
      "                 DataTransformer(enable_dnn=False, enable_feature_sweeping=True, feature_sweeping_config={}, feature_sweeping_timeout=86400, featurization_config=None, force_text_dnn=False, is_cross_validation=True, is_onnx_compatible=False, observer=None, task='classification', working_dir='/mnt/batch/tasks/shared/LS_root/mount...\n",
      "                 PreFittedSoftVotingClassifier(classification_labels=array([0, 1]), estimators=[('14', Pipeline(memory=None, steps=[('standardscalerwrapper', StandardScalerWrapper(copy=True, with_mean=False, with_std=False)), ('xgboostclassifier', XGBoostClassifier(booster='gbtree', colsample_bytree=1, eta=0.3, gamma=0, max_depth=10, max_leaves=511, n_estimators=10, n_jobs=1, objective='reg:logistic', problem_info=ProblemInfo(gpu_training_param_dict={'processing_unit_type': 'cpu'}), random_state=0, reg_alpha=2.1875, reg_lambda=0.4166666666666667, subsample=0.5, tree_method='auto'))], verbose=False)), ('25', Pipeline(memory=None, steps=[('standardscalerwrapper', StandardScalerWrapper(copy=True, with_mean=False, with_std=False)), ('randomforestclassifier', RandomForestClassifier(bootstrap=False, ccp_alpha=0.0, class_weight=None, criterion='entropy', max_depth=None, max_features='log2', max_leaf_nodes=None, max_samples=None, min_impurity_decrease=0.0, min_impurity_split=None, min_samples_leaf=0.035789473684210524, min_samples_split=0.056842105263157895, min_weight_fraction_leaf=0.0, n_estimators=10, n_jobs=1, oob_score=False, random_state=None, verbose=0, warm_start=False))], verbose=False)), ('23', Pipeline(memory=None, steps=[('standardscalerwrapper', StandardScalerWrapper(copy=True, with_mean=False, with_std=True)), ('logisticregression', LogisticRegression(C=24.420530945486497, class_weight=None, dual=False, fit_intercept=True, intercept_scaling=1, l1_ratio=None, max_iter=100, multi_class='multinomial', n_jobs=1, penalty='l2', random_state=None, solver='lbfgs', tol=0.0001, verbose=0, warm_start=False))], verbose=False)), ('12', Pipeline(memory=None, steps=[('maxabsscaler', MaxAbsScaler(copy=True)), ('logisticregression', LogisticRegression(C=719.6856730011514, class_weight=None, dual=False, fit_intercept=True, intercept_scaling=1, l1_ratio=None, max_iter=100, multi_class='multinomial', n_jobs=1, penalty='l2', random_state=None, solver='lbfgs', tol=0.0001, verbose=0, warm_start=False))], verbose=False)), ('7', Pipeline(memory=None, steps=[('maxabsscaler', MaxAbsScaler(copy=True)), ('logisticregression', LogisticRegression(C=1.7575106248547894, class_weight=None, dual=False, fit_intercept=True, intercept_scaling=1, l1_ratio=None, max_iter=100, multi_class='multinomial', n_jobs=1, penalty='l2', random_state=None, solver='lbfgs', tol=0.0001, verbose=0, warm_start=False))], verbose=False)), ('10', Pipeline(memory=None, steps=[('sparsenormalizer', Normalizer(copy=True, norm='l1')), ('lightgbmclassifier', LightGBMClassifier(boosting_type='gbdt', colsample_bytree=0.8911111111111111, learning_rate=0.0842121052631579, max_bin=290, max_depth=3, min_child_weight=6, min_data_in_leaf=0.024145517241379314, min_split_gain=0.7368421052631579, n_estimators=25, n_jobs=1, num_leaves=137, problem_info=ProblemInfo(gpu_training_param_dict={'processing_unit_type': 'cpu'}), random_state=None, reg_alpha=0.15789473684210525, reg_lambda=0, subsample=0.29736842105263156))], verbose=False)), ('31', Pipeline(memory=None, steps=[('standardscalerwrapper', StandardScalerWrapper(copy=True, with_mean=False, with_std=False)), ('extratreesclassifier', ExtraTreesClassifier(bootstrap=True, ccp_alpha=0.0, class_weight=None, criterion='entropy', max_depth=None, max_features=None, max_leaf_nodes=None, max_samples=None, min_impurity_decrease=0.0, min_impurity_split=None, min_samples_leaf=0.035789473684210524, min_samples_split=0.15052631578947367, min_weight_fraction_leaf=0.0, n_estimators=200, n_jobs=1, oob_score=False, random_state=None, verbose=0, warm_start=False))], verbose=False)), ('3', Pipeline(memory=None, steps=[('sparsenormalizer', Normalizer(copy=True, norm='l2')), ('xgboostclassifier', XGBoostClassifier(booster='gbtree', colsample_bytree=0.7, eta=0.01, gamma=0.01, max_depth=7, max_leaves=31, n_estimators=10, n_jobs=1, objective='reg:logistic', problem_info=ProblemInfo(gpu_training_param_dict={'processing_unit_type': 'cpu'}), random_state=0, reg_alpha=2.1875, reg_lambda=1.0416666666666667, subsample=1, tree_method='auto'))], verbose=False))], flatten_transform=None, weights=[0.09090909090909091, 0.09090909090909091, 0.09090909090909091, 0.09090909090909091, 0.09090909090909091, 0.09090909090909091, 0.09090909090909091, 0.36363636363636365]))],\n",
      "         verbose=False)\n"
     ]
    }
   ],
   "source": [
    "auto_job, best_auto_model = remote_run.get_output()\n",
    "print(auto_job)\n",
    "print(best_auto_model)"
   ]
  },
  {
   "cell_type": "code",
   "execution_count": 14,
   "metadata": {
    "collapsed": false,
    "gather": {
     "logged": 1598431426111
    },
    "jupyter": {
     "outputs_hidden": false,
     "source_hidden": false
    },
    "nteract": {
     "transient": {
      "deleting": false
     }
    }
   },
   "outputs": [
    {
     "data": {
      "text/plain": [
       "['auto_model.joblib']"
      ]
     },
     "execution_count": 14,
     "metadata": {},
     "output_type": "execute_result"
    }
   ],
   "source": [
    "import joblib\n",
    "\n",
    "# Save the best model\n",
    "joblib.dump(value=best_auto_model, filename='auto_model.joblib')"
   ]
  },
  {
   "cell_type": "markdown",
   "metadata": {},
   "source": [
    "## Model Deployment\n",
    "\n",
    "Remember you have to deploy only one of the two models you trained but you still need to register both the models. Perform the steps in the rest of this notebook only if you wish to deploy this model.\n",
    "\n",
    "TODO: In the cell below, register the model, create an inference config and deploy the model as a web service."
   ]
  },
  {
   "cell_type": "code",
   "execution_count": 16,
   "metadata": {
    "collapsed": false,
    "gather": {
     "logged": 1598431435189
    },
    "jupyter": {
     "outputs_hidden": false,
     "source_hidden": false
    },
    "nteract": {
     "transient": {
      "deleting": false
     }
    }
   },
   "outputs": [],
   "source": [
    "model = auto_job.register_model(model_name='best-automl-model',\n",
    "                                      model_path='outputs/model.pkl',\n",
    "                                      description='Best model from AutoML for diabetes')"
   ]
  },
  {
   "cell_type": "markdown",
   "metadata": {
    "gather": {
     "logged": 1598431657736
    },
    "jupyter": {
     "outputs_hidden": false,
     "source_hidden": false
    },
    "nteract": {
     "transient": {
      "deleting": false
     }
    }
   },
   "source": [
    "TODO: In the cell below, send a request to the web service you deployed to test it."
   ]
  },
  {
   "cell_type": "code",
   "execution_count": 17,
   "metadata": {
    "collapsed": false,
    "gather": {
     "logged": 1598432707604
    },
    "jupyter": {
     "outputs_hidden": false,
     "source_hidden": false
    },
    "nteract": {
     "transient": {
      "deleting": false
     }
    }
   },
   "outputs": [
    {
     "name": "stdout",
     "output_type": "stream",
     "text": [
      "Tips: You can try get_logs(): https://aka.ms/debugimage#dockerlog or local deployment: https://aka.ms/debugimage#debug-locally to debug if deployment takes longer than 10 minutes.\n",
      "Running\n",
      "2023-05-10 18:21:30+00:00 Creating Container Registry if not exists..\n",
      "2023-05-10 18:31:31+00:00 Registering the environment..\n",
      "2023-05-10 18:31:32+00:00 Building image..\n",
      "2023-05-10 18:51:48+00:00 Generating deployment configuration.\n",
      "2023-05-10 18:51:49+00:00 Submitting deployment to compute..\n",
      "2023-05-10 18:51:54+00:00 Checking the status of deployment auto-diabetes..\n",
      "2023-05-10 18:53:57+00:00 Checking the status of inference endpoint auto-diabetes.\n",
      "Succeeded\n",
      "ACI service creation operation finished, operation \"Succeeded\"\n"
     ]
    }
   ],
   "source": [
    "auto_job.download_files(output_directory='automl_output')\n",
    "\n",
    "env = Environment.from_conda_specification('automl-env', './automl_output/outputs/conda_env_v_1_0_0.yml')\n",
    "\n",
    "inference = InferenceConfig(environment=env, entry_script='./automl_output/outputs/scoring_file_v_1_0_0.py')\n",
    "\n",
    "deployment = AciWebservice.deploy_configuration(cpu_cores=1,\n",
    "                                                       memory_gb=1,\n",
    "                                                       enable_app_insights=True)\n",
    "\n",
    "deployment_name = 'auto-diabetes'\n",
    "service = Model.deploy(workspace=ws,\n",
    "                       name=deployment_name,\n",
    "                       models=[model],\n",
    "                       inference_config=inference,\n",
    "                       deployment_config=deployment,\n",
    "                       overwrite=True)\n",
    "service.wait_for_deployment(show_output=True)"
   ]
  },
  {
   "cell_type": "markdown",
   "metadata": {
    "gather": {
     "logged": 1598432765711
    },
    "jupyter": {
     "outputs_hidden": false,
     "source_hidden": false
    },
    "nteract": {
     "transient": {
      "deleting": false
     }
    }
   },
   "source": [
    "TODO: In the cell below, print the logs of the web service and delete the service"
   ]
  },
  {
   "cell_type": "code",
   "execution_count": 19,
   "metadata": {
    "collapsed": false,
    "jupyter": {
     "outputs_hidden": false,
     "source_hidden": false
    },
    "nteract": {
     "transient": {
      "deleting": false
     }
    }
   },
   "outputs": [
    {
     "data": {
      "text/plain": [
       "b'\"{\\\\\"result\\\\\": [0]}\"'"
      ]
     },
     "execution_count": 19,
     "metadata": {},
     "output_type": "execute_result"
    }
   ],
   "source": [
    "rest_endpoint = service.scoring_uri\n",
    "headers = {'Content-type': 'application/json'}\n",
    "response = requests.post(rest_endpoint,\n",
    "                         headers=headers,\n",
    "                         json={\n",
    "  \"data\": [\n",
    "    {\n",
    "      \"Pregnancies\": 4,\n",
    "      \"Glucose\": 121,\n",
    "      \"BloodPressure\": 70,\n",
    "      \"SkinThickness\": 21,\n",
    "      \"Insulin\": 80,\n",
    "      \"BMI\": 32.0,\n",
    "      \"DiabetesPedigreeFunction\": 0.47,\n",
    "      \"Age\": 33\n",
    "    }\n",
    "  ]\n",
    "}\n",
    "                        )\n",
    "response.content\n"
   ]
  },
  {
   "cell_type": "code",
   "execution_count": 22,
   "metadata": {},
   "outputs": [
    {
     "name": "stdout",
     "output_type": "stream",
     "text": [
      "b'\"{\\\\\"result\\\\\": [0]}\"'\n"
     ]
    }
   ],
   "source": [
    "import urllib.request\n",
    "import json\n",
    "import os\n",
    "import ssl\n",
    "\n",
    "def allowSelfSignedHttps(allowed):\n",
    "    # bypass the server certificate verification on client side\n",
    "    if allowed and not os.environ.get('PYTHONHTTPSVERIFY', '') and getattr(ssl, '_create_unverified_context', None):\n",
    "        ssl._create_default_https_context = ssl._create_unverified_context\n",
    "\n",
    "allowSelfSignedHttps(True) # this line is needed if you use self-signed certificate in your scoring service.\n",
    "\n",
    "data =  {\n",
    "  \"data\": [\n",
    "    {\n",
    "      \"Pregnancies\": 4,\n",
    "      \"Glucose\": 121,\n",
    "      \"BloodPressure\": 70,\n",
    "      \"SkinThickness\": 21,\n",
    "      \"Insulin\": 80,\n",
    "      \"BMI\": 32.0,\n",
    "      \"DiabetesPedigreeFunction\": 0.47,\n",
    "      \"Age\": 33\n",
    "    }\n",
    "  ],\n",
    "  \"method\": \"predict\"\n",
    "}\n",
    "\n",
    "body = str.encode(json.dumps(data))\n",
    "\n",
    "url = 'http://01b8aaff-c40d-4b46-adb9-c1d426f1367b.westus2.azurecontainer.io/score'\n",
    "\n",
    "\n",
    "headers = {'Content-Type':'application/json'}\n",
    "\n",
    "req = urllib.request.Request(url, body, headers)\n",
    "\n",
    "try:\n",
    "    response = urllib.request.urlopen(req)\n",
    "\n",
    "    result = response.read()\n",
    "    print(result)\n",
    "except urllib.error.HTTPError as error:\n",
    "    print(\"The request failed with status code: \" + str(error.code))\n",
    "\n",
    "    # Print the headers - they include the requert ID and the timestamp, which are useful for debugging the failure\n",
    "    print(error.info())\n",
    "    print(error.read().decode(\"utf8\", 'ignore'))"
   ]
  },
  {
   "cell_type": "code",
   "execution_count": 21,
   "metadata": {},
   "outputs": [
    {
     "name": "stdout",
     "output_type": "stream",
     "text": [
      "/bin/bash: /azureml-envs/azureml_399903ab218c6bc60c3ac2efb6ffbdcd/lib/libtinfo.so.6: no version information available (required by /bin/bash)\n",
      "/bin/bash: /azureml-envs/azureml_399903ab218c6bc60c3ac2efb6ffbdcd/lib/libtinfo.so.6: no version information available (required by /bin/bash)\n",
      "/bin/bash: /azureml-envs/azureml_399903ab218c6bc60c3ac2efb6ffbdcd/lib/libtinfo.so.6: no version information available (required by /bin/bash)\n",
      "/bin/bash: /azureml-envs/azureml_399903ab218c6bc60c3ac2efb6ffbdcd/lib/libtinfo.so.6: no version information available (required by /bin/bash)\n",
      "2023-05-10T18:53:37,780608600+00:00 - iot-server/run \n",
      "2023-05-10T18:53:37,781116200+00:00 - rsyslog/run \n",
      "2023-05-10T18:53:37,788882800+00:00 - gunicorn/run \n",
      "2023-05-10T18:53:37,790244000+00:00 | gunicorn/run | \n",
      "2023-05-10T18:53:37,797163200+00:00 | gunicorn/run | ###############################################\n",
      "2023-05-10T18:53:37,799422700+00:00 | gunicorn/run | AzureML Container Runtime Information\n",
      "2023-05-10T18:53:37,806076600+00:00 | gunicorn/run | ###############################################\n",
      "2023-05-10T18:53:37,807905400+00:00 | gunicorn/run | \n",
      "2023-05-10T18:53:37,809618500+00:00 | gunicorn/run | \n",
      "bash: /azureml-envs/azureml_399903ab218c6bc60c3ac2efb6ffbdcd/lib/libtinfo.so.6: no version information available (required by bash)\n",
      "2023-05-10T18:53:37,842540200+00:00 | gunicorn/run | AzureML image information: openmpi4.1.0-ubuntu20.04, Materializaton Build:20230120.v2\n",
      "2023-05-10T18:53:37,845163000+00:00 - nginx/run \n",
      "2023-05-10T18:53:37,853913300+00:00 | gunicorn/run | \n",
      "2023-05-10T18:53:37,855539900+00:00 | gunicorn/run | \n",
      "2023-05-10T18:53:37,856973400+00:00 | gunicorn/run | PATH environment variable: /azureml-envs/azureml_399903ab218c6bc60c3ac2efb6ffbdcd/bin:/opt/miniconda/bin:/usr/local/sbin:/usr/local/bin:/usr/sbin:/usr/bin:/sbin:/bin\n",
      "2023-05-10T18:53:37,862037400+00:00 | gunicorn/run | PYTHONPATH environment variable: \n",
      "2023-05-10T18:53:37,863830900+00:00 | gunicorn/run | \n",
      "2023-05-10T18:53:37,870568100+00:00 | gunicorn/run | Pip Dependencies (before dynamic installation)\n",
      "\n",
      "EdgeHubConnectionString and IOTEDGE_IOTHUBHOSTNAME are not set. Exiting...\n",
      "/bin/bash: /azureml-envs/azureml_399903ab218c6bc60c3ac2efb6ffbdcd/lib/libtinfo.so.6: no version information available (required by /bin/bash)\n",
      "2023-05-10T18:53:38,485106800+00:00 - iot-server/finish 1 0\n",
      "2023-05-10T18:53:38,493016400+00:00 - Exit code 1 is normal. Not restarting iot-server.\n",
      "adal==1.2.7\n",
      "applicationinsights==0.11.10\n",
      "arch==5.3.1\n",
      "argcomplete==2.1.2\n",
      "arviz @ file:///tmp/build/80754af9/arviz_1614019183254/work\n",
      "attrs==23.1.0\n",
      "azure-common==1.1.28\n",
      "azure-core==1.26.4\n",
      "azure-graphrbac==0.61.1\n",
      "azure-identity==1.12.0\n",
      "azure-mgmt-authorization==3.0.0\n",
      "azure-mgmt-containerregistry==10.1.0\n",
      "azure-mgmt-core==1.4.0\n",
      "azure-mgmt-keyvault==10.2.1\n",
      "azure-mgmt-resource==22.0.0\n",
      "azure-mgmt-storage==21.0.0\n",
      "azure-storage-blob==12.13.0\n",
      "azure-storage-queue==12.6.0\n",
      "azureml-automl-core==1.50.0\n",
      "azureml-automl-runtime==1.50.0.post1\n",
      "azureml-core==1.50.0\n",
      "azureml-dataprep==4.10.7\n",
      "azureml-dataprep-native==38.0.0\n",
      "azureml-dataprep-rslex==2.17.9\n",
      "azureml-dataset-runtime==1.50.0\n",
      "azureml-defaults==1.50.0\n",
      "azureml-inference-server-http==0.8.4\n",
      "azureml-interpret==1.50.0\n",
      "azureml-mlflow==1.50.0\n",
      "azureml-telemetry==1.50.0\n",
      "azureml-train-automl-client==1.50.0\n",
      "azureml-train-automl-runtime==1.50.0\n",
      "azureml-train-core==1.50.0\n",
      "azureml-train-restclients-hyperdrive==1.50.0\n",
      "azureml-training-tabular==1.50.0.post1\n",
      "backports.tempfile==1.0\n",
      "backports.weakref==1.0.post1\n",
      "bcrypt==4.0.1\n",
      "bokeh==2.4.3\n",
      "boto==2.49.0\n",
      "boto3==1.20.19\n",
      "botocore==1.23.19\n",
      "cachetools==5.3.0\n",
      "certifi @ file:///croot/certifi_1671487769961/work/certifi\n",
      "cffi==1.15.1\n",
      "cftime @ file:///tmp/build/80754af9/cftime_1638357901230/work\n",
      "charset-normalizer==3.1.0\n",
      "click==8.1.3\n",
      "cloudpickle==2.2.1\n",
      "contextlib2==21.6.0\n",
      "contourpy @ file:///opt/conda/conda-bld/contourpy_1663827406301/work\n",
      "convertdate @ file:///tmp/build/80754af9/convertdate_1634070773133/work\n",
      "cryptography==40.0.2\n",
      "cycler @ file:///tmp/build/80754af9/cycler_1637851556182/work\n",
      "Cython==0.29.17\n",
      "dask==2023.2.0\n",
      "databricks-cli==0.17.7\n",
      "dataclasses==0.6\n",
      "dill==0.3.6\n",
      "distributed==2023.2.0\n",
      "distro==1.8.0\n",
      "docker==6.1.1\n",
      "dotnetcore2==3.1.23\n",
      "entrypoints==0.4\n",
      "ephem @ file:///tmp/build/80754af9/ephem_1638942191467/work\n",
      "fbprophet @ file:///home/conda/feedstock_root/build_artifacts/fbprophet_1599365532360/work\n",
      "fire==0.5.0\n",
      "Flask==2.2.5\n",
      "Flask-Cors==3.0.10\n",
      "flatbuffers==23.5.8\n",
      "flit_core @ file:///opt/conda/conda-bld/flit-core_1644941570762/work/source/flit_core\n",
      "fonttools==4.25.0\n",
      "fsspec==2023.5.0\n",
      "fusepy==3.0.1\n",
      "gensim==3.8.3\n",
      "gitdb==4.0.10\n",
      "GitPython==3.1.31\n",
      "google-api-core==2.11.0\n",
      "google-auth==2.18.0\n",
      "googleapis-common-protos==1.59.0\n",
      "gunicorn==20.1.0\n",
      "holidays @ file:///home/conda/feedstock_root/build_artifacts/holidays_1595448845196/work\n",
      "humanfriendly==10.0\n",
      "idna==3.4\n",
      "importlib-metadata==6.6.0\n",
      "importlib-resources==5.12.0\n",
      "inference-schema==1.5.1\n",
      "interpret-community==0.28.0\n",
      "interpret-core==0.2.7\n",
      "isodate==0.6.1\n",
      "itsdangerous==2.1.2\n",
      "jeepney==0.8.0\n",
      "Jinja2==3.1.2\n",
      "jmespath==0.10.0\n",
      "joblib==1.2.0\n",
      "jsonpickle==3.0.1\n",
      "jsonschema==4.17.3\n",
      "keras2onnx==1.6.0\n",
      "kiwisolver @ file:///croot/kiwisolver_1672387140495/work\n",
      "knack==0.10.1\n",
      "korean-lunar-calendar @ file:///tmp/build/80754af9/korean_lunar_calendar_1634063020401/work\n",
      "lightgbm==3.2.1\n",
      "llvmlite==0.38.1\n",
      "locket==1.0.0\n",
      "LunarCalendar @ file:///tmp/build/80754af9/lunarcalendar_1646383991234/work\n",
      "MarkupSafe==2.1.2\n",
      "matplotlib @ file:///croot/matplotlib-suite_1670466153205/work\n",
      "ml-wrappers==0.4.8\n",
      "mlflow-skinny==2.3.1\n",
      "msal==1.22.0\n",
      "msal-extensions==1.0.0\n",
      "msgpack==1.0.5\n",
      "msrest==0.7.1\n",
      "msrestazure==0.6.4\n",
      "munkres==1.1.4\n",
      "ndg-httpsclient==0.5.1\n",
      "netCDF4 @ file:///croot/netcdf4_1673455456943/work\n",
      "numba==0.55.2\n",
      "numpy @ file:///opt/conda/conda-bld/numpy_and_numpy_base_1652801679809/work\n",
      "oauthlib==3.2.2\n",
      "onnx==1.13.0\n",
      "onnxconverter-common==1.6.0\n",
      "onnxmltools==1.4.1\n",
      "onnxruntime==1.11.1\n",
      "opencensus==0.11.2\n",
      "opencensus-context==0.1.3\n",
      "opencensus-ext-azure==1.1.9\n",
      "packaging @ file:///croot/packaging_1671697413597/work\n",
      "pandas==1.1.5\n",
      "paramiko==3.1.0\n",
      "partd==1.4.0\n",
      "pathspec==0.11.1\n",
      "patsy==0.5.3\n",
      "Pillow==9.3.0\n",
      "pkginfo==1.9.6\n",
      "pkgutil_resolve_name==1.3.10\n",
      "pmdarima==1.8.0\n",
      "portalocker==2.7.0\n",
      "property-cached==1.6.4\n",
      "protobuf==3.20.3\n",
      "psutil @ file:///home/conda/feedstock_root/build_artifacts/psutil_1667885878918/work\n",
      "pyarrow==9.0.0\n",
      "pyasn1==0.5.0\n",
      "pyasn1-modules==0.3.0\n",
      "pycparser==2.21\n",
      "pydantic==1.10.7\n",
      "Pygments==2.15.1\n",
      "PyJWT==2.7.0\n",
      "PyMeeus @ file:///tmp/build/80754af9/pymeeus_1634069098549/work\n",
      "PyNaCl==1.5.0\n",
      "pyOpenSSL==23.1.1\n",
      "pyparsing @ file:///opt/conda/conda-bld/pyparsing_1661452539315/work\n",
      "pyrsistent==0.19.3\n",
      "PySocks==1.7.1\n",
      "pystan @ file:///tmp/build/80754af9/pystan_1613565232294/work\n",
      "python-dateutil @ file:///tmp/build/80754af9/python-dateutil_1626374649649/work\n",
      "pytz @ file:///croot/pytz_1671697431263/work\n",
      "PyYAML==6.0\n",
      "requests==2.30.0\n",
      "requests-oauthlib==1.3.1\n",
      "rsa==4.9\n",
      "s3transfer==0.5.2\n",
      "scikit-learn==0.22.1\n",
      "scipy==1.5.3\n",
      "SecretStorage==3.3.3\n",
      "shap==0.39.0\n",
      "six @ file:///tmp/build/80754af9/six_1644875935023/work\n",
      "skl2onnx==1.4.9\n",
      "sklearn-pandas==1.7.0\n",
      "slicer==0.0.7\n",
      "smart-open==1.9.0\n",
      "smmap==5.0.0\n",
      "sortedcontainers==2.4.0\n",
      "sqlparse==0.4.4\n",
      "statsmodels==0.11.1\n",
      "tabulate==0.9.0\n",
      "tblib==1.7.0\n",
      "termcolor==2.3.0\n",
      "toolz==0.12.0\n",
      "tornado==6.3.1\n",
      "tqdm @ file:///opt/conda/conda-bld/tqdm_1664392687731/work\n",
      "typing_extensions @ file:///croot/typing_extensions_1669924550328/work\n",
      "urllib3==1.26.15\n",
      "websocket-client==1.5.1\n",
      "Werkzeug==2.3.4\n",
      "wrapt==1.12.1\n",
      "xarray @ file:///opt/conda/conda-bld/xarray_1639166117697/work\n",
      "xgboost==1.3.3\n",
      "zict==3.0.0\n",
      "zipp==3.15.0\n",
      "\n",
      "2023-05-10T18:53:40,655576200+00:00 | gunicorn/run | \n",
      "2023-05-10T18:53:40,659990800+00:00 | gunicorn/run | ###############################################\n",
      "2023-05-10T18:53:40,661736400+00:00 | gunicorn/run | AzureML Inference Server\n",
      "2023-05-10T18:53:40,663429200+00:00 | gunicorn/run | ###############################################\n",
      "2023-05-10T18:53:40,669782100+00:00 | gunicorn/run | \n",
      "2023-05-10T18:53:44,487816575+00:00 | gunicorn/run | Starting AzureML Inference Server HTTP.\n",
      "2023-05-10 18:53:45,035 I [72] azmlinfsrv - Loaded logging config from /azureml-envs/azureml_399903ab218c6bc60c3ac2efb6ffbdcd/lib/python3.8/site-packages/azureml_inference_server_http/logging.json\n",
      "2023-05-10 18:53:45,463 I [72] gunicorn.error - Starting gunicorn 20.1.0\n",
      "2023-05-10 18:53:45,465 I [72] gunicorn.error - Listening at: http://0.0.0.0:31311 (72)\n",
      "2023-05-10 18:53:45,465 I [72] gunicorn.error - Using worker: sync\n",
      "2023-05-10 18:53:45,476 I [126] gunicorn.error - Booting worker with pid: 126\n",
      "Valid Application Insights instrumentation key provided.\n",
      "\n",
      "Azure ML Inferencing HTTP server v0.8.4\n",
      "\n",
      "\n",
      "Server Settings\n",
      "---------------\n",
      "Entry Script Name: /var/azureml-app/scoring_file_v_1_0_0.py\n",
      "Model Directory: /var/azureml-app/azureml-models/best-automl-model/1\n",
      "Config File: None\n",
      "Worker Count: 1\n",
      "Worker Timeout (seconds): 300\n",
      "Server Port: 31311\n",
      "Health Port: 31311\n",
      "Application Insights Enabled: true\n",
      "Application Insights Key: AppInsights key provided\n",
      "Inferencing HTTP server version: azmlinfsrv/0.8.4\n",
      "CORS for the specified origins: None\n",
      "Create dedicated endpoint for health: None\n",
      "\n",
      "\n",
      "Server Routes\n",
      "---------------\n",
      "Liveness Probe: GET   127.0.0.1:31311/\n",
      "Score:          POST  127.0.0.1:31311/score\n",
      "\n",
      "/azureml-envs/azureml_399903ab218c6bc60c3ac2efb6ffbdcd/lib/python3.8/site-packages/azureml_inference_server_http/server/config.py:51: FutureWarning: aliases are no longer used by BaseSettings to define which environment variables to read. Instead use the \"env\" field setting. See https://pydantic-docs.helpmanual.io/usage/settings/#environment-variable-names\n",
      "  class AMLInferenceServerConfig(pydantic.BaseSettings):\n",
      "2023-05-10 18:53:46,759 I [126] azmlinfsrv - AML_FLASK_ONE_COMPATIBILITY is set. Patched Flask to ensure compatibility with Flask 1.\n",
      "Initializing logger\n",
      "2023-05-10 18:53:46,770 I [126] azmlinfsrv - Starting up app insights client\n",
      "WARNING:opencensus.ext.azure.common:DeprecationWarning: Explicitly using instrumentation key isdeprecated. Please use a connection string instead.\n",
      "WARNING:opencensus.ext.azure.common:DeprecationWarning: Explicitly using instrumentation key isdeprecated. Please use a connection string instead.\n",
      "WARNING:opencensus.ext.azure.common:DeprecationWarning: Explicitly using instrumentation key isdeprecated. Please use a connection string instead.\n",
      "2023-05-10 18:53:53,283 I [126] azmlinfsrv.user_script - Found user script at /var/azureml-app/scoring_file_v_1_0_0.py\n",
      "2023-05-10 18:53:53,283 I [126] azmlinfsrv.user_script - run() is decorated with @input_schema. Server will invoke it with the following arguments: data, method.\n",
      "2023-05-10 18:53:53,283 I [126] azmlinfsrv.user_script - Invoking user's init function\n",
      "ERROR:fbprophet.plot:Importing plotly failed. Interactive plots will not work.\n",
      "2023-05-10 18:54:08,183 I [126] azmlinfsrv.user_script - Users's init has completed successfully\n",
      "2023-05-10 18:54:08,211 I [126] azmlinfsrv.swagger - Swaggers are prepared for the following versions: [2, 3, 3.1].\n",
      "2023-05-10 18:54:08,211 I [126] azmlinfsrv - Scoring timeout is set to 60000\n",
      "2023-05-10 18:54:08,233 W [126] azmlinfsrv - x-ms-request-id header has been deprecated and will be removed from future versions of the server. Please use x-ms-client-request-id.\n",
      "2023-05-10 18:54:08,235 I [126] gunicorn.access - 127.0.0.1 - - [10/May/2023:18:54:08 +0000] \"GET / HTTP/1.0\" 200 7 \"-\" \"Go-http-client/1.1\"\n",
      "2023-05-10 18:54:08,245 W [126] azmlinfsrv - x-ms-request-id header has been deprecated and will be removed from future versions of the server. Please use x-ms-client-request-id.\n",
      "2023-05-10 18:54:08,247 I [126] gunicorn.access - 127.0.0.1 - - [10/May/2023:18:54:08 +0000] \"GET / HTTP/1.0\" 200 7 \"-\" \"Go-http-client/1.1\"\n",
      "2023-05-10 18:54:08,248 W [126] azmlinfsrv - x-ms-request-id header has been deprecated and will be removed from future versions of the server. Please use x-ms-client-request-id.\n",
      "2023-05-10 18:54:08,250 I [126] gunicorn.access - 127.0.0.1 - - [10/May/2023:18:54:08 +0000] \"GET / HTTP/1.0\" 200 7 \"-\" \"Go-http-client/1.1\"\n",
      "2023-05-10 18:54:09,368 I [126] gunicorn.access - 127.0.0.1 - - [10/May/2023:18:54:09 +0000] \"GET / HTTP/1.0\" 200 7 \"-\" \"curl/7.58.0\"\n",
      "2023-05-10 18:54:19,657 W [126] azmlinfsrv - x-ms-request-id header has been deprecated and will be removed from future versions of the server. Please use x-ms-client-request-id.\n",
      "2023-05-10 18:54:19,660 I [126] gunicorn.access - 127.0.0.1 - - [10/May/2023:18:54:19 +0000] \"GET / HTTP/1.0\" 200 7 \"-\" \"Go-http-client/1.1\"\n",
      "2023-05-10 18:54:19,669 W [126] azmlinfsrv - x-ms-request-id header has been deprecated and will be removed from future versions of the server. Please use x-ms-client-request-id.\n",
      "2023-05-10 18:54:19,672 I [126] azmlinfsrv - GET /swagger.json 200 2.652ms 3168\n",
      "2023-05-10 18:54:19,677 I [126] gunicorn.access - 127.0.0.1 - - [10/May/2023:18:54:19 +0000] \"GET /swagger.json HTTP/1.0\" 200 3168 \"-\" \"Go-http-client/1.1\"\n",
      "2023-05-10 18:54:21,740 W [126] azmlinfsrv - x-ms-request-id header has been deprecated and will be removed from future versions of the server. Please use x-ms-client-request-id.\n",
      "2023-05-10 18:54:21,741 I [126] gunicorn.access - 127.0.0.1 - - [10/May/2023:18:54:21 +0000] \"GET / HTTP/1.0\" 200 7 \"-\" \"Go-http-client/1.1\"\n",
      "2023-05-10 18:54:21,746 W [126] azmlinfsrv - x-ms-request-id header has been deprecated and will be removed from future versions of the server. Please use x-ms-client-request-id.\n",
      "2023-05-10 18:54:21,747 I [126] azmlinfsrv - GET /swagger.json 200 0.831ms 3168\n",
      "2023-05-10 18:54:21,748 I [126] gunicorn.access - 127.0.0.1 - - [10/May/2023:18:54:21 +0000] \"GET /swagger.json HTTP/1.0\" 200 3168 \"-\" \"Go-http-client/1.1\"\n",
      "2023-05-10 19:09:08,063 W [126] azmlinfsrv - x-ms-request-id header has been deprecated and will be removed from future versions of the server. Please use x-ms-client-request-id.\n",
      "2023-05-10 19:09:08,067 I [126] gunicorn.access - 127.0.0.1 - - [10/May/2023:19:09:08 +0000] \"GET / HTTP/1.0\" 200 7 \"-\" \"Go-http-client/1.1\"\n",
      "2023-05-10 19:09:08,077 W [126] azmlinfsrv - x-ms-request-id header has been deprecated and will be removed from future versions of the server. Please use x-ms-client-request-id.\n",
      "2023-05-10 19:09:08,078 I [126] azmlinfsrv - GET /swagger.json 200 1.522ms 3168\n",
      "2023-05-10 19:09:08,084 I [126] gunicorn.access - 127.0.0.1 - - [10/May/2023:19:09:08 +0000] \"GET /swagger.json HTTP/1.0\" 200 3168 \"-\" \"Go-http-client/1.1\"\n",
      "2023-05-10 19:09:29,306 W [126] azmlinfsrv - x-ms-request-id header has been deprecated and will be removed from future versions of the server. Please use x-ms-client-request-id.\n",
      "2023-05-10 19:09:29,307 I [126] azmlinfsrv - GET /swagger.json 200 0.527ms 3168\n",
      "2023-05-10 19:09:29,308 I [126] gunicorn.access - 127.0.0.1 - - [10/May/2023:19:09:29 +0000] \"GET /swagger.json HTTP/1.0\" 200 3168 \"-\" \"Go-http-client/1.1\"\n",
      "2023-05-10 19:09:51,120 W [126] azmlinfsrv - x-ms-request-id header has been deprecated and will be removed from future versions of the server. Please use x-ms-client-request-id.\n",
      "2023-05-10 19:09:51,120 I [126] azmlinfsrv - GET /swagger.json 200 0.726ms 3168\n",
      "2023-05-10 19:09:51,122 I [126] gunicorn.access - 127.0.0.1 - - [10/May/2023:19:09:51 +0000] \"GET /swagger.json HTTP/1.0\" 200 3168 \"-\" \"Go-http-client/1.1\"\n",
      "2023-05-10 19:09:51,936 W [126] azmlinfsrv - x-ms-request-id header has been deprecated and will be removed from future versions of the server. Please use x-ms-client-request-id.\n",
      "2023-05-10 19:09:51,937 I [126] azmlinfsrv - GET /swagger.json 200 1.407ms 3168\n",
      "2023-05-10 19:09:51,939 I [126] gunicorn.access - 127.0.0.1 - - [10/May/2023:19:09:51 +0000] \"GET /swagger.json HTTP/1.0\" 200 3168 \"-\" \"Go-http-client/1.1\"\n",
      "2023-05-10 19:16:11,711 I [126] gunicorn.access - 127.0.0.1 - - [10/May/2023:19:16:11 +0000] \"GET /manager/html HTTP/1.0\" 404 135 \"-\" \"Go-http-client/1.1\"\n",
      "2023-05-10 19:39:07,538 W [126] azmlinfsrv - x-ms-request-id header has been deprecated and will be removed from future versions of the server. Please use x-ms-client-request-id.\n",
      "2023-05-10 19:39:07,887 I [126] azmlinfsrv - POST /score 200 349.528ms 19\n",
      "2023-05-10 19:39:07,898 I [126] gunicorn.access - 127.0.0.1 - - [10/May/2023:19:39:07 +0000] \"POST /score HTTP/1.0\" 200 19 \"-\" \"python-requests/2.28.2\"\n",
      "2023-05-10 19:39:46,732 W [126] azmlinfsrv - x-ms-request-id header has been deprecated and will be removed from future versions of the server. Please use x-ms-client-request-id.\n",
      "2023-05-10 19:39:46,738 I [126] gunicorn.access - 127.0.0.1 - - [10/May/2023:19:39:46 +0000] \"GET / HTTP/1.0\" 200 7 \"-\" \"Go-http-client/1.1\"\n",
      "2023-05-10 19:39:46,760 W [126] azmlinfsrv - x-ms-request-id header has been deprecated and will be removed from future versions of the server. Please use x-ms-client-request-id.\n",
      "2023-05-10 19:39:46,762 I [126] azmlinfsrv - GET /swagger.json 200 1.631ms 3168\n",
      "2023-05-10 19:39:46,768 I [126] gunicorn.access - 127.0.0.1 - - [10/May/2023:19:39:46 +0000] \"GET /swagger.json HTTP/1.0\" 200 3168 \"-\" \"Go-http-client/1.1\"\n",
      "2023-05-10 19:40:02,283 W [126] azmlinfsrv - x-ms-request-id header has been deprecated and will be removed from future versions of the server. Please use x-ms-client-request-id.\n",
      "2023-05-10 19:40:02,286 I [126] azmlinfsrv - GET /swagger.json 200 2.693ms 3168\n",
      "2023-05-10 19:40:02,290 I [126] gunicorn.access - 127.0.0.1 - - [10/May/2023:19:40:02 +0000] \"GET /swagger.json HTTP/1.0\" 200 3168 \"-\" \"Go-http-client/1.1\"\n",
      "2023-05-10 19:40:34,705 W [126] azmlinfsrv - x-ms-request-id header has been deprecated and will be removed from future versions of the server. Please use x-ms-client-request-id.\n",
      "2023-05-10 19:40:34,706 I [126] azmlinfsrv - GET /swagger.json 200 1.719ms 3168\n",
      "2023-05-10 19:40:34,712 I [126] gunicorn.access - 127.0.0.1 - - [10/May/2023:19:40:34 +0000] \"GET /swagger.json HTTP/1.0\" 200 3168 \"-\" \"Go-http-client/1.1\"\n",
      "2023-05-10 19:41:38,069 W [126] azmlinfsrv - x-ms-request-id header has been deprecated and will be removed from future versions of the server. Please use x-ms-client-request-id.\n",
      "2023-05-10 19:41:38,282 I [126] azmlinfsrv - POST /score 200 213.581ms 19\n",
      "2023-05-10 19:41:38,284 I [126] gunicorn.access - 127.0.0.1 - - [10/May/2023:19:41:38 +0000] \"POST /score HTTP/1.0\" 200 19 \"-\" \"Python-urllib/3.8\"\n",
      "2023-05-10 19:42:26,163 W [126] azmlinfsrv - x-ms-request-id header has been deprecated and will be removed from future versions of the server. Please use x-ms-client-request-id.\n",
      "2023-05-10 19:42:26,165 I [126] azmlinfsrv - GET /swagger.json 200 1.911ms 3168\n",
      "2023-05-10 19:42:26,168 I [126] gunicorn.access - 127.0.0.1 - - [10/May/2023:19:42:26 +0000] \"GET /swagger.json HTTP/1.0\" 200 3168 \"-\" \"Go-http-client/1.1\"\n",
      "2023-05-10 19:42:29,969 W [126] azmlinfsrv - x-ms-request-id header has been deprecated and will be removed from future versions of the server. Please use x-ms-client-request-id.\n",
      "2023-05-10 19:42:29,970 I [126] azmlinfsrv - GET /swagger.json 200 0.984ms 3168\n",
      "2023-05-10 19:42:29,977 I [126] gunicorn.access - 127.0.0.1 - - [10/May/2023:19:42:29 +0000] \"GET /swagger.json HTTP/1.0\" 200 3168 \"-\" \"Go-http-client/1.1\"\n",
      "\n"
     ]
    }
   ],
   "source": [
    "logs = service.get_logs()\n",
    "for line in logs.split('\\n'):\n",
    "    print(line)"
   ]
  },
  {
   "cell_type": "code",
   "execution_count": null,
   "metadata": {},
   "outputs": [],
   "source": [
    "# Delete the Webservice and Compute Cluster\n",
    "service.delete()\n",
    "compute_target.delete()"
   ]
  },
  {
   "cell_type": "markdown",
   "metadata": {},
   "source": [
    "**Submission Checklist**\n",
    "- I have registered the model.\n",
    "- I have deployed the model with the best accuracy as a webservice.\n",
    "- I have tested the webservice by sending a request to the model endpoint.\n",
    "- I have deleted the webservice and shutdown all the computes that I have used.\n",
    "- I have taken a screenshot showing the model endpoint as active.\n",
    "- The project includes a file containing the environment details.\n"
   ]
  },
  {
   "cell_type": "markdown",
   "metadata": {},
   "source": []
  }
 ],
 "metadata": {
  "kernel_info": {
   "name": "python3-azureml"
  },
  "kernelspec": {
   "display_name": "Python 3.8 - AzureML",
   "language": "python",
   "name": "python38-azureml"
  },
  "language_info": {
   "codemirror_mode": {
    "name": "ipython",
    "version": 3
   },
   "file_extension": ".py",
   "mimetype": "text/x-python",
   "name": "python",
   "nbconvert_exporter": "python",
   "pygments_lexer": "ipython3",
   "version": "3.8.5"
  },
  "nteract": {
   "version": "nteract-front-end@1.0.0"
  }
 },
 "nbformat": 4,
 "nbformat_minor": 4
}
